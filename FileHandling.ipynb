{
 "cells": [
  {
   "cell_type": "code",
   "execution_count": null,
   "id": "476a31d1-f6b6-4387-b304-054b2b626002",
   "metadata": {},
   "outputs": [],
   "source": [
    "#File Handling\n",
    "\n",
    "File hnadling in python involves performing operations like reading from and writing to files."
   ]
  },
  {
   "cell_type": "code",
   "execution_count": null,
   "id": "32184d3b-3d08-497b-98d6-dacef186cde0",
   "metadata": {},
   "outputs": [],
   "source": [
    "#opening a file\n",
    "\n",
    "We use open() function.\n",
    "This function requires atlest one argument: The name of the file to be opened.\n",
    "You can also specify the mode in which the file should be opened.\n",
    "\n",
    "command modes include:\n",
    "'r' - read(default mode)\n",
    "'w' - write(creates a newfile or truncates the existing file)\n",
    "'a' - Append(adds content to the end of the file)\n",
    "'b' - binary mode(eg: 'rb' or 'wd' for reading/writing/binary files)\n",
    "'t' - text mode(default, eg. 'rt' or 'wt' for reading/writing text files)\n",
    "\n",
    "#opening a file for reading(default mode)\n",
    "file = open('python.txt','r')"
   ]
  },
  {
   "cell_type": "code",
   "execution_count": null,
   "id": "d5c97897-4729-4c21-bfc0-9da1f96620f5",
   "metadata": {},
   "outputs": [],
   "source": [
    "#Reading from a file:\n",
    "\n",
    "There are several methods to read from a file:\n",
    "read() - Reads the entire file.\n",
    "readline() - Read one line at a time\n",
    "readlines() - Reads all the lines and returns them as a list.\n",
    "\n",
    "#Reading the entire file.\n",
    "content = file.read()\n",
    "print(content)\n",
    "#Reading line by line\n",
    "line = file.readline()\n",
    "while line: \n",
    "    print(line, end = '')\n",
    "    line = file.readline()\n",
    "#Reading all lines into a list.\n",
    "line = file.readlines()\n",
    "print(lines)"
   ]
  },
  {
   "cell_type": "code",
   "execution_count": null,
   "id": "d1960808-9af7-40be-a7f4-1052ebd50df9",
   "metadata": {},
   "outputs": [],
   "source": [
    "#Writing to a file:\n",
    "\n",
    "To write to a file, open it in write('W'), append('a'), or binary write('wb') mode. use the write() or writelines() method.\n",
    "\n",
    "#opening a file for writing (creates a new file or truncates the existing file)\n",
    "\n",
    "file = open('python.txt'. 'a')\n",
    "\n",
    "#writing a single line\n",
    "            file.write('Hello, Bindu Say hi! \\n')\n",
    "\n",
    "#writing multiple lines\n",
    "            lines = ['First\\n', 'Second\\n', 'Third\\n']\n",
    "            file.writelines(lines)\n"
   ]
  },
  {
   "cell_type": "code",
   "execution_count": null,
   "id": "0dad8e25-0f2b-4261-8b0e-00eb624a32d0",
   "metadata": {},
   "outputs": [],
   "source": [
    "#Closing a File:\n",
    "\n",
    "Always close a file after completing operations to free up system resources.\n",
    "\n",
    "file.close()"
   ]
  },
  {
   "cell_type": "code",
   "execution_count": null,
   "id": "e863a4e1-eb35-4c77-a4eb-bebe3902f8c5",
   "metadata": {},
   "outputs": [],
   "source": [
    "#Exception Handling in Files:\n",
    "\n",
    "If an exception occurs when we are performing some operation with the file, the code exixts without closing the file.\n",
    "\n",
    "A safer way is to use a try....finally block.\n",
    "\n",
    "The try...except block is used to handle exception in python.\n",
    "\n",
    "Here's the syntax of try...except block:\n",
    "try:\n",
    "    #code that may cause exception.\n",
    "except:\n",
    "    #code to run when exception occurs.\n",
    "    \n"
   ]
  },
  {
   "cell_type": "code",
   "execution_count": 1,
   "id": "bdff7324-285d-4cd0-9dcb-c22ffd81fd97",
   "metadata": {},
   "outputs": [
    {
     "name": "stdout",
     "output_type": "stream",
     "text": [
      "xdgtrytjukhujlujhyhtdgrdrwererhhgkiykgfgdssddbhg\n"
     ]
    }
   ],
   "source": [
    "try:\n",
    "    file1 =open(\"python.txt\", \"r\")\n",
    "    read_content = file1.read()\n",
    "    print(read_content)\n",
    "finally:\n",
    "    file1.close()"
   ]
  },
  {
   "cell_type": "code",
   "execution_count": 7,
   "id": "c1b4cba4-ec55-4e77-9153-3b6c613ac9f0",
   "metadata": {},
   "outputs": [
    {
     "name": "stdout",
     "output_type": "stream",
     "text": [
      "Error : Denominator cannot be 0\n"
     ]
    }
   ],
   "source": [
    "try:\n",
    "    numerator  = 10\n",
    "    denominator = 0\n",
    "    result = numerator/denominator\n",
    "    print(result)\n",
    "except: \n",
    "    print(\"Error : Denominator cannot be 0\")"
   ]
  },
  {
   "cell_type": "code",
   "execution_count": 3,
   "id": "0f3cdfc0-c64e-4463-b9d2-20838559d253",
   "metadata": {},
   "outputs": [
    {
     "name": "stdout",
     "output_type": "stream",
     "text": [
      "xdgtrytjukhujlujhyhtdgrdrwererhhgkiykgfgdssddbhg\n"
     ]
    }
   ],
   "source": [
    "f = open(\"python.txt\", \"r\")\n",
    "print(f.read())"
   ]
  },
  {
   "cell_type": "code",
   "execution_count": null,
   "id": "7e2f0f64-a031-4da4-9da1-5d630f2e5a39",
   "metadata": {},
   "outputs": [],
   "source": []
  }
 ],
 "metadata": {
  "kernelspec": {
   "display_name": "Python 3 (ipykernel)",
   "language": "python",
   "name": "python3"
  },
  "language_info": {
   "codemirror_mode": {
    "name": "ipython",
    "version": 3
   },
   "file_extension": ".py",
   "mimetype": "text/x-python",
   "name": "python",
   "nbconvert_exporter": "python",
   "pygments_lexer": "ipython3",
   "version": "3.12.4"
  }
 },
 "nbformat": 4,
 "nbformat_minor": 5
}
