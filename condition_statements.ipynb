{
 "cells": [
  {
   "cell_type": "code",
   "execution_count": 1,
   "id": "572ff900-f5f2-49cc-a930-5fcc6090695c",
   "metadata": {},
   "outputs": [
    {
     "name": "stdout",
     "output_type": "stream",
     "text": [
      "Number is positive\n"
     ]
    }
   ],
   "source": [
    "#python control statements\n",
    "\n",
    "#1. Python if statement:\n",
    "\n",
    "#syntax: \n",
    "'''if condition : \n",
    "        body of the if statement'''\n",
    "\n",
    "number = 43\n",
    "#check if number is greater then 0\n",
    "if number > 0 : #if condition is true it will return the body statement\n",
    "    print(\"Number is positive\")"
   ]
  },
  {
   "cell_type": "code",
   "execution_count": 5,
   "id": "63829081-9191-483b-87fe-212592d73256",
   "metadata": {},
   "outputs": [
    {
     "name": "stdout",
     "output_type": "stream",
     "text": [
      "b is greater than a\n"
     ]
    }
   ],
   "source": [
    "#eg : \n",
    "\n",
    "a = 33\n",
    "b = 200\n",
    "if b > a:\n",
    "    print(\"b is greater than a\")"
   ]
  },
  {
   "cell_type": "code",
   "execution_count": 7,
   "id": "08b12d39-97d5-43c9-9360-6a1e932e79ab",
   "metadata": {},
   "outputs": [
    {
     "name": "stdout",
     "output_type": "stream",
     "text": [
      "Negative Number\n"
     ]
    }
   ],
   "source": [
    "#2. Python else statement:\n",
    "\n",
    "#syntax: \n",
    "'''if condition: \n",
    "              body of if system\n",
    "         else:\n",
    "              body of else system'''\n",
    "number = -10\n",
    "if number >0:\n",
    "    print(\"positive number\")\n",
    "else:\n",
    "    print(\"Negative Number\")\n",
    "        "
   ]
  },
  {
   "cell_type": "code",
   "execution_count": 9,
   "id": "328be957-f6ad-47f3-80fe-2f2ec34af57c",
   "metadata": {},
   "outputs": [
    {
     "name": "stdout",
     "output_type": "stream",
     "text": [
      "a is greater than b\n"
     ]
    }
   ],
   "source": [
    "#eg: \n",
    "\n",
    "a = 340\n",
    "b = 33\n",
    "if b > a:\n",
    "  print(\"b is greater than a\")\n",
    "elif a == b:\n",
    "  print(\"a and b are equal\")\n",
    "else:\n",
    "  print(\"a is greater than b\")"
   ]
  },
  {
   "cell_type": "code",
   "execution_count": 13,
   "id": "f20ae169-2979-4cc7-9f30-e68ff06883f0",
   "metadata": {},
   "outputs": [
    {
     "name": "stdout",
     "output_type": "stream",
     "text": [
      "Zero\n"
     ]
    }
   ],
   "source": [
    "#3. python elif statement:\n",
    "\n",
    "#syntax :\n",
    "\n",
    "'''if condition:\n",
    "      body of if statement\n",
    "   elif condition:\n",
    "      body of elif statement\n",
    "   else condition:\n",
    "      body of else statement'''\n",
    "\n",
    "num = 0\n",
    "if num >0 :\n",
    "    print(\"positive number\")\n",
    "elif num < 0 :\n",
    "    print(\"Negative number\")\n",
    "else:\n",
    "    print(\"Zero\")"
   ]
  },
  {
   "cell_type": "code",
   "execution_count": 15,
   "id": "3fb61b6b-01bb-4f60-9c76-f96f548e77c8",
   "metadata": {},
   "outputs": [
    {
     "name": "stdin",
     "output_type": "stream",
     "text": [
      "Enter your score 48\n"
     ]
    },
    {
     "name": "stdout",
     "output_type": "stream",
     "text": [
      "Your Grade is F\n"
     ]
    }
   ],
   "source": [
    "#eg: \n",
    "\n",
    "score = int(input(\"Enter your score\"))\n",
    "if score>= 90:\n",
    "    grade = 'A'\n",
    "elif score>= 80:\n",
    "    grade = 'B'\n",
    "elif score>= 70:\n",
    "    grade = 'C'\n",
    "elif score>= 60:\n",
    "    grade = 'D'\n",
    "else:\n",
    "    grade = 'F'\n",
    "print(f\"Your Grade is {grade}\")\n",
    "#print(\"Grade:\", grade)"
   ]
  },
  {
   "cell_type": "code",
   "execution_count": null,
   "id": "5649f7f9-15e5-4350-80a3-d73600eff9b3",
   "metadata": {},
   "outputs": [],
   "source": []
  }
 ],
 "metadata": {
  "kernelspec": {
   "display_name": "Python 3 (ipykernel)",
   "language": "python",
   "name": "python3"
  },
  "language_info": {
   "codemirror_mode": {
    "name": "ipython",
    "version": 3
   },
   "file_extension": ".py",
   "mimetype": "text/x-python",
   "name": "python",
   "nbconvert_exporter": "python",
   "pygments_lexer": "ipython3",
   "version": "3.12.4"
  }
 },
 "nbformat": 4,
 "nbformat_minor": 5
}
