{
 "cells": [
  {
   "cell_type": "code",
   "execution_count": 1,
   "id": "2a85d2c2-2a3c-450d-aafc-ffecd6bdb6d7",
   "metadata": {},
   "outputs": [
    {
     "name": "stdout",
     "output_type": "stream",
     "text": [
      "1\n",
      "2\n",
      "3\n",
      "4\n",
      "5\n"
     ]
    }
   ],
   "source": [
    "#Loop Statements: \n",
    "\n",
    "#1. While loop:\n",
    "\n",
    "#syntax:\n",
    "\n",
    "'''while condition :\n",
    "      body of the while condition'''\n",
    "\n",
    "#program to display numbers from 1 to 5\n",
    "i = 1\n",
    "while i <=5:\n",
    "    print(i)\n",
    "    i= i+1"
   ]
  },
  {
   "cell_type": "code",
   "execution_count": 3,
   "id": "d0f122ed-90e4-4e3e-86e2-88184bc9e158",
   "metadata": {},
   "outputs": [
    {
     "name": "stdout",
     "output_type": "stream",
     "text": [
      "1\n",
      "2\n",
      "3\n"
     ]
    }
   ],
   "source": [
    "#eg :\n",
    "i = 1\n",
    "while i < 6:\n",
    "  print(i)\n",
    "  if i == 3:\n",
    "    break\n",
    "  i = i+1"
   ]
  },
  {
   "cell_type": "code",
   "execution_count": 11,
   "id": "02837371-ac8b-41a5-b484-64006e54dc45",
   "metadata": {},
   "outputs": [
    {
     "name": "stdout",
     "output_type": "stream",
     "text": [
      "p\n",
      "y\n",
      "t\n",
      "h\n",
      "o\n",
      "n\n"
     ]
    }
   ],
   "source": [
    "#2. for loop:\n",
    "\n",
    "#syntax:\n",
    "\n",
    "'''for val in sequence :\n",
    "      statements'''\n",
    "#iterate over each character in language\n",
    "language = 'python'\n",
    "for x in language:\n",
    "    print(x)"
   ]
  },
  {
   "cell_type": "code",
   "execution_count": 9,
   "id": "44886f80-48e8-4869-ab6d-49dbbba1b791",
   "metadata": {},
   "outputs": [
    {
     "name": "stdout",
     "output_type": "stream",
     "text": [
      "apple\n",
      "banana\n",
      "orange\n"
     ]
    }
   ],
   "source": [
    "#iterate over a list \n",
    "fruits = ['apple', 'banana', 'orange']\n",
    "for fruit in fruits:\n",
    "    print(fruit)"
   ]
  },
  {
   "cell_type": "code",
   "execution_count": 13,
   "id": "eb7929a6-fe76-4e3f-8166-d729208069ef",
   "metadata": {},
   "outputs": [
    {
     "name": "stdout",
     "output_type": "stream",
     "text": [
      "1\n",
      "2\n",
      "3\n",
      "4\n",
      "5\n",
      "6\n",
      "7\n",
      "8\n",
      "9\n"
     ]
    }
   ],
   "source": [
    "#iterate over a range \n",
    "\n",
    "for number in range(1,10):\n",
    "    print(number)"
   ]
  },
  {
   "cell_type": "code",
   "execution_count": 21,
   "id": "e6c8ba8a-8cfd-4e16-b8fb-fec73e820141",
   "metadata": {},
   "outputs": [
    {
     "ename": "ValueError",
     "evalue": "too many values to unpack (expected 2)",
     "output_type": "error",
     "traceback": [
      "\u001b[1;31m---------------------------------------------------------------------------\u001b[0m",
      "\u001b[1;31mValueError\u001b[0m                                Traceback (most recent call last)",
      "Cell \u001b[1;32mIn[21], line 4\u001b[0m\n\u001b[0;32m      1\u001b[0m \u001b[38;5;66;03m#iterate over a dictionary\u001b[39;00m\n\u001b[0;32m      3\u001b[0m student_grades \u001b[38;5;241m=\u001b[39m{\u001b[38;5;124m'\u001b[39m\u001b[38;5;124mhima\u001b[39m\u001b[38;5;124m'\u001b[39m: \u001b[38;5;241m90\u001b[39m, \u001b[38;5;124m'\u001b[39m\u001b[38;5;124msekhar\u001b[39m\u001b[38;5;124m'\u001b[39m: \u001b[38;5;241m92\u001b[39m, \u001b[38;5;124m'\u001b[39m\u001b[38;5;124mpriya\u001b[39m\u001b[38;5;124m'\u001b[39m: \u001b[38;5;241m86\u001b[39m, \u001b[38;5;124m'\u001b[39m\u001b[38;5;124mbindu\u001b[39m\u001b[38;5;124m'\u001b[39m: \u001b[38;5;241m78\u001b[39m}\n\u001b[1;32m----> 4\u001b[0m \u001b[38;5;28;01mfor\u001b[39;00m name,grade \u001b[38;5;129;01min\u001b[39;00m student_grades:\n\u001b[0;32m      5\u001b[0m     \u001b[38;5;28mprint\u001b[39m(\u001b[38;5;124mf\u001b[39m\u001b[38;5;124m\"\u001b[39m\u001b[38;5;132;01m{\u001b[39;00mname\u001b[38;5;132;01m}\u001b[39;00m\u001b[38;5;124m'\u001b[39m\u001b[38;5;124ms grade is \u001b[39m\u001b[38;5;132;01m{\u001b[39;00mgrade\u001b[38;5;132;01m}\u001b[39;00m\u001b[38;5;124m\"\u001b[39m)\n",
      "\u001b[1;31mValueError\u001b[0m: too many values to unpack (expected 2)"
     ]
    }
   ],
   "source": [
    "#iterate over a dictionary\n",
    "\n",
    "student_grades = {'hima': 90, 'sekhar': 92, 'priya': 86, 'bindu': 78}\n",
    "for name,grade in student_grades:\n",
    "    print(f\"{name}'s grade is {grade}\")"
   ]
  },
  {
   "cell_type": "code",
   "execution_count": null,
   "id": "ab14dc5e-bb35-4aa8-8c87-34243b197abe",
   "metadata": {},
   "outputs": [],
   "source": []
  }
 ],
 "metadata": {
  "kernelspec": {
   "display_name": "Python 3 (ipykernel)",
   "language": "python",
   "name": "python3"
  },
  "language_info": {
   "codemirror_mode": {
    "name": "ipython",
    "version": 3
   },
   "file_extension": ".py",
   "mimetype": "text/x-python",
   "name": "python",
   "nbconvert_exporter": "python",
   "pygments_lexer": "ipython3",
   "version": "3.12.4"
  }
 },
 "nbformat": 4,
 "nbformat_minor": 5
}
