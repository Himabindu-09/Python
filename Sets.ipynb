{
 "cells": [
  {
   "cell_type": "code",
   "execution_count": 27,
   "id": "df292b3a-40f2-4d0c-a5e8-2d29aebfdd1b",
   "metadata": {},
   "outputs": [
    {
     "name": "stdout",
     "output_type": "stream",
     "text": [
      "{1, 2, 3, 4, 5}\n",
      "<class 'set'>\n",
      "{32, 2, 4, 5, 68, 7, 9, 73, 78, 56}\n",
      "{True, 2, 'banana', 'apple', 'cherry'}\n"
     ]
    }
   ],
   "source": [
    "#Python Sets\n",
    "#Creating Sets\n",
    "\n",
    "#Creating empty Sets\n",
    "#empty_set = set()\n",
    "\n",
    "#Creating a set with elements\n",
    "fruits = {'apple', 'orange', 'banana'}\n",
    "\n",
    "#Converting a list to a set\n",
    "numbers = set([1,2,3,4,5])\n",
    "print(numbers)\n",
    "print(type(fruits))\n",
    "\n",
    "#Duplicate items in a set\n",
    "\n",
    "numbers = {9,9,56,2,4,68,56,2,68,78,73,32,9,5,7,2,7,78,56}\n",
    "print(numbers)\n",
    "\n",
    "\n",
    "set = {\"apple\", \"banana\", \"cherry\", True, 1, 2}\n",
    "print(set)"
   ]
  },
  {
   "cell_type": "code",
   "execution_count": 11,
   "id": "9c0fdd91-eccb-4da0-9716-dde6e9833d44",
   "metadata": {},
   "outputs": [
    {
     "name": "stdout",
     "output_type": "stream",
     "text": [
      "Initial set : {34, 67, 12, 45, 21, 54, 87, 90}\n",
      "updated set: {65, 34, 67, 12, 45, 21, 54, 87, 90}\n"
     ]
    }
   ],
   "source": [
    "#Add and update set items in python:\n",
    "\n",
    "#1. Add items to a set in python\n",
    "numbers = {21,67,45,34,54,12,67,87,90}\n",
    "print('Initial set :', numbers)\n",
    "#using add() method\n",
    "numbers.add(65)\n",
    "print('updated set:', numbers)"
   ]
  },
  {
   "cell_type": "code",
   "execution_count": 13,
   "id": "9d39d987-0ab8-40b7-a406-5846afe1bd4a",
   "metadata": {},
   "outputs": [
    {
     "name": "stdout",
     "output_type": "stream",
     "text": [
      "{'apple', 'microsoft', 'facebook', 'google'}\n"
     ]
    }
   ],
   "source": [
    "#2. Update python set\n",
    "tech_companies = {'apple', 'google', 'apple'}\n",
    "companies = {'microsoft', 'facebook'}\n",
    "update_companies = companies.update(tech_companies)\n",
    "print(companies)"
   ]
  },
  {
   "cell_type": "code",
   "execution_count": 21,
   "id": "77409932-d803-4d4b-a7e7-4c6ac9d188e0",
   "metadata": {},
   "outputs": [
    {
     "name": "stdout",
     "output_type": "stream",
     "text": [
      "set after remove(): {'c', 'python'}\n"
     ]
    }
   ],
   "source": [
    "#3. Remove an element from set\n",
    "languages = {'java', 'c', 'python'}\n",
    "#removed_value = languages.discard('java')\n",
    "removed_value = languages.remove('java')\n",
    "print('set after remove():', languages)\n"
   ]
  },
  {
   "cell_type": "code",
   "execution_count": 25,
   "id": "c384d5a1-61ba-4f84-ab2e-28348e610ac1",
   "metadata": {},
   "outputs": [
    {
     "name": "stdout",
     "output_type": "stream",
     "text": [
      "set: {2, 4, 6, 8, 10, 12, 14, 16, 18}\n",
      "Total Elements: 9\n"
     ]
    }
   ],
   "source": [
    "#finding the length of a set\n",
    "even_numbers = {2,4,6,8,10,12,14,12,16,18}\n",
    "print('set:', even_numbers)\n",
    "#find number of elements \n",
    "print('Total Elements:', len(even_numbers))\n"
   ]
  },
  {
   "cell_type": "code",
   "execution_count": 31,
   "id": "82263ed2-ff00-4ab0-80e4-a5955e0d3f20",
   "metadata": {},
   "outputs": [
    {
     "name": "stdout",
     "output_type": "stream",
     "text": [
      "3\n"
     ]
    }
   ],
   "source": [
    "set1 = {\"apple\", \"banana\", \"cherry\"}\n",
    "print(len(set1))"
   ]
  },
  {
   "cell_type": "code",
   "execution_count": 47,
   "id": "7878d69d-a22a-42c0-be2f-622b9d27ee31",
   "metadata": {},
   "outputs": [
    {
     "name": "stdout",
     "output_type": "stream",
     "text": [
      "apple\n",
      "cherry\n",
      "banana\n",
      "True\n"
     ]
    }
   ],
   "source": [
    "#Accessing set items\n",
    "\n",
    "myset = {\"apple\", \"banana\", \"cherry\"}\n",
    "\n",
    "for x in myset:\n",
    "   print(x)\n",
    "print(\"banana\" in myset)"
   ]
  },
  {
   "cell_type": "code",
   "execution_count": 63,
   "id": "576b7c78-e4e1-4546-9680-e63c7fc1f18d",
   "metadata": {},
   "outputs": [
    {
     "name": "stdout",
     "output_type": "stream",
     "text": [
      "set()\n"
     ]
    }
   ],
   "source": [
    "#clear / deleting the set \n",
    "\n",
    "myset = {\"apple\", \"banana\", \"cherry\"}\n",
    "myset.clear()\n",
    "print(myset)"
   ]
  },
  {
   "cell_type": "code",
   "execution_count": 73,
   "id": "42aa784e-593f-4d73-96fb-7a6252c07da3",
   "metadata": {},
   "outputs": [
    {
     "name": "stdout",
     "output_type": "stream",
     "text": [
      "union using |: {0, 1, 2, 3, 4, 5, 7, 8}\n",
      "union using union(): {0, 1, 2, 3, 4, 5, 7, 8}\n"
     ]
    }
   ],
   "source": [
    "#set operations\n",
    "\n",
    "#1. union of two sets\n",
    "\n",
    "a ={1,3,7,8,5}\n",
    "b = {0,2,4}\n",
    "#perform union operation using  |:\n",
    "print(\"union using |:\", a|b)\n",
    "#perform union operation using union():\n",
    "print(\"union using union():\",a.union(b))"
   ]
  },
  {
   "cell_type": "code",
   "execution_count": 75,
   "id": "2504b942-026f-4a1e-9ed4-1ec2c5803cd9",
   "metadata": {},
   "outputs": [
    {
     "name": "stdout",
     "output_type": "stream",
     "text": [
      "{1, 2, 3, 'b', 'c', 'a'}\n"
     ]
    }
   ],
   "source": [
    "#eg \n",
    "set1 = {\"a\", \"b\", \"c\"}\n",
    "set2 = {1, 2, 3}\n",
    "\n",
    "set3 = set1 | set2\n",
    "print(set3)"
   ]
  },
  {
   "cell_type": "code",
   "execution_count": 79,
   "id": "d88cabaf-758c-4a18-ad4a-ccf2c53080d9",
   "metadata": {},
   "outputs": [
    {
     "name": "stdout",
     "output_type": "stream",
     "text": [
      "Intersection using &: {0, 1, 3, 4, 5}\n",
      "Intersection using intersection(): {0, 1, 3, 4, 5}\n"
     ]
    }
   ],
   "source": [
    "#2. Set intersection\n",
    "\n",
    "a = {1,3,5,8,4,0}\n",
    "b = {1,2,3,0,5,4}\n",
    "#perform intersection operation using &:\n",
    "print(\"Intersection using &:\", a&b)\n",
    "#perform intersection operation using intersection():\n",
    "print(\"Intersection using intersection():\", a.intersection(b))\n"
   ]
  },
  {
   "cell_type": "code",
   "execution_count": 81,
   "id": "7e0ad496-cfbc-4be8-8aac-705cfb70d511",
   "metadata": {},
   "outputs": [
    {
     "name": "stdout",
     "output_type": "stream",
     "text": [
      "{'apple'}\n"
     ]
    }
   ],
   "source": [
    "#eg :\n",
    "\n",
    "set1 = {\"apple\", \"banana\", \"cherry\"}\n",
    "set2 = {\"google\", \"microsoft\", \"apple\"}\n",
    "\n",
    "set3 = set1 & set2\n",
    "print(set3)"
   ]
  },
  {
   "cell_type": "code",
   "execution_count": 91,
   "id": "fbee463d-c88e-4256-a866-6876822e7c8a",
   "metadata": {},
   "outputs": [
    {
     "name": "stdout",
     "output_type": "stream",
     "text": [
      "Difference using - : {0, 9, 3, 5}\n",
      "Difference using - : {1, 6, 7}\n",
      "Difference using difference(): {0, 9, 3, 5}\n",
      "Difference using difference(): {1, 6, 7}\n"
     ]
    }
   ],
   "source": [
    "#3. Difference between two sets : \n",
    "\n",
    "A = {2,3,5,9,0,4}\n",
    "B = {1,2,6,4,7}\n",
    "#perform difference operation using -:\n",
    "print(\"Difference using - :\", A-B)\n",
    "print(\"Difference using - :\", B-A)\n",
    "#perform difference operation using difference():\n",
    "print(\"Difference using difference():\", A.difference(B))\n",
    "print(\"Difference using difference():\", B.difference(A))"
   ]
  },
  {
   "cell_type": "code",
   "execution_count": 93,
   "id": "eeeb5e0e-bb6a-4d79-adf6-edc99ca66681",
   "metadata": {},
   "outputs": [
    {
     "name": "stdout",
     "output_type": "stream",
     "text": [
      "{'cherry', 'banana'}\n"
     ]
    }
   ],
   "source": [
    "set1 = {\"apple\", \"banana\", \"cherry\"}\n",
    "set2 = {\"google\", \"microsoft\", \"apple\"}\n",
    "\n",
    "set3 = set1 - set2\n",
    "print(set3)"
   ]
  },
  {
   "cell_type": "code",
   "execution_count": 97,
   "id": "e1bfbaf9-1ec2-487e-9ded-4a1c89386103",
   "metadata": {},
   "outputs": [
    {
     "name": "stdout",
     "output_type": "stream",
     "text": [
      "symmetric difference using ^: {1, 3, 5, 6, 7, 8, 9}\n",
      "symmetricd ifference using symmetric_differnce(): {1, 3, 5, 6, 7, 8, 9}\n"
     ]
    }
   ],
   "source": [
    "#4. Set Symmetric difference: \n",
    "\n",
    "A= {2,3,5,7,8,4}\n",
    "B= {1,2,6,4,9}\n",
    "#perform symmetric difference operation using ^:\n",
    "print(\"symmetric difference using ^:\", A^B)\n",
    "#perform symmetric difference operation using symmetric_difference():\n",
    "print(\"symmetricd ifference using symmetric_differnce():\", A.symmetric_difference(B))"
   ]
  },
  {
   "cell_type": "code",
   "execution_count": 123,
   "id": "25d4f47a-57b9-4e3a-9b3d-02736024b861",
   "metadata": {},
   "outputs": [
    {
     "name": "stdout",
     "output_type": "stream",
     "text": [
      "{'cherry', 'microsoft', 'google', 'banana'}\n"
     ]
    }
   ],
   "source": [
    "#eg:\n",
    "set1 = {\"apple\", \"banana\", \"cherry\"}\n",
    "set2 = {\"google\", \"microsoft\", \"apple\"}\n",
    "\n",
    "set3 = set1.symmetric_difference(set2)\n",
    "\n",
    "print(set3)"
   ]
  },
  {
   "cell_type": "code",
   "execution_count": null,
   "id": "a9bfaa32-f528-4343-ad9a-ca6626c00dad",
   "metadata": {},
   "outputs": [],
   "source": []
  }
 ],
 "metadata": {
  "kernelspec": {
   "display_name": "Python 3 (ipykernel)",
   "language": "python",
   "name": "python3"
  },
  "language_info": {
   "codemirror_mode": {
    "name": "ipython",
    "version": 3
   },
   "file_extension": ".py",
   "mimetype": "text/x-python",
   "name": "python",
   "nbconvert_exporter": "python",
   "pygments_lexer": "ipython3",
   "version": "3.12.4"
  }
 },
 "nbformat": 4,
 "nbformat_minor": 5
}
