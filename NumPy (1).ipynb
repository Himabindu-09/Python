{
 "cells": [
  {
   "cell_type": "code",
   "execution_count": 1,
   "id": "b520f922-2d13-4218-b638-b60051a73a88",
   "metadata": {},
   "outputs": [
    {
     "name": "stdout",
     "output_type": "stream",
     "text": [
      "Requirement already satisfied: numpy in c:\\users\\dell\\anaconda3\\lib\\site-packages (1.26.4)\n"
     ]
    }
   ],
   "source": [
    "#NumPy\n",
    "\n",
    "!pip install numpy"
   ]
  },
  {
   "cell_type": "code",
   "execution_count": 3,
   "id": "8e5b97ac-f249-4a15-a969-98f59c4b7c85",
   "metadata": {},
   "outputs": [
    {
     "name": "stdout",
     "output_type": "stream",
     "text": [
      "[1 2 3 4 5]\n",
      "[[ 1.5  2.7  5.3]\n",
      " [46.  35.   6. ]]\n",
      "[[[1.5 7.2 3. ]\n",
      "  [5.4 5.  6. ]]\n",
      "\n",
      " [[7.  9.2 1. ]\n",
      "  [4.  5.  6.8]]]\n"
     ]
    }
   ],
   "source": [
    "#importing numpy\n",
    "import numpy as np\n",
    "\n",
    "#creating numpy\n",
    "a = np.array([1,2,3,4, 5])\n",
    "b = np.array([(1.5, 2.7, 5.3), (46,35,6)])\n",
    "c = np.array([[(1.5, 7.2,3),(5.4,5,6)],[(7.,9.2,1),(4,5,6.8)]])\n",
    "print(a)\n",
    "print(b)\n",
    "print(c)"
   ]
  },
  {
   "cell_type": "code",
   "execution_count": 39,
   "id": "6b848eca-f1ce-449a-bf26-25e7d454567e",
   "metadata": {},
   "outputs": [
    {
     "data": {
      "text/plain": [
       "array([[0., 0., 0., 0., 0., 0., 0., 0.],\n",
       "       [0., 0., 0., 0., 0., 0., 0., 0.],\n",
       "       [0., 0., 0., 0., 0., 0., 0., 0.],\n",
       "       [0., 0., 0., 0., 0., 0., 0., 0.]])"
      ]
     },
     "execution_count": 39,
     "metadata": {},
     "output_type": "execute_result"
    }
   ],
   "source": [
    "#initial place holders\n",
    "\n",
    "#creating an array of zeros\n",
    "\n",
    "np.zeros((4,8)) #creating 2D array #3 rows and 4 columns"
   ]
  },
  {
   "cell_type": "code",
   "execution_count": 43,
   "id": "aa1f1160-61a7-4012-802d-d69290a3eb7a",
   "metadata": {},
   "outputs": [
    {
     "data": {
      "text/plain": [
       "array([[[1., 1., 1., 1.],\n",
       "        [1., 1., 1., 1.],\n",
       "        [1., 1., 1., 1.],\n",
       "        [1., 1., 1., 1.]],\n",
       "\n",
       "       [[1., 1., 1., 1.],\n",
       "        [1., 1., 1., 1.],\n",
       "        [1., 1., 1., 1.],\n",
       "        [1., 1., 1., 1.]]])"
      ]
     },
     "execution_count": 43,
     "metadata": {},
     "output_type": "execute_result"
    }
   ],
   "source": [
    "#creating an array of ones\n",
    "\n",
    "np.ones((2,4,4)) #shape, rows, cols"
   ]
  },
  {
   "cell_type": "code",
   "execution_count": 45,
   "id": "025364e8-96eb-4910-be49-977d45ef5a00",
   "metadata": {},
   "outputs": [
    {
     "name": "stdout",
     "output_type": "stream",
     "text": [
      "[ 5  9 13 17 21]\n"
     ]
    }
   ],
   "source": [
    "#creating an array of evenly spaced values(step value)\n",
    "d = np.arange(5,25,4) #steps n-1(3-1 = 2)\n",
    "print(d)"
   ]
  },
  {
   "cell_type": "code",
   "execution_count": 19,
   "id": "44d7ae84-45dd-4eff-bda7-c77cb667f525",
   "metadata": {},
   "outputs": [
    {
     "data": {
      "text/plain": [
       "array([ 6.        , 18.85714286, 31.71428571, 44.57142857, 57.42857143,\n",
       "       70.28571429, 83.14285714, 96.        ])"
      ]
     },
     "execution_count": 19,
     "metadata": {},
     "output_type": "execute_result"
    }
   ],
   "source": [
    "#creating an array of evenly spaced values(number of samples)\n",
    "np.linspace(6,96,8)"
   ]
  },
  {
   "cell_type": "code",
   "execution_count": 49,
   "id": "e829f7de-5eaf-4ee5-a6fa-5555431df45c",
   "metadata": {},
   "outputs": [
    {
     "name": "stdout",
     "output_type": "stream",
     "text": [
      "[5 5 5 5 5 5 5 5 5]\n",
      "1\n"
     ]
    }
   ],
   "source": [
    "#create a constant array\n",
    "#create a 1D array\n",
    "\n",
    "e= np.full((9),5) #columns\n",
    "print(e)\n",
    "print(e.ndim)"
   ]
  },
  {
   "cell_type": "code",
   "execution_count": 51,
   "id": "0f7ba638-0c5a-416e-be98-a743834cfd3d",
   "metadata": {},
   "outputs": [
    {
     "name": "stdout",
     "output_type": "stream",
     "text": [
      "[[63 63 63]\n",
      " [63 63 63]]\n",
      "2\n"
     ]
    }
   ],
   "source": [
    "#create a 2D array\n",
    "\n",
    "e= np.full((2,3),63) #columns\n",
    "print(e)\n",
    "print(e.ndim)"
   ]
  },
  {
   "cell_type": "code",
   "execution_count": 55,
   "id": "a8f39438-2d74-4043-a869-fb8cbc8cc168",
   "metadata": {},
   "outputs": [
    {
     "name": "stdout",
     "output_type": "stream",
     "text": [
      "[[[6 6 6 6]\n",
      "  [6 6 6 6]\n",
      "  [6 6 6 6]]\n",
      "\n",
      " [[6 6 6 6]\n",
      "  [6 6 6 6]\n",
      "  [6 6 6 6]]\n",
      "\n",
      " [[6 6 6 6]\n",
      "  [6 6 6 6]\n",
      "  [6 6 6 6]]]\n",
      "No of Dimensions: 3\n"
     ]
    }
   ],
   "source": [
    "#create a 3D array\n",
    "\n",
    "e= np.full((3,3,4),6) #columns\n",
    "print(e)\n",
    "print(\"No of Dimensions:\",e.ndim)"
   ]
  },
  {
   "cell_type": "code",
   "execution_count": 29,
   "id": "ae9270b5-2eae-4e64-9e8a-d9434c33fc13",
   "metadata": {},
   "outputs": [
    {
     "name": "stdout",
     "output_type": "stream",
     "text": [
      "[[6 6 6 6 6 6]\n",
      " [6 6 6 6 6 6]]\n",
      "No of Dimensions: 2\n"
     ]
    }
   ],
   "source": [
    "e= np.full((2,6),6) #columns\n",
    "print(e)\n",
    "print(\"No of Dimensions:\",e.ndim)"
   ]
  },
  {
   "cell_type": "code",
   "execution_count": 27,
   "id": "ae961d96-9fa6-4355-b349-1ea33d615e5d",
   "metadata": {},
   "outputs": [
    {
     "name": "stdout",
     "output_type": "stream",
     "text": [
      "[[1. 0. 0.]\n",
      " [0. 1. 0.]\n",
      " [0. 0. 1.]]\n"
     ]
    }
   ],
   "source": [
    "#creating a 2*2 identity matrix\n",
    "\n",
    "f = np.eye(3)\n",
    "print(f)"
   ]
  },
  {
   "cell_type": "code",
   "execution_count": 33,
   "id": "207f229f-7d38-437d-a404-3ab4e034dcf2",
   "metadata": {},
   "outputs": [
    {
     "data": {
      "text/plain": [
       "array([[0.599327  , 0.65277708, 0.96759145],\n",
       "       [0.39591454, 0.42499582, 0.44086044]])"
      ]
     },
     "execution_count": 33,
     "metadata": {},
     "output_type": "execute_result"
    }
   ],
   "source": [
    "#creating an array with random values\n",
    "np.random.random((2,3))"
   ]
  },
  {
   "cell_type": "code",
   "execution_count": 63,
   "id": "189f3d09-6908-438a-87a1-75eddb2dc28d",
   "metadata": {},
   "outputs": [
    {
     "data": {
      "text/plain": [
       "6"
      ]
     },
     "execution_count": 63,
     "metadata": {},
     "output_type": "execute_result"
    }
   ],
   "source": [
    "np.random.randint(5,10)"
   ]
  },
  {
   "cell_type": "code",
   "execution_count": 67,
   "id": "8453e9cf-403b-4b87-91bc-ef4715c9e1bd",
   "metadata": {},
   "outputs": [
    {
     "name": "stdout",
     "output_type": "stream",
     "text": [
      "(4, 3)\n"
     ]
    }
   ],
   "source": [
    "#to find the shape of an array.\n",
    "arr = np.array([[1,5,6],[5,3,6],[93,7,3],[0,2,5]])\n",
    "print(arr.shape)"
   ]
  },
  {
   "cell_type": "code",
   "execution_count": 69,
   "id": "0183d4ed-9473-415e-b80d-bd5279ee55d5",
   "metadata": {},
   "outputs": [
    {
     "name": "stdout",
     "output_type": "stream",
     "text": [
      "12\n"
     ]
    }
   ],
   "source": [
    "#To find no of elements in array\n",
    "arr = np.array([[1,2,2,6],[6,2,7,2],[4,7,2,8]])\n",
    "print(arr.size)"
   ]
  },
  {
   "cell_type": "code",
   "execution_count": 71,
   "id": "f54ef449-d57a-4a75-ae8f-f06a0f875d2c",
   "metadata": {},
   "outputs": [
    {
     "data": {
      "text/plain": [
       "4"
      ]
     },
     "execution_count": 71,
     "metadata": {},
     "output_type": "execute_result"
    }
   ],
   "source": [
    "#to find the length of array\n",
    "arr = np.array([[5,7,3,7],[6,7,2,8],[7,9,2,5],[2,8,3,4]])\n",
    "len(arr)"
   ]
  },
  {
   "cell_type": "code",
   "execution_count": null,
   "id": "5c5c3c54-696a-4b4c-8454-d1573c428bd8",
   "metadata": {},
   "outputs": [],
   "source": [
    "#Access array elements:\n",
    "\n",
    "you can access an array element by referring to its index number.\n",
    "The indexes in NumPy array start with 0.\n",
    "Meaning that the firdt element has index 0."
   ]
  },
  {
   "cell_type": "code",
   "execution_count": 13,
   "id": "4164d0c1-14c8-42ff-ad07-f878ff12a668",
   "metadata": {},
   "outputs": [
    {
     "name": "stdout",
     "output_type": "stream",
     "text": [
      "3\n",
      "6\n"
     ]
    }
   ],
   "source": [
    "arr =np.array([1,2,3,4,5,6])\n",
    "print(arr[2])\n",
    "print(arr[5])"
   ]
  },
  {
   "cell_type": "code",
   "execution_count": 21,
   "id": "17990280-18f1-4e84-ac12-9da8af7832ac",
   "metadata": {},
   "outputs": [
    {
     "name": "stdout",
     "output_type": "stream",
     "text": [
      "-4\n",
      "10\n",
      "12\n"
     ]
    }
   ],
   "source": [
    "#adding two index position.\n",
    "\n",
    "arr = np.array([1,6,5,2,6,3])\n",
    "print(arr[2]-arr[5]-arr[4])\n",
    "print(arr[5]+arr[3]+arr[2])\n",
    "print(arr[4]*arr[3])"
   ]
  },
  {
   "cell_type": "code",
   "execution_count": 25,
   "id": "628f6a86-c8d9-4173-beaf-57059f4439e7",
   "metadata": {},
   "outputs": [
    {
     "name": "stdout",
     "output_type": "stream",
     "text": [
      "4nd element on 3rd row: 8\n"
     ]
    }
   ],
   "source": [
    "#Access 2-D arrays\n",
    "#access the element on the first row , second column\n",
    "arr = np.array([[1,6,7,3,2],[6,9,4,2,8],[5,2,7,8,4],[1,9,3,2,8]])\n",
    "print('4nd element on 3rd row:', arr[3,4])"
   ]
  },
  {
   "cell_type": "code",
   "execution_count": 33,
   "id": "c010cb65-e6d2-46ab-bcab-384cc9da2789",
   "metadata": {},
   "outputs": [
    {
     "name": "stdout",
     "output_type": "stream",
     "text": [
      "2nd element on 2nd row: 4\n"
     ]
    }
   ],
   "source": [
    "arr = np.array([[2,7,8],[9,3,4],[5,3,4]])\n",
    "print('2nd element on 2nd row:', arr[2,2])"
   ]
  },
  {
   "cell_type": "code",
   "execution_count": 45,
   "id": "152911cd-1688-450b-ab69-23302ef75401",
   "metadata": {},
   "outputs": [
    {
     "name": "stdout",
     "output_type": "stream",
     "text": [
      "77\n",
      "23\n",
      "3\n"
     ]
    }
   ],
   "source": [
    "#Access 3-D Arrays\n",
    "arr = np.array([[[1,2,3],\n",
    "                 [4,5,6]],\n",
    "                [[1,23,5],\n",
    "                 [4,76,89]],\n",
    "                [[1,56,3],\n",
    "                 [4,67,34]],\n",
    "                [[5,65,2],\n",
    "                 [5,77,32]]])\n",
    "\n",
    "#Access by index\n",
    "print(arr[3,1,1]) #([2d,1d,element])\n",
    "print(arr[1,0,1])\n",
    "print(arr[2,0,2])"
   ]
  },
  {
   "cell_type": "code",
   "execution_count": null,
   "id": "0ff3378a-f5d6-4a34-90a6-89a97949106b",
   "metadata": {},
   "outputs": [],
   "source": [
    "#Data Types\n",
    "\n",
    "Datatypes in NumPy\n",
    "NumPy has some extra data types and refer to data types with one character, like i for integers, u for unsigned integers etc.\n",
    "Below is a list of all data types in NumPy and the characters used to represent them.\n",
    "\n",
    "i - integer\n",
    "b - boolean\n",
    "u - unsigned(just like integers(whole numbers)but have the property that they dont have a + or - sign associated with them)\n",
    "f - float\n",
    "c - complex\n",
    "M - datetime\n",
    "O - Object\n",
    "S - String"
   ]
  },
  {
   "cell_type": "code",
   "execution_count": 49,
   "id": "b31d1fb4-e49a-4809-8786-4cc263e5feb3",
   "metadata": {},
   "outputs": [
    {
     "name": "stdout",
     "output_type": "stream",
     "text": [
      "int32\n"
     ]
    }
   ],
   "source": [
    "#checking the datatype\n",
    "import numpy as np\n",
    "arr = np.array([1, 2, 3, 4])\n",
    "print(arr.dtype)"
   ]
  },
  {
   "cell_type": "code",
   "execution_count": 47,
   "id": "de72af1f-5885-4693-af46-350d32eda1cf",
   "metadata": {},
   "outputs": [
    {
     "name": "stdout",
     "output_type": "stream",
     "text": [
      "[b'1' b'2' b'3' b'4']\n",
      "|S1\n"
     ]
    }
   ],
   "source": [
    "#string\n",
    "arr = np.array([1,2,3,4], dtype = 'S')\n",
    "print(arr)\n",
    "print(arr.dtype)"
   ]
  },
  {
   "cell_type": "code",
   "execution_count": 53,
   "id": "a0b8d560-3199-4bb1-88b0-86f15766c5bb",
   "metadata": {},
   "outputs": [
    {
     "name": "stdout",
     "output_type": "stream",
     "text": [
      "[1 6 3 3]\n",
      "int32\n"
     ]
    }
   ],
   "source": [
    "#Create an array with data type 4 bytes integer:\n",
    "\n",
    "arr = np.array([1, 6, 3, 3], dtype='i4')\n",
    "print(arr)\n",
    "print(arr.dtype)\n"
   ]
  },
  {
   "cell_type": "code",
   "execution_count": 55,
   "id": "771a5702-8982-4b99-abb9-87e9d9c12298",
   "metadata": {},
   "outputs": [
    {
     "name": "stdout",
     "output_type": "stream",
     "text": [
      "[1 2 3]\n",
      "int32\n"
     ]
    }
   ],
   "source": [
    "#Change data type from float to integer by using 'i' as parameter value:\n",
    "\n",
    "arr = np.array([1.1, 2.1, 3.1])\n",
    "newarr = arr.astype('i')\n",
    "print(newarr)\n",
    "print(newarr.dtype)"
   ]
  },
  {
   "cell_type": "code",
   "execution_count": 63,
   "id": "566e9942-e8a0-49b1-a33d-86250ec2cbb4",
   "metadata": {},
   "outputs": [
    {
     "name": "stdout",
     "output_type": "stream",
     "text": [
      "[1 4 8]\n",
      "int32\n"
     ]
    }
   ],
   "source": [
    "#Change data type from float to integer by using int as parameter value:\n",
    "\n",
    "arr = np.array([1.5, 4.1, 8.6])\n",
    "newarr = arr.astype(int)\n",
    "print(newarr)\n",
    "print(newarr.dtype)"
   ]
  },
  {
   "cell_type": "code",
   "execution_count": 13,
   "id": "a0814203-1478-4bb2-a846-41e05e1ad0aa",
   "metadata": {},
   "outputs": [
    {
     "name": "stdout",
     "output_type": "stream",
     "text": [
      "[ True False  True  True False  True]\n",
      "bool\n"
     ]
    }
   ],
   "source": [
    "#Change data type from integer to boolean:\n",
    "\n",
    "arr = np.array([1, 0, 3, 7, 0, 8])\n",
    "newarr = arr.astype(bool)\n",
    "print(newarr)\n",
    "print(newarr.dtype)"
   ]
  },
  {
   "cell_type": "code",
   "execution_count": 73,
   "id": "f1d41059-0dbf-4612-a716-3981d33de8dc",
   "metadata": {},
   "outputs": [
    {
     "name": "stdout",
     "output_type": "stream",
     "text": [
      "[ True  True False  True]\n",
      "bool\n"
     ]
    }
   ],
   "source": [
    "arr = np.array([1, 3, 0, 5])\n",
    "newarr = arr.astype(bool)\n",
    "print(newarr)\n",
    "print(newarr.dtype)"
   ]
  },
  {
   "cell_type": "code",
   "execution_count": 15,
   "id": "21dfc003-7283-456d-b8d8-d402cfc2c54a",
   "metadata": {},
   "outputs": [
    {
     "name": "stdout",
     "output_type": "stream",
     "text": [
      "[0. 6. 4. 3. 2.]\n"
     ]
    }
   ],
   "source": [
    "#changing into to float\n",
    "arr = np.array([0,6,4,3,2])\n",
    "x = arr.astype('f')\n",
    "print(x)"
   ]
  },
  {
   "cell_type": "code",
   "execution_count": 19,
   "id": "7e2d0372-030f-4a61-8043-7de58058e524",
   "metadata": {},
   "outputs": [
    {
     "name": "stdout",
     "output_type": "stream",
     "text": [
      "['0.0' '6.5' '4.0' '3.8' '2.6']\n"
     ]
    }
   ],
   "source": [
    "#changing float to unsigned integer\n",
    "arr = np.array([0., 6.5, 4., 3.8, 2.6])\n",
    "x = arr.astype('U')\n",
    "print(x)"
   ]
  },
  {
   "cell_type": "code",
   "execution_count": 21,
   "id": "70d3415d-a52f-40ab-9cd5-cebe0ad1ae73",
   "metadata": {},
   "outputs": [
    {
     "name": "stdout",
     "output_type": "stream",
     "text": [
      "['1' '0' '3' '7' '0' '8']\n"
     ]
    }
   ],
   "source": [
    "#changing int to unsigned integer\n",
    "arr = np.array([1, 0, 3, 7, 0, 8])\n",
    "x = arr.astype('U')\n",
    "print(x)"
   ]
  },
  {
   "cell_type": "code",
   "execution_count": 23,
   "id": "46385cfe-0964-4c28-b24f-8675dce2ac4b",
   "metadata": {},
   "outputs": [
    {
     "name": "stdout",
     "output_type": "stream",
     "text": [
      "[b'8' b'3' b'8' b'9' b'3']\n"
     ]
    }
   ],
   "source": [
    "#changing float to complex float\n",
    "arr = np.array([8.9, 3.6, 8.5, 9.7, 3.5])\n",
    "x = arr.astype('c')\n",
    "print(x)"
   ]
  },
  {
   "cell_type": "code",
   "execution_count": 27,
   "id": "208d3bcf-cafe-41f2-9e51-4d1431ed82f6",
   "metadata": {},
   "outputs": [
    {
     "name": "stdout",
     "output_type": "stream",
     "text": [
      "[b'1' b'9' b'6' b'5' b'3' b'7']\n"
     ]
    }
   ],
   "source": [
    "#changing int to complex float\n",
    "arr = np.array([1, 9, 6, 5, 3, 7])\n",
    "x = arr.astype('c')\n",
    "print(x)"
   ]
  },
  {
   "cell_type": "code",
   "execution_count": 75,
   "id": "63d3a328-5ceb-4795-b036-4e30702897ac",
   "metadata": {},
   "outputs": [
    {
     "name": "stdout",
     "output_type": "stream",
     "text": [
      "[768   6  67  46  55]\n",
      "[34  6 67 46 55]\n"
     ]
    }
   ],
   "source": [
    "#copy method: The copy SHOULD NOT be affected by the changes made to the original array.\n",
    "#Make a copy, change the original array, and display both arrays:\n",
    "\n",
    "arr = np.array([34, 6, 67, 46, 55])\n",
    "x = arr.copy()\n",
    "arr[0] =  768\n",
    "print(arr)\n",
    "print(x)"
   ]
  },
  {
   "cell_type": "code",
   "execution_count": 77,
   "id": "94b4cf87-861f-4ae2-8e1f-f8d36943625d",
   "metadata": {},
   "outputs": [
    {
     "name": "stdout",
     "output_type": "stream",
     "text": [
      "[ 74  56  75  87 768]\n",
      "[74 56 75 87  5]\n"
     ]
    }
   ],
   "source": [
    "arr = np.array([74, 56, 75, 87, 5])\n",
    "x = arr.copy()\n",
    "arr[4] =  768\n",
    "print(arr)\n",
    "print(x)"
   ]
  },
  {
   "cell_type": "code",
   "execution_count": 79,
   "id": "4f2d7a23-27c3-477d-8023-b80170e5bab8",
   "metadata": {},
   "outputs": [
    {
     "name": "stdout",
     "output_type": "stream",
     "text": [
      "[42  6 67 46 55]\n",
      "[42  6 67 46 55]\n"
     ]
    }
   ],
   "source": [
    "#view method: The view SHOULD be affected by the changes made to the original array.\n",
    "#Make a view, change the original array, and display both arrays:\n",
    "\n",
    "arr = np.array([34, 6, 67, 46, 55])\n",
    "x = arr.view()\n",
    "arr[0] = 42\n",
    "\n",
    "print(arr)\n",
    "print(x)\n",
    "\n"
   ]
  },
  {
   "cell_type": "code",
   "execution_count": 89,
   "id": "e9fe0989-7d68-4aeb-9815-faedcd43c499",
   "metadata": {},
   "outputs": [
    {
     "name": "stdout",
     "output_type": "stream",
     "text": [
      "(2, 4)\n"
     ]
    }
   ],
   "source": [
    "#shape : The shape of an array is the number of elements in each dimension.\n",
    "arr = np.array([[1,2,3,4],[5,6,7,8]])\n",
    "print(arr.shape)"
   ]
  },
  {
   "cell_type": "code",
   "execution_count": 91,
   "id": "f8ca5391-8539-4915-a347-411a0e13291c",
   "metadata": {},
   "outputs": [
    {
     "name": "stdout",
     "output_type": "stream",
     "text": [
      "[[[1 2 3 4]]]\n",
      "shape of array : (1, 1, 4)\n"
     ]
    }
   ],
   "source": [
    "#Create an array with 3 dimensions using ndmin using a 1 dimension array\n",
    "arr = np.array([1, 2, 3, 4], ndmin=3)\n",
    "print(arr)\n",
    "print('shape of array :', arr.shape)"
   ]
  },
  {
   "cell_type": "code",
   "execution_count": null,
   "id": "80679fcc-7ce6-4edb-9ba5-5211f8518657",
   "metadata": {},
   "outputs": [],
   "source": [
    "#Reshaping arrays:\n",
    "\n",
    "Reshaping means changing the shape of an array.\n",
    "The shape of an array is the number of elements in each dimension.\n",
    "By reshaping we can add or remove dimensions or change number of elements in each dimension."
   ]
  },
  {
   "cell_type": "code",
   "execution_count": 29,
   "id": "500a2a52-2009-4431-8227-48a84797b74a",
   "metadata": {},
   "outputs": [
    {
     "name": "stdout",
     "output_type": "stream",
     "text": [
      "12\n",
      "[ 1  2  3  4  5  6  7  8  9 10 11 12]\n",
      "*************************************************************\n",
      "[[ 1  2  3  4  5  6]\n",
      " [ 7  8  9 10 11 12]]\n"
     ]
    }
   ],
   "source": [
    "#converting the following 1-D array with 12 elements into a 2-D array.\n",
    "import numpy as np\n",
    "arr = np.array([1,2,3,4,5,6,7,8,9,10,11,12])\n",
    "print(arr.size)\n",
    "print(arr)\n",
    "print(\"*************************************************************\")\n",
    "newarr = arr.reshape(2,6)\n",
    "print(newarr)"
   ]
  },
  {
   "cell_type": "code",
   "execution_count": 7,
   "id": "32475538-ee6e-4e92-a027-b34abb5c19fe",
   "metadata": {},
   "outputs": [
    {
     "name": "stdout",
     "output_type": "stream",
     "text": [
      "[[ 1  5  3]\n",
      " [ 4  5  3]\n",
      " [ 6  8  8]\n",
      " [ 9 13 12]]\n"
     ]
    }
   ],
   "source": [
    "arr = np.array([1, 5, 3, 4, 5, 3, 6, 8, 8, 9, 13, 12])\n",
    "newarr = arr.reshape(4, 3)\n",
    "print(newarr)"
   ]
  },
  {
   "cell_type": "code",
   "execution_count": 9,
   "id": "2b0c228b-036d-41ca-bb61-135064bbcc7b",
   "metadata": {},
   "outputs": [
    {
     "name": "stdout",
     "output_type": "stream",
     "text": [
      "[[[ 1  2]\n",
      "  [ 3  4]\n",
      "  [ 5  6]]\n",
      "\n",
      " [[ 7  8]\n",
      "  [ 9 10]\n",
      "  [11 12]]]\n"
     ]
    }
   ],
   "source": [
    "#Convert the following 1-D array with 12 elements into a 3-D array.\n",
    "#The outermost dimension will have 2 arrays that contains 3 arrays, each with 2 elements:\n",
    "\n",
    "arr = np.array([1, 2, 3, 4, 5, 6, 7, 8, 9, 10, 11, 12])\n",
    "newarr = arr.reshape(2, 3, 2)\n",
    "print(newarr)"
   ]
  },
  {
   "cell_type": "code",
   "execution_count": 31,
   "id": "a3dbc01c-d663-442a-8f30-67c8999ded10",
   "metadata": {},
   "outputs": [
    {
     "name": "stdout",
     "output_type": "stream",
     "text": [
      "[ 5  6  3  4  5  3  7  8  8  9 13 11  8  6  9  5  0  3  2  1]\n",
      "*************************************************************\n",
      "[[[ 5  6]\n",
      "  [ 3  4]]\n",
      "\n",
      " [[ 5  3]\n",
      "  [ 7  8]]\n",
      "\n",
      " [[ 8  9]\n",
      "  [13 11]]\n",
      "\n",
      " [[ 8  6]\n",
      "  [ 9  5]]\n",
      "\n",
      " [[ 0  3]\n",
      "  [ 2  1]]]\n"
     ]
    }
   ],
   "source": [
    "arr = np.array([5, 6, 3, 4, 5, 3, 7, 8, 8, 9, 13, 11, 8,6,9,5,0,3,2,1])\n",
    "newarr = arr.reshape(5, 2, 2)\n",
    "print(arr)\n",
    "print(\"*************************************************************\")\n",
    "print(newarr)"
   ]
  },
  {
   "cell_type": "code",
   "execution_count": 37,
   "id": "b01ca5dc-dbb2-4a4f-8e9b-d1e37511ff67",
   "metadata": {},
   "outputs": [
    {
     "name": "stdout",
     "output_type": "stream",
     "text": [
      "[1 5 6 4 7 9]\n"
     ]
    }
   ],
   "source": [
    "#converting 2 -D array to 1 -D array\n",
    "arr = np.array([[1,5,6],[4,7,9]])\n",
    "x= arr.reshape(arr.size)\n",
    "print(x)"
   ]
  },
  {
   "cell_type": "code",
   "execution_count": 55,
   "id": "10443b16-3ec0-417f-9893-bc804c3e5684",
   "metadata": {},
   "outputs": [
    {
     "name": "stdout",
     "output_type": "stream",
     "text": [
      "18\n",
      "[[[1 5 6]\n",
      "  [4 5 3]]\n",
      "\n",
      " [[4 3 7]\n",
      "  [9 2 5]]\n",
      "\n",
      " [[4 1 2]\n",
      "  [6 3 1]]]\n",
      "*************************************************************\n",
      "[[[1 5]\n",
      "  [6 4]\n",
      "  [5 3]]\n",
      "\n",
      " [[4 3]\n",
      "  [7 9]\n",
      "  [2 5]]\n",
      "\n",
      " [[4 1]\n",
      "  [2 6]\n",
      "  [3 1]]]\n",
      "*************************************************************\n",
      "[[[1 5 6]\n",
      "  [4 5 3]\n",
      "  [4 3 7]]\n",
      "\n",
      " [[9 2 5]\n",
      "  [4 1 2]\n",
      "  [6 3 1]]]\n"
     ]
    }
   ],
   "source": [
    "#converting 2 - D to 3 - D array\n",
    "\n",
    "arr = np.array([[1,5,6,4,5,3],[4,3,7,9,2,5],[4,1,2,6,3,1]])\n",
    "print(arr.size)\n",
    "x= arr.reshape(3,2,3)\n",
    "print(x)\n",
    "print(\"*************************************************************\")\n",
    "y= arr.reshape(3,3,2)\n",
    "print(y)\n",
    "print(\"*************************************************************\")\n",
    "z= arr.reshape(2,3,3)\n",
    "print(z)"
   ]
  },
  {
   "cell_type": "code",
   "execution_count": 61,
   "id": "2d152c53-d627-4d97-8df1-37376b6136f5",
   "metadata": {},
   "outputs": [
    {
     "name": "stdout",
     "output_type": "stream",
     "text": [
      "18\n",
      "[[[1 4 5]\n",
      "  [3 6 4]]\n",
      "\n",
      " [[3 7 6]\n",
      "  [4 6 2]]\n",
      "\n",
      " [[6 7 3]\n",
      "  [9 6 0]]]\n",
      "*************************************************************\n",
      "[1 4 5 3 6 4 3 7 6 4 6 2 6 7 3 9 6 0]\n"
     ]
    }
   ],
   "source": [
    "#converting 3-D array to 1-D array\n",
    "arr = np.array([[[1,4,5],[3,6,4]],\n",
    "                [[3,7,6],[4,6,2]],\n",
    "                [[6,7,3],[9,6,0]]])\n",
    "print(arr.size)\n",
    "print(arr)\n",
    "print(\"*************************************************************\")\n",
    "x= arr.reshape(arr.size)\n",
    "print(x)\n"
   ]
  },
  {
   "cell_type": "code",
   "execution_count": 67,
   "id": "85b403bf-36c7-419a-a43a-adbf48a15569",
   "metadata": {},
   "outputs": [
    {
     "name": "stdout",
     "output_type": "stream",
     "text": [
      "18\n",
      "[[[1 4 5]\n",
      "  [3 6 4]]\n",
      "\n",
      " [[3 7 6]\n",
      "  [4 6 2]]\n",
      "\n",
      " [[6 7 3]\n",
      "  [9 6 0]]]\n",
      "*************************************************************\n",
      "[[1 4 5 3 6 4]\n",
      " [3 7 6 4 6 2]\n",
      " [6 7 3 9 6 0]]\n"
     ]
    }
   ],
   "source": [
    "#converting 3-D array to 2-D array\n",
    "arr = np.array([[[1,4,5],[3,6,4]],\n",
    "                [[3,7,6],[4,6,2]],\n",
    "                [[6,7,3],[9,6,0]]])\n",
    "print(arr.size)\n",
    "print(arr)\n",
    "print(\"*************************************************************\")\n",
    "x= arr.reshape(3,6)\n",
    "print(x)"
   ]
  },
  {
   "cell_type": "code",
   "execution_count": 75,
   "id": "40441369-1530-481b-a06a-49c421456af6",
   "metadata": {},
   "outputs": [
    {
     "name": "stdout",
     "output_type": "stream",
     "text": [
      "[[1. 2.]\n",
      " [3. 4.]]\n",
      "****************\n",
      "[[5. 6.]\n",
      " [7. 8.]]\n"
     ]
    }
   ],
   "source": [
    "#python program to create a datatype object\n",
    "\n",
    "x= np.array([[1,2],[3,4]], dtype =np.float64)\n",
    "print(x)\n",
    "print(\"****************\")\n",
    "y = np.array([[5,6],[7,8]], dtype = np.float64)\n",
    "print(y)"
   ]
  },
  {
   "cell_type": "code",
   "execution_count": null,
   "id": "6d5b4d39-3886-460d-87ef-67ca6865627d",
   "metadata": {},
   "outputs": [],
   "source": [
    "#sorting arrays\n",
    "Sorting means putting elements in an ordered sequence.\n",
    "\n",
    "Ordered sequence is any sequence that has an order corresponding to elements, like numeric or alphabetical, ascending or descending.\n",
    "\n",
    "The NumPy ndarray object has a function called sort(), that will sort a specified array."
   ]
  },
  {
   "cell_type": "code",
   "execution_count": 77,
   "id": "2ea01335-339e-4d28-8a63-5caa7a94922e",
   "metadata": {},
   "outputs": [
    {
     "name": "stdout",
     "output_type": "stream",
     "text": [
      "[0 1 2 3]\n"
     ]
    }
   ],
   "source": [
    "arr = np.array([3, 2, 0, 1])\n",
    "print(np.sort(arr))"
   ]
  },
  {
   "cell_type": "code",
   "execution_count": 79,
   "id": "e7d5468a-2a6c-4c4a-b7d0-670320d0c9cb",
   "metadata": {},
   "outputs": [
    {
     "name": "stdout",
     "output_type": "stream",
     "text": [
      "[[[1 4 5]\n",
      "  [3 4 6]]\n",
      "\n",
      " [[3 6 7]\n",
      "  [2 4 6]]\n",
      "\n",
      " [[3 6 7]\n",
      "  [0 6 9]]]\n"
     ]
    }
   ],
   "source": [
    "arr = np.array([[[1,4,5],[3,6,4]],\n",
    "                [[3,7,6],[4,6,2]],\n",
    "                [[6,7,3],[9,6,0]]])\n",
    "print(np.sort(arr))"
   ]
  },
  {
   "cell_type": "code",
   "execution_count": null,
   "id": "d9d8a04b-7d3e-4c07-a3b8-27a8e60144f8",
   "metadata": {},
   "outputs": [],
   "source": [
    "#SLicing arrays:\n",
    "Slicing in python means taking elements from one given index to another given index.\n",
    "\n",
    "We pass slice instead of index like this: [start:end].\n",
    "\n",
    "We can also define the step, like this: [start:end:step].\n",
    "\n",
    "If we don't pass start its considered 0\n",
    "\n",
    "If we don't pass end its considered length of array in that dimension\n",
    "\n",
    "If we don't pass step its considered 1"
   ]
  },
  {
   "cell_type": "code",
   "execution_count": 81,
   "id": "eeb1a927-ae43-438b-8a03-8259eeb30734",
   "metadata": {},
   "outputs": [
    {
     "name": "stdout",
     "output_type": "stream",
     "text": [
      "[2 3 4 5]\n"
     ]
    }
   ],
   "source": [
    "arr = np.array([1, 2, 3, 4, 5, 6, 7])\n",
    "print(arr[1:5])"
   ]
  },
  {
   "cell_type": "code",
   "execution_count": 83,
   "id": "eba5025e-8e78-4927-aef6-bf2f1b5822c8",
   "metadata": {},
   "outputs": [
    {
     "name": "stdout",
     "output_type": "stream",
     "text": [
      "[4 5 3 6 8]\n"
     ]
    }
   ],
   "source": [
    "arr = np.array([1, 5, 3, 4, 5, 3, 6, 8, 8, 9, 13, 12])\n",
    "print(arr[3:8])"
   ]
  },
  {
   "cell_type": "code",
   "execution_count": 85,
   "id": "b82e3b94-6b44-4141-a702-a3eecafe0e65",
   "metadata": {},
   "outputs": [
    {
     "name": "stdout",
     "output_type": "stream",
     "text": [
      "[5 6 7]\n"
     ]
    }
   ],
   "source": [
    "#Slice elements from index 4 to the end of the array:\n",
    "\n",
    "arr = np.array([1, 2, 3, 4, 5, 6, 7])\n",
    "print(arr[4:])"
   ]
  },
  {
   "cell_type": "code",
   "execution_count": 87,
   "id": "83f2fbd9-1ec9-42ab-ad36-aeb1ecd05820",
   "metadata": {},
   "outputs": [
    {
     "name": "stdout",
     "output_type": "stream",
     "text": [
      "[ 6  8  8  9 13 12]\n"
     ]
    }
   ],
   "source": [
    "arr = np.array([1, 5, 3, 4, 5, 3, 6, 8, 8, 9, 13, 12])\n",
    "print(arr[6:])"
   ]
  },
  {
   "cell_type": "code",
   "execution_count": 89,
   "id": "a8e6b732-bd49-4dc2-ab82-2c797e4c806d",
   "metadata": {},
   "outputs": [
    {
     "name": "stdout",
     "output_type": "stream",
     "text": [
      "[1 2 3 4]\n"
     ]
    }
   ],
   "source": [
    "#Slice elements from the beginning to index 4 (not included):\n",
    "\n",
    "arr = np.array([1, 2, 3, 4, 5, 6, 7])\n",
    "print(arr[:4])"
   ]
  },
  {
   "cell_type": "code",
   "execution_count": 91,
   "id": "a1f447a3-80e8-4984-b8ac-ebb38907db1c",
   "metadata": {},
   "outputs": [
    {
     "name": "stdout",
     "output_type": "stream",
     "text": [
      "[1 5 3 4 5 3 6 8]\n"
     ]
    }
   ],
   "source": [
    "arr = np.array([1, 5, 3, 4, 5, 3, 6, 8, 8, 9, 13, 12])\n",
    "print(arr[:8])"
   ]
  },
  {
   "cell_type": "code",
   "execution_count": 95,
   "id": "65a82399-23f1-4476-ac99-273ba21986cc",
   "metadata": {},
   "outputs": [
    {
     "name": "stdout",
     "output_type": "stream",
     "text": [
      "[ 3  6  8  8  9 13]\n"
     ]
    }
   ],
   "source": [
    "#Negative Slicing : Use the minus operator to refer to an index from the end\n",
    "\n",
    "#Slice from the index 3 from the end to index 1 from the end:\n",
    "\n",
    "arr = np.array([1, 5, 3, 4, 5, 3, 6, 8, 8, 9, 13, 12])\n",
    "print(arr[-7:-1])"
   ]
  },
  {
   "cell_type": "code",
   "execution_count": 99,
   "id": "a8e901c9-632d-4b03-91a3-0933e676e615",
   "metadata": {},
   "outputs": [
    {
     "name": "stdout",
     "output_type": "stream",
     "text": [
      "[5 4]\n"
     ]
    }
   ],
   "source": [
    "#step : Use the step value to determine the step of the slicing\n",
    "#Return every other element from index 1 to index 5:\n",
    "\n",
    "arr = np.array([1, 5, 3, 4, 5, 3, 6, 8, 8, 9, 13, 12])\n",
    "print(arr[1:5:2])"
   ]
  },
  {
   "cell_type": "code",
   "execution_count": 103,
   "id": "31491e19-e7f6-41b8-8801-bb7e60c4683c",
   "metadata": {},
   "outputs": [
    {
     "name": "stdout",
     "output_type": "stream",
     "text": [
      "[ 1  3  5  6  8 13]\n"
     ]
    }
   ],
   "source": [
    "#Return every other element from the entire array:\n",
    "\n",
    "\n",
    "arr = np.array([1, 5, 3, 4, 5, 3, 6, 8, 8, 9, 13, 12])\n",
    "print(arr[::2])"
   ]
  },
  {
   "cell_type": "code",
   "execution_count": 105,
   "id": "20adea2a-8ea5-4216-b418-8f1a657d59ed",
   "metadata": {},
   "outputs": [
    {
     "name": "stdout",
     "output_type": "stream",
     "text": [
      "[7 8 9]\n"
     ]
    }
   ],
   "source": [
    "#Slicing 2-D Arrays:\n",
    "\n",
    "#From the second element, slice elements from index 1 to index 4 (not included):\n",
    "\n",
    "arr = np.array([[1, 2, 3, 4, 5], [6, 7, 8, 9, 10]])\n",
    "print(arr[1, 1:4])"
   ]
  },
  {
   "cell_type": "code",
   "execution_count": 111,
   "id": "84da50b6-a90b-4b2e-9864-6b4c356b36cc",
   "metadata": {},
   "outputs": [
    {
     "name": "stdout",
     "output_type": "stream",
     "text": [
      "[[6 4]\n",
      " [7 9]\n",
      " [2 6]]\n",
      "*******************\n",
      "[[1 5 6 4 5 3]\n",
      " [4 3 7 9 2 5]\n",
      " [4 1 2 6 3 1]]\n"
     ]
    }
   ],
   "source": [
    "arr = np.array([[1,5,6,4,5,3],[4,3,7,9,2,5],[4,1,2,6,3,1]])\n",
    "print(arr[0:3, 2:4])\n",
    "print(\"*******************\")\n",
    "print(arr[:,:])"
   ]
  },
  {
   "cell_type": "code",
   "execution_count": 113,
   "id": "dd6f6614-828b-4b2c-aa83-0c59a74a9e1e",
   "metadata": {},
   "outputs": [
    {
     "name": "stdout",
     "output_type": "stream",
     "text": [
      "[4 9]\n",
      "[5 3 1]\n"
     ]
    }
   ],
   "source": [
    "arr = np.array([[1,5,6,4,5,3],[4,3,7,9,2,5],[4,1,2,6,3,1]])\n",
    "print(arr[0:2,3])\n",
    "print(arr[0:6,1])"
   ]
  },
  {
   "cell_type": "code",
   "execution_count": 115,
   "id": "f9732f65-e21b-4d56-8f39-ee7c1a913548",
   "metadata": {},
   "outputs": [
    {
     "name": "stdout",
     "output_type": "stream",
     "text": [
      "[6 2 2]\n"
     ]
    }
   ],
   "source": [
    "t = np.array([[2,4,6,2],[5,7,2,8],[9,4,2,4]])\n",
    "print(t[0:4,2])"
   ]
  },
  {
   "cell_type": "code",
   "execution_count": 131,
   "id": "a0e7d301-5f16-4c19-919e-7af8a47ef18d",
   "metadata": {},
   "outputs": [
    {
     "name": "stdout",
     "output_type": "stream",
     "text": [
      "[[4 5 6]\n",
      " [6 4 7]]\n",
      "**************\n",
      "[[[1 4 5 6 7 8]\n",
      "  [3 6 4 7 2 6]]\n",
      "\n",
      " [[3 7 6 8 4 5]\n",
      "  [4 6 2 4 9 3]]\n",
      "\n",
      " [[6 7 3 7 8 9]\n",
      "  [9 6 0 2 9 4]]]\n"
     ]
    }
   ],
   "source": [
    "#slicing 3D arrays:\n",
    "\n",
    "arr = np.array([[[1,4,5,6,7,8],[3,6,4,7,2,6]],\n",
    "                [[3,7,6,8,4,5],[4,6,2,4,9,3]],\n",
    "                [[6,7,3,7,8,9],[9,6,0,2,9,4]]])\n",
    "print(arr[0,0:4,1:4])\n",
    "print(\"**************\")\n",
    "print(arr[:,:,:])"
   ]
  },
  {
   "cell_type": "code",
   "execution_count": null,
   "id": "db8705f5-a8e6-49ca-9a91-1bbc4b7425e0",
   "metadata": {},
   "outputs": [],
   "source": []
  }
 ],
 "metadata": {
  "kernelspec": {
   "display_name": "Python 3 (ipykernel)",
   "language": "python",
   "name": "python3"
  },
  "language_info": {
   "codemirror_mode": {
    "name": "ipython",
    "version": 3
   },
   "file_extension": ".py",
   "mimetype": "text/x-python",
   "name": "python",
   "nbconvert_exporter": "python",
   "pygments_lexer": "ipython3",
   "version": "3.12.4"
  }
 },
 "nbformat": 4,
 "nbformat_minor": 5
}
