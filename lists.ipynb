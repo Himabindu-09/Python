{
 "cells": [
  {
   "cell_type": "code",
   "execution_count": 3,
   "id": "3b14a138-08f9-4308-bb2a-22204aa8caf8",
   "metadata": {},
   "outputs": [
    {
     "name": "stdout",
     "output_type": "stream",
     "text": [
      "<class 'list'>\n",
      "<class 'list'>\n",
      "<class 'list'>\n",
      "['apple', 'banana', 'cherry']\n"
     ]
    }
   ],
   "source": [
    "#Advanced datatypes\n",
    "\n",
    "#Lists\n",
    "\n",
    "#Creation of list\n",
    "#creation of empty list\n",
    "my_list = []\n",
    "#creating a list with elements\n",
    "numbers = [1,2,3,4,5]\n",
    "names = [\"apple\", \"banana\", \"Cherry\"]\n",
    "mixed_types = [1, \"apple\", 3.24, True]\n",
    "print(type(mixed_types))\n",
    "print(type(numbers))\n",
    "print(type(names))\n",
    "thislist = list((\"apple\", \"banana\", \"cherry\")) \n",
    "print(thislist)"
   ]
  },
  {
   "cell_type": "code",
   "execution_count": 5,
   "id": "b943d258-95ab-4ea6-915b-36a9a81ba92c",
   "metadata": {},
   "outputs": [
    {
     "name": "stdout",
     "output_type": "stream",
     "text": [
      "<class 'list'>\n",
      "<class 'list'>\n",
      "<class 'list'>\n",
      "<class 'list'>\n",
      "<class 'list'>\n"
     ]
    }
   ],
   "source": [
    "#practice\n",
    "\n",
    "list_1 = [ 1, 'apple', 3.6, False, 'banana']\n",
    "list2 = [\"abc\", 54, True, 90, \"female\"]\n",
    "list3 = [True, False, False, True]\n",
    "list_4 = ['priya', 25, 'srikakulam']\n",
    "list5 = [15, 3.6, 89, 9.6, 45]\n",
    "print(type(list_1))\n",
    "print(type(list2))\n",
    "print(type(list3))\n",
    "print(type(list_4))\n",
    "print(type(list5))"
   ]
  },
  {
   "cell_type": "code",
   "execution_count": 9,
   "id": "99d3b10e-ad31-4f3b-9c1b-51c76b7b8d6a",
   "metadata": {},
   "outputs": [
    {
     "name": "stdout",
     "output_type": "stream",
     "text": [
      "python\n",
      "c++\n"
     ]
    }
   ],
   "source": [
    "#Access list elements\n",
    "languages = [\"python\", \"c\", \"c++\", \"java\"]\n",
    "print(languages[0])\n",
    "print(languages[2])"
   ]
  },
  {
   "cell_type": "code",
   "execution_count": 13,
   "id": "3b2ee487-9f34-4d01-b268-104a888b67a5",
   "metadata": {},
   "outputs": [
    {
     "name": "stdout",
     "output_type": "stream",
     "text": [
      "pineapple\n"
     ]
    }
   ],
   "source": [
    "fruits = ['apple', ' banana', 'pineapple']\n",
    "print(fruits[-1])"
   ]
  },
  {
   "cell_type": "code",
   "execution_count": 19,
   "id": "c0fce2f1-0115-4579-8ee6-db1845e7eed8",
   "metadata": {},
   "outputs": [
    {
     "name": "stdout",
     "output_type": "stream",
     "text": [
      "True\n",
      "7\n",
      "23\n",
      "False\n",
      "True\n"
     ]
    }
   ],
   "source": [
    "#practice\n",
    "list1 = [23, \"apple\", 6.4, True, 'Bindu', False, 7,5]\n",
    "print(list1[3])\n",
    "print(list1[-2])\n",
    "print(list1[0])\n",
    "print(list1[-3])\n",
    "print(list1[-5])"
   ]
  },
  {
   "cell_type": "code",
   "execution_count": 29,
   "id": "0223b07c-8ca4-48c1-8b83-c70e7f466e49",
   "metadata": {},
   "outputs": [
    {
     "name": "stdout",
     "output_type": "stream",
     "text": [
      "['e', 'r', 'u', 'n', 'a']\n",
      "['n', 'a', 'l', 't', 'e', 'k', 'y', 'e', 'f', 'y']\n"
     ]
    }
   ],
   "source": [
    "#slicing of a list\n",
    "#list slicing in python\n",
    "list1 = ['E', 't', 'e', 'r', 'u', 'n','a', 'l', 't','e','k','y','e','f','y']\n",
    "#items from index 2 to index 7\n",
    "print(list1[2 : 7])\n",
    "#items from index 5 to end\n",
    "print(list1[5:])"
   ]
  },
  {
   "cell_type": "code",
   "execution_count": 35,
   "id": "92ab864e-1037-4964-8e2e-f86f88db7c74",
   "metadata": {},
   "outputs": [
    {
     "name": "stdout",
     "output_type": "stream",
     "text": [
      "['cherry', 'orange']\n",
      "['orange', 'kiwi', 'melon', 'mango']\n",
      "['apple', 'banana']\n",
      "['cherry', 'orange', 'kiwi']\n",
      "['apple', 'banana', 'cherry', 'orange', 'kiwi']\n"
     ]
    }
   ],
   "source": [
    "#practice\n",
    "\n",
    "mylist = [\"apple\", \"banana\", \"cherry\", \"orange\", \"kiwi\", \"melon\", \"mango\"]\n",
    "print(mylist[2:4])\n",
    "print(mylist[3:])\n",
    "print(mylist[:2])\n",
    "print(mylist[-5:-2])\n",
    "print(mylist[:-2])"
   ]
  },
  {
   "cell_type": "code",
   "execution_count": 37,
   "id": "8249a48c-bed1-426f-b546-890ba9f998fb",
   "metadata": {},
   "outputs": [
    {
     "name": "stdout",
     "output_type": "stream",
     "text": [
      "Yes, 'apple' is in the fruits list\n"
     ]
    }
   ],
   "source": [
    "list_1 = [\"apple\", \"banana\", \"cherry\"]\n",
    "if \"apple\" in list_1:\n",
    "  print(\"Yes, 'apple' is in the fruits list\")"
   ]
  },
  {
   "cell_type": "code",
   "execution_count": 39,
   "id": "f55ec6e4-cb0a-4844-80f2-7442af241f9f",
   "metadata": {},
   "outputs": [
    {
     "name": "stdout",
     "output_type": "stream",
     "text": [
      "[1, 4, 5, 6, 8, 1, 2, 3]\n"
     ]
    }
   ],
   "source": [
    "#List Operations\n",
    "#concatenation\n",
    "a= [1,2,3]\n",
    "b = [1,4,5,6,8]\n",
    "c = b+a\n",
    "print(c)"
   ]
  },
  {
   "cell_type": "code",
   "execution_count": 41,
   "id": "a5435cea-2b2f-44cb-82c7-dd7b44bb5536",
   "metadata": {},
   "outputs": [
    {
     "name": "stdout",
     "output_type": "stream",
     "text": [
      "['priya', 'sekhar', 'bindu', 'jyo', 'bhaskar', 'leena']\n"
     ]
    }
   ],
   "source": [
    "name1 = ['priya', 'sekhar', 'bindu']\n",
    "name2 = ['jyo', 'bhaskar', 'leena']\n",
    "names = name1 + name2\n",
    "print(names)"
   ]
  },
  {
   "cell_type": "code",
   "execution_count": 43,
   "id": "76095a9a-d044-4fd0-b7ad-46cb8407b6ad",
   "metadata": {},
   "outputs": [
    {
     "name": "stdout",
     "output_type": "stream",
     "text": [
      "[3, 6, 9, 12, 3, 6, 9, 12, 3, 6, 9, 12, 3, 6, 9, 12, 3, 6, 9, 12, 3, 6, 9, 12, 3, 6, 9, 12]\n"
     ]
    }
   ],
   "source": [
    "#Repetation\n",
    "a = [3,6,9,12]\n",
    "b = a*7\n",
    "print(b)"
   ]
  },
  {
   "cell_type": "code",
   "execution_count": 45,
   "id": "f8d371ff-d8ec-4def-b749-1cda396aeedd",
   "metadata": {},
   "outputs": [
    {
     "name": "stdout",
     "output_type": "stream",
     "text": [
      "['priya', 'sekhar', 'uma', 'sarvani', 'priya', 'sekhar', 'uma', 'sarvani', 'priya', 'sekhar', 'uma', 'sarvani', 'priya', 'sekhar', 'uma', 'sarvani']\n"
     ]
    }
   ],
   "source": [
    "name = ['priya', 'sekhar', 'uma', 'sarvani']\n",
    "name1 = name * 4\n",
    "print(name1)"
   ]
  },
  {
   "cell_type": "code",
   "execution_count": 47,
   "id": "110cfeb8-e765-43b7-b0f4-c39c13fed334",
   "metadata": {},
   "outputs": [
    {
     "name": "stdout",
     "output_type": "stream",
     "text": [
      "['apple', 'banana', 'cherry']\n",
      "['pineapple', 'banana', 'cherry']\n"
     ]
    }
   ],
   "source": [
    "#change list items\n",
    "lst = ['apple', 'banana', 'cherry']\n",
    "print(lst)\n",
    "lst[0] = \"pineapple\"\n",
    "print(lst)"
   ]
  },
  {
   "cell_type": "code",
   "execution_count": 49,
   "id": "dd4754b7-bccc-4fdb-84f5-3593f3d909b5",
   "metadata": {},
   "outputs": [
    {
     "name": "stdout",
     "output_type": "stream",
     "text": [
      "['pineapple', 'banana', 'cherry']\n",
      "['pineapple', 'banana', 'chikku']\n"
     ]
    }
   ],
   "source": [
    "lst1 = ['kiwi', 'papaya', 'dragonfruit']\n",
    "print(lst)\n",
    "lst[-1] = \"chikku\"\n",
    "print(lst)"
   ]
  },
  {
   "cell_type": "code",
   "execution_count": 51,
   "id": "849f56fd-a0b7-4a20-b73f-728fdca15673",
   "metadata": {},
   "outputs": [
    {
     "name": "stdout",
     "output_type": "stream",
     "text": [
      "['apple', 'black current', 'watermelon', 'fgh', 'kiwi', 'mango']\n"
     ]
    }
   ],
   "source": [
    "#change a range of Item values\n",
    "thislist = [\"apple\", \"banana\", \"cherry\", \"orange\", \"kiwi\", \"mango\"]\n",
    "thislist[1:4] = [\"black current\", \"watermelon\", \"fgh\"]\n",
    "print(thislist)"
   ]
  },
  {
   "cell_type": "code",
   "execution_count": 53,
   "id": "d71a9825-9641-4aa4-a143-47dbec6f82b0",
   "metadata": {},
   "outputs": [
    {
     "name": "stdout",
     "output_type": "stream",
     "text": [
      "[56, 78, 67, 89, 46, 25, 53, 46]\n"
     ]
    }
   ],
   "source": [
    "mylst = [56, 78, 23, 96, 19, 53, 46]\n",
    "mylst[2:5] = [67, 89, 46, 25]\n",
    "print(mylst)"
   ]
  },
  {
   "cell_type": "code",
   "execution_count": 55,
   "id": "0038afbc-4031-4316-a6c8-d214281aee55",
   "metadata": {},
   "outputs": [
    {
     "name": "stdout",
     "output_type": "stream",
     "text": [
      "[1, 2, 3, 59]\n"
     ]
    }
   ],
   "source": [
    "#list methods\n",
    "\n",
    "#append():\n",
    "numbers = [1,2,3]\n",
    "numbers.append(59)\n",
    "print(numbers)"
   ]
  },
  {
   "cell_type": "code",
   "execution_count": 57,
   "id": "d50fb939-5ee9-4abf-86c7-684a6db368d7",
   "metadata": {},
   "outputs": [
    {
     "name": "stdout",
     "output_type": "stream",
     "text": [
      "['priya', 'sekhar', 'hima']\n"
     ]
    }
   ],
   "source": [
    "lst = ['priya', 'sekhar']\n",
    "lst.append('hima')\n",
    "print(lst)"
   ]
  },
  {
   "cell_type": "code",
   "execution_count": 59,
   "id": "adafb66f-bf40-495b-9b5a-6d8bc3fcd64f",
   "metadata": {},
   "outputs": [
    {
     "name": "stdout",
     "output_type": "stream",
     "text": [
      "[1, 2, 3, 4, 5, 6, 8, 9, 4]\n"
     ]
    }
   ],
   "source": [
    "#extend():\n",
    "numbers = [1,2,3]\n",
    "more_numbers = [4,5,6,8,9,4]\n",
    "numbers.extend(more_numbers)\n",
    "print(numbers)"
   ]
  },
  {
   "cell_type": "code",
   "execution_count": 61,
   "id": "8c985d41-04af-48df-91ac-898116b30acf",
   "metadata": {},
   "outputs": [
    {
     "name": "stdout",
     "output_type": "stream",
     "text": [
      "[34, 65, 76, 89, 38, 90, 79, 26, 78, 21]\n"
     ]
    }
   ],
   "source": [
    "num = [34,65,76,89,38]\n",
    "num1 = [90,79,26,78,21]\n",
    "num.extend(num1)\n",
    "print(num)"
   ]
  },
  {
   "cell_type": "code",
   "execution_count": 65,
   "id": "11e3a9cf-1ce3-403a-9fb8-46206320e1fb",
   "metadata": {},
   "outputs": [
    {
     "name": "stdout",
     "output_type": "stream",
     "text": [
      "[1, 90, 9, 2, 9, 3]\n"
     ]
    }
   ],
   "source": [
    "#insert():\n",
    "numbers =[1,2,3]\n",
    "numbers.insert(1, 90)\n",
    "numbers.insert(2,9)\n",
    "numbers.insert(-1,9)\n",
    "print(numbers)"
   ]
  },
  {
   "cell_type": "code",
   "execution_count": 67,
   "id": "e7769ad7-07ed-4f2e-9ed1-b30ea36ca4d1",
   "metadata": {},
   "outputs": [
    {
     "name": "stdout",
     "output_type": "stream",
     "text": [
      "[45, 78, 58, 39, 56]\n"
     ]
    }
   ],
   "source": [
    "num = [45,78,39, 56]\n",
    "num.insert(2, 58)\n",
    "print(num)"
   ]
  },
  {
   "cell_type": "code",
   "execution_count": 69,
   "id": "f76c7f56-7784-426e-96f7-de0d8531f66f",
   "metadata": {},
   "outputs": [
    {
     "name": "stdout",
     "output_type": "stream",
     "text": [
      "[1, 3, 4, 2, 3, 2, 4]\n"
     ]
    }
   ],
   "source": [
    "#remove():\n",
    "numbers = [1,3,4,2,3,2,4,6]\n",
    "numbers.remove(6)\n",
    "print(numbers)"
   ]
  },
  {
   "cell_type": "code",
   "execution_count": 71,
   "id": "8fa024fa-1384-4c9f-a148-60dad125e144",
   "metadata": {},
   "outputs": [
    {
     "name": "stdout",
     "output_type": "stream",
     "text": [
      "[1, 3, 6, 7, 8, 3]\n"
     ]
    }
   ],
   "source": [
    "num1 = [1, 3, 3 ,6, 7, 8, 3]\n",
    "num1.remove(3)\n",
    "print(num1)"
   ]
  },
  {
   "cell_type": "code",
   "execution_count": 73,
   "id": "7fcf87f7-67fc-492e-b1e1-397060d41107",
   "metadata": {},
   "outputs": [
    {
     "name": "stdout",
     "output_type": "stream",
     "text": [
      "[1, 2, 3, 4, 5, 7, 9]\n",
      "4\n"
     ]
    }
   ],
   "source": [
    "#pop():\n",
    "numbers = [1,2,3,4,5,7,9,4]\n",
    "popped_element = numbers.pop()\n",
    "print(numbers)\n",
    "print(popped_element)"
   ]
  },
  {
   "cell_type": "code",
   "execution_count": 75,
   "id": "c5d1354c-05cb-4580-bfb6-58c5df4bbc74",
   "metadata": {},
   "outputs": [
    {
     "name": "stdout",
     "output_type": "stream",
     "text": [
      "['sekhar', 'hima', 'priya', 'bindu']\n",
      "srsegfhg\n"
     ]
    }
   ],
   "source": [
    "lst= ['sekhar', 'hima', 'priya', 'bindu', 'srsegfhg']\n",
    "pop_ele = lst.pop()\n",
    "print(lst)\n",
    "print(pop_ele)"
   ]
  },
  {
   "cell_type": "code",
   "execution_count": 90,
   "id": "e3d312bb-615d-4d27-af9b-41f5a03eeeab",
   "metadata": {},
   "outputs": [
    {
     "name": "stdout",
     "output_type": "stream",
     "text": [
      "0\n"
     ]
    }
   ],
   "source": [
    "#index():\n",
    "num = [10, 20, 30, 20, 40, 30, 30, 40, 50]\n",
    "num_index = num.index(10)\n",
    "print(num_index)"
   ]
  },
  {
   "cell_type": "code",
   "execution_count": 92,
   "id": "ea96c0bf-c14b-45dd-9368-22d967172ac3",
   "metadata": {},
   "outputs": [
    {
     "name": "stdout",
     "output_type": "stream",
     "text": [
      "2\n"
     ]
    }
   ],
   "source": [
    "lst = ['priya', 'sekhar', 'jyo', 'bhaskar', 'amma', 'nanna']\n",
    "my_lst = lst.index('jyo')\n",
    "print(my_lst)"
   ]
  },
  {
   "cell_type": "code",
   "execution_count": 94,
   "id": "3f371d29-15e2-40b6-a793-af421f6a02a0",
   "metadata": {},
   "outputs": [
    {
     "name": "stdout",
     "output_type": "stream",
     "text": [
      "4\n"
     ]
    }
   ],
   "source": [
    "#count():\n",
    "num= [1,2,3,2,4,2,6,7,9,6,0,2,6,4]\n",
    "count=num.count(2)\n",
    "print(count)"
   ]
  },
  {
   "cell_type": "code",
   "execution_count": 100,
   "id": "a1e86771-3487-4ca1-9206-7434fb6addd6",
   "metadata": {},
   "outputs": [
    {
     "name": "stdout",
     "output_type": "stream",
     "text": [
      "1\n"
     ]
    }
   ],
   "source": [
    "lst = [1,7,80, 94, 25, 78, 82]\n",
    "count = lst.count(25)\n",
    "print(count)"
   ]
  },
  {
   "cell_type": "code",
   "execution_count": 102,
   "id": "1e3be21f-e783-468e-bb48-ac143fd67ea7",
   "metadata": {},
   "outputs": [
    {
     "name": "stdout",
     "output_type": "stream",
     "text": [
      "[0, 1, 2, 2, 2, 2, 3, 4, 4, 6, 6, 6, 7, 9]\n"
     ]
    }
   ],
   "source": [
    "#sort():\n",
    "numbers = [1,2,3,2,4,2,6,7,9,6,0,2,6,4]\n",
    "numbers.sort()\n",
    "print(numbers)"
   ]
  },
  {
   "cell_type": "code",
   "execution_count": 104,
   "id": "0a0725d5-563c-400c-b2eb-36ff26061d67",
   "metadata": {},
   "outputs": [
    {
     "name": "stdout",
     "output_type": "stream",
     "text": [
      "['BEg', 'BanaNa', 'Support', 'applecherry', 'dog', 'pineapple']\n"
     ]
    }
   ],
   "source": [
    "j = ['apple' 'cherry', 'pineapple', 'BanaNa', 'Support', 'dog', 'BEg']\n",
    "j.sort()\n",
    "print(j)"
   ]
  },
  {
   "cell_type": "code",
   "execution_count": 106,
   "id": "79e50d23-15b0-4a94-a975-98ce1a82e33a",
   "metadata": {},
   "outputs": [
    {
     "name": "stdout",
     "output_type": "stream",
     "text": [
      "['Bindu', 'Leena', 'Priya', 'ishika', 'sekhar']\n"
     ]
    }
   ],
   "source": [
    "my_lst= ['Leena', 'ishika', 'Bindu', 'Priya', 'sekhar']\n",
    "my_lst.sort()\n",
    "print(my_lst)"
   ]
  },
  {
   "cell_type": "code",
   "execution_count": 110,
   "id": "fe7137ea-0a5e-4918-8f53-a4dcb6e2877a",
   "metadata": {},
   "outputs": [
    {
     "name": "stdout",
     "output_type": "stream",
     "text": [
      "[0, 6, 8, 4, 6, 2, 0, 6]\n"
     ]
    }
   ],
   "source": [
    "#reverse\n",
    "numbers = [6,0,2,6,4,8,6,0]\n",
    "numbers.reverse()\n",
    "print(numbers)"
   ]
  },
  {
   "cell_type": "code",
   "execution_count": 112,
   "id": "4f3d12bb-5d0f-446b-adec-7167ae6b2657",
   "metadata": {},
   "outputs": [
    {
     "name": "stdout",
     "output_type": "stream",
     "text": [
      "['jyothi', 'bhaskar', 'sekhar', 'priya']\n"
     ]
    }
   ],
   "source": [
    "names = ['priya', 'sekhar', 'bhaskar', 'jyothi']\n",
    "names.reverse()\n",
    "print(names)"
   ]
  },
  {
   "cell_type": "code",
   "execution_count": 116,
   "id": "1900e27a-f835-452d-b84e-61de03a55d5c",
   "metadata": {},
   "outputs": [
    {
     "name": "stdout",
     "output_type": "stream",
     "text": [
      "[]\n"
     ]
    }
   ],
   "source": [
    "#clear():\n",
    "vegetables = [\"carrot\", \"potato\"]\n",
    "vegetables.clear()\n",
    "print(vegetables)"
   ]
  },
  {
   "cell_type": "code",
   "execution_count": 118,
   "id": "63dbfb04-6b23-4bc7-9b9e-dc807aa86316",
   "metadata": {},
   "outputs": [
    {
     "name": "stdout",
     "output_type": "stream",
     "text": [
      "['apple', 'banana', 'carrot']\n",
      "['apple', 'banana', 'carrot', 'mango']\n"
     ]
    }
   ],
   "source": [
    "#copy():\n",
    "fruits = [\"apple\", \"banana\", \"carrot\"]\n",
    "fruits_copy = fruits.copy()\n",
    "fruits_copy.append(\"mango\")\n",
    "print(fruits) \n",
    "print(fruits_copy)"
   ]
  },
  {
   "cell_type": "code",
   "execution_count": 120,
   "id": "edaaa803-474a-429a-9d94-2f0e54339a90",
   "metadata": {},
   "outputs": [
    {
     "data": {
      "text/plain": [
       "3"
      ]
     },
     "execution_count": 120,
     "metadata": {},
     "output_type": "execute_result"
    }
   ],
   "source": [
    "#len():\n",
    "fruits = [\"apple\", \"banana\", \"carrot\"]\n",
    "len(fruits)\n"
   ]
  }
 ],
 "metadata": {
  "kernelspec": {
   "display_name": "Python 3 (ipykernel)",
   "language": "python",
   "name": "python3"
  },
  "language_info": {
   "codemirror_mode": {
    "name": "ipython",
    "version": 3
   },
   "file_extension": ".py",
   "mimetype": "text/x-python",
   "name": "python",
   "nbconvert_exporter": "python",
   "pygments_lexer": "ipython3",
   "version": "3.12.4"
  }
 },
 "nbformat": 4,
 "nbformat_minor": 5
}
