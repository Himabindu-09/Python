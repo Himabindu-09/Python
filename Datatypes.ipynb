{
 "cells": [
  {
   "cell_type": "code",
   "execution_count": 1,
   "id": "f406ed81-458f-4146-a34f-26a02364a5fc",
   "metadata": {},
   "outputs": [
    {
     "name": "stdout",
     "output_type": "stream",
     "text": [
      "<class 'int'>\n",
      "<class 'float'>\n",
      "<class 'complex'>\n"
     ]
    }
   ],
   "source": [
    "#DataTpes\n",
    "x=1\n",
    "y=2.8\n",
    "z=1j\n",
    "print(type(x))\n",
    "print(type(y))\n",
    "print(type(z))"
   ]
  },
  {
   "cell_type": "code",
   "execution_count": 5,
   "id": "b2aaf18b-cc2f-48b6-bab2-f3ac6f5578c4",
   "metadata": {},
   "outputs": [
    {
     "name": "stdout",
     "output_type": "stream",
     "text": [
      "<class 'int'>\n",
      "<class 'int'>\n",
      "<class 'int'>\n",
      "<class 'int'>\n",
      "<class 'int'>\n",
      "<class 'int'>\n",
      "<class 'int'>\n",
      "<class 'int'>\n",
      "<class 'int'>\n",
      "<class 'int'>\n"
     ]
    }
   ],
   "source": [
    "#int examples\n",
    "a= 10\n",
    "b= 15\n",
    "var_1 =25\n",
    "var = 5\n",
    "apples = 16\n",
    "cars_ = 39\n",
    "_sal = 25000\n",
    "_age_ = 25\n",
    "pin_1 =532001\n",
    "_Name_1 = 15\n",
    "print(type(a))\n",
    "print(type(b))\n",
    "print(type(var_1))\n",
    "print(type(var))\n",
    "print(type(apples))\n",
    "print(type(cars_))\n",
    "print(type(_sal))\n",
    "print(type(_age_))\n",
    "print(type(pin_1))\n",
    "print(type(_Name_1))"
   ]
  },
  {
   "cell_type": "code",
   "execution_count": 7,
   "id": "6d2e4bce-732a-4dab-b48c-41fcd32aa072",
   "metadata": {},
   "outputs": [
    {
     "name": "stdout",
     "output_type": "stream",
     "text": [
      "<class 'float'>\n",
      "<class 'float'>\n",
      "<class 'float'>\n",
      "<class 'float'>\n",
      "<class 'float'>\n",
      "<class 'float'>\n",
      "<class 'float'>\n",
      "<class 'float'>\n",
      "<class 'float'>\n",
      "<class 'float'>\n"
     ]
    }
   ],
   "source": [
    "#float examples\n",
    "x= 3.5\n",
    "y = 6.7\n",
    "var = 5.8\n",
    "var_1 = 10.0\n",
    "_var2 = 6.7\n",
    "_var_3 = 0.0\n",
    "_sal = 500000.00\n",
    "_age_ = 35.0\n",
    "_var5_ = 36.9\n",
    "_sal6 = 750000.0\n",
    "print(type(x))\n",
    "print(type(y))\n",
    "print(type(var))\n",
    "print(type(var_1))\n",
    "print(type(_var2))\n",
    "print(type(_var_3))\n",
    "print(type(_sal))\n",
    "print(type(_age_))\n",
    "print(type(_var5_))\n",
    "print(type(_sal6))"
   ]
  },
  {
   "cell_type": "code",
   "execution_count": 11,
   "id": "83faf755-23c5-45ef-afaa-2f48b87a3217",
   "metadata": {},
   "outputs": [
    {
     "name": "stdout",
     "output_type": "stream",
     "text": [
      "<class 'complex'>\n",
      "<class 'complex'>\n",
      "<class 'complex'>\n",
      "<class 'complex'>\n",
      "<class 'complex'>\n",
      "<class 'complex'>\n",
      "<class 'complex'>\n",
      "<class 'complex'>\n",
      "<class 'complex'>\n",
      "<class 'complex'>\n"
     ]
    }
   ],
   "source": [
    "x= 2j\n",
    "y= 5+6j\n",
    "z= 10j\n",
    "var = 3-10j\n",
    "var1 = 4+0j\n",
    "var_2 = 3-6j\n",
    "_var_3 = 2-6j\n",
    "_var4 = 5+2j\n",
    "_var5_ = 8-3j\n",
    "_var_6 = 56+0j\n",
    "print(type(x))\n",
    "print(type(y))\n",
    "print(type(z))\n",
    "print(type(var))\n",
    "print(type(var1))\n",
    "print(type(var_2))\n",
    "print(type(_var_3))\n",
    "print(type(_var4))\n",
    "print(type(_var5_))\n",
    "print(type(_var_6))"
   ]
  },
  {
   "cell_type": "code",
   "execution_count": 17,
   "id": "0e57f850-b9e0-4f72-9c1a-033cdd025cb0",
   "metadata": {},
   "outputs": [
    {
     "name": "stdout",
     "output_type": "stream",
     "text": [
      "7.0 2 (7+0j) (2.844+0j)\n"
     ]
    }
   ],
   "source": [
    "#variable conversion\n",
    "x= 7\n",
    "y = 2.844\n",
    "z = 1j\n",
    "a = float(x)\n",
    "b = int(y)\n",
    "c = complex(x)\n",
    "d = complex(y)\n",
    "print(a, b, c, d)"
   ]
  },
  {
   "cell_type": "code",
   "execution_count": 19,
   "id": "c71b71e2-3b2a-48e2-936a-17d07a40ebcf",
   "metadata": {},
   "outputs": [
    {
     "ename": "TypeError",
     "evalue": "int() argument must be a string, a bytes-like object or a real number, not 'complex'",
     "output_type": "error",
     "traceback": [
      "\u001b[1;31m---------------------------------------------------------------------------\u001b[0m",
      "\u001b[1;31mTypeError\u001b[0m                                 Traceback (most recent call last)",
      "Cell \u001b[1;32mIn[19], line 3\u001b[0m\n\u001b[0;32m      1\u001b[0m \u001b[38;5;66;03m#what happen if we convert complex into float or int\u001b[39;00m\n\u001b[0;32m      2\u001b[0m y\u001b[38;5;241m=\u001b[39m \u001b[38;5;241m0\u001b[39mj\n\u001b[1;32m----> 3\u001b[0m a \u001b[38;5;241m=\u001b[39m \u001b[38;5;28mint\u001b[39m(y)\n\u001b[0;32m      4\u001b[0m \u001b[38;5;28mprint\u001b[39m(a)\n",
      "\u001b[1;31mTypeError\u001b[0m: int() argument must be a string, a bytes-like object or a real number, not 'complex'"
     ]
    }
   ],
   "source": [
    "#what happen if we convert complex into float or int\n",
    "y= 0j\n",
    "a = int(y)\n",
    "print(a)"
   ]
  },
  {
   "cell_type": "code",
   "execution_count": 37,
   "id": "e5fd7fdb-b2df-4a72-b0be-5143ec84311b",
   "metadata": {},
   "outputs": [
    {
     "name": "stdout",
     "output_type": "stream",
     "text": [
      "56.0\n"
     ]
    }
   ],
   "source": [
    "#int to float \n",
    "x = 56\n",
    "a = float(x)\n",
    "print(a)"
   ]
  },
  {
   "cell_type": "code",
   "execution_count": 39,
   "id": "42068719-72b3-436a-9dd7-1df3b7f4e66f",
   "metadata": {},
   "outputs": [
    {
     "name": "stdout",
     "output_type": "stream",
     "text": [
      "25.0\n"
     ]
    }
   ],
   "source": [
    "y = 25\n",
    "z = float(y)\n",
    "print(z)"
   ]
  },
  {
   "cell_type": "code",
   "execution_count": 41,
   "id": "213a91d0-5a09-4b2e-9ea4-3c039fad3d90",
   "metadata": {},
   "outputs": [
    {
     "name": "stdout",
     "output_type": "stream",
     "text": [
      "59.0\n"
     ]
    }
   ],
   "source": [
    "var = 59\n",
    "var_1 = float(var)\n",
    "print(var_1)"
   ]
  },
  {
   "cell_type": "code",
   "execution_count": 43,
   "id": "f9d716a9-4b08-4a3f-9b89-7759d10c5a12",
   "metadata": {},
   "outputs": [
    {
     "name": "stdout",
     "output_type": "stream",
     "text": [
      "10.0\n"
     ]
    }
   ],
   "source": [
    "var_1 = 10\n",
    "var_2 = float(var_1)\n",
    "print(var_2)"
   ]
  },
  {
   "cell_type": "code",
   "execution_count": 45,
   "id": "c5752af1-3ca9-4a88-9f2e-7c78ef6557ce",
   "metadata": {},
   "outputs": [
    {
     "name": "stdout",
     "output_type": "stream",
     "text": [
      "46.0\n"
     ]
    }
   ],
   "source": [
    "_var3 = 46\n",
    "y = float(_var3)\n",
    "print(y)"
   ]
  },
  {
   "cell_type": "code",
   "execution_count": 47,
   "id": "87b3a386-e72d-408f-a258-495b79f4ab8a",
   "metadata": {},
   "outputs": [
    {
     "name": "stdout",
     "output_type": "stream",
     "text": [
      "98.0\n"
     ]
    }
   ],
   "source": [
    "var_4 = 98\n",
    "a = float(var_4)\n",
    "print(a)"
   ]
  },
  {
   "cell_type": "code",
   "execution_count": 49,
   "id": "65ac485e-ad19-46d6-bb56-fdd5c5f64c35",
   "metadata": {},
   "outputs": [
    {
     "name": "stdout",
     "output_type": "stream",
     "text": [
      "14.0\n"
     ]
    }
   ],
   "source": [
    "_var_5 = 14\n",
    "x = float(_var_5)\n",
    "print(x)"
   ]
  },
  {
   "cell_type": "code",
   "execution_count": 51,
   "id": "23ba449f-d310-450d-987d-6daea7d47c3d",
   "metadata": {},
   "outputs": [
    {
     "name": "stdout",
     "output_type": "stream",
     "text": [
      "79.0\n"
     ]
    }
   ],
   "source": [
    "var_6_ = 79\n",
    "var_a = float(var_6_)\n",
    "print(var_a)"
   ]
  },
  {
   "cell_type": "code",
   "execution_count": 53,
   "id": "fbf964a1-484d-431c-8be4-4bd8a8e85352",
   "metadata": {},
   "outputs": [
    {
     "name": "stdout",
     "output_type": "stream",
     "text": [
      "83.0\n"
     ]
    }
   ],
   "source": [
    "_var7 = 83\n",
    "varb = float(_var7)\n",
    "print(varb)"
   ]
  },
  {
   "cell_type": "code",
   "execution_count": 55,
   "id": "87804ed5-a0c2-49e7-96f6-d33a1dbcc972",
   "metadata": {},
   "outputs": [
    {
     "name": "stdout",
     "output_type": "stream",
     "text": [
      "39.0\n"
     ]
    }
   ],
   "source": [
    "var__8 = 39\n",
    "x = float(var__8)\n",
    "print(x)"
   ]
  },
  {
   "cell_type": "code",
   "execution_count": 57,
   "id": "e8d6b5c8-3937-40c7-b1bd-694c293f26d5",
   "metadata": {},
   "outputs": [
    {
     "name": "stdout",
     "output_type": "stream",
     "text": [
      "25\n"
     ]
    }
   ],
   "source": [
    "#float to int\n",
    "var_1 = 25.0\n",
    "var_2 = int(var_1)\n",
    "print(var_2)"
   ]
  },
  {
   "cell_type": "code",
   "execution_count": 59,
   "id": "0381c20b-5fdc-4840-83be-4b255f70ce3c",
   "metadata": {},
   "outputs": [
    {
     "name": "stdout",
     "output_type": "stream",
     "text": [
      "23\n"
     ]
    }
   ],
   "source": [
    "x = 23.6\n",
    "y = int(x)\n",
    "print(y)"
   ]
  },
  {
   "cell_type": "code",
   "execution_count": 63,
   "id": "483e10ab-e729-4a18-b6a5-962482ed0783",
   "metadata": {},
   "outputs": [
    {
     "name": "stdout",
     "output_type": "stream",
     "text": [
      "35\n"
     ]
    }
   ],
   "source": [
    "y = 35.4\n",
    "z= int(y)\n",
    "print(z)"
   ]
  },
  {
   "cell_type": "code",
   "execution_count": 65,
   "id": "a9d4c49b-ad27-4401-b845-75fa45339c11",
   "metadata": {},
   "outputs": [
    {
     "name": "stdout",
     "output_type": "stream",
     "text": [
      "20\n"
     ]
    }
   ],
   "source": [
    "z= 20.0\n",
    "x= int(z)\n",
    "print(x)"
   ]
  },
  {
   "cell_type": "code",
   "execution_count": 67,
   "id": "46c11361-06a5-45ff-9b8e-92ce3ff3c158",
   "metadata": {},
   "outputs": [
    {
     "name": "stdout",
     "output_type": "stream",
     "text": [
      "59\n"
     ]
    }
   ],
   "source": [
    "var = 59.3\n",
    "var_1 = int(var)\n",
    "print(var_1)"
   ]
  },
  {
   "cell_type": "code",
   "execution_count": 69,
   "id": "a197ff2f-79b2-4d0a-9eec-9413511adb3a",
   "metadata": {},
   "outputs": [
    {
     "name": "stdout",
     "output_type": "stream",
     "text": [
      "10\n"
     ]
    }
   ],
   "source": [
    "var_1 = 10.3\n",
    "var_2 = int(var_1)\n",
    "print(var_2)"
   ]
  },
  {
   "cell_type": "code",
   "execution_count": 71,
   "id": "2cf73ec0-d836-47fb-9f8f-2099fe8b2eea",
   "metadata": {},
   "outputs": [
    {
     "name": "stdout",
     "output_type": "stream",
     "text": [
      "14\n"
     ]
    }
   ],
   "source": [
    "_var_5 = 14.6\n",
    "x =  int(_var_5)\n",
    "print(x)"
   ]
  },
  {
   "cell_type": "code",
   "execution_count": 73,
   "id": "fdb88ed8-8731-42a9-8ed0-d612ee7a3610",
   "metadata": {},
   "outputs": [
    {
     "name": "stdout",
     "output_type": "stream",
     "text": [
      "78\n"
     ]
    }
   ],
   "source": [
    "_var7 = 78.4\n",
    "varb = int(_var7)\n",
    "print(varb)"
   ]
  },
  {
   "cell_type": "code",
   "execution_count": 75,
   "id": "619bd614-68bd-4bd1-9c03-730a15db7a85",
   "metadata": {},
   "outputs": [
    {
     "name": "stdout",
     "output_type": "stream",
     "text": [
      "67\n"
     ]
    }
   ],
   "source": [
    "_var3 = 67.8\n",
    "y = int(_var3)\n",
    "print(y)"
   ]
  },
  {
   "cell_type": "code",
   "execution_count": 33,
   "id": "9ac52435-94f0-42dc-a2d5-8a3e00b9cc5f",
   "metadata": {},
   "outputs": [
    {
     "name": "stdout",
     "output_type": "stream",
     "text": [
      "26\n"
     ]
    }
   ],
   "source": [
    "a3 = 26.7\n",
    "a4 = int(a3)\n",
    "print(a4)\n"
   ]
  },
  {
   "cell_type": "code",
   "execution_count": 23,
   "id": "bd8df3c5-3e5c-4d0c-9544-9c2c9ec262af",
   "metadata": {},
   "outputs": [
    {
     "name": "stdout",
     "output_type": "stream",
     "text": [
      "(35+0j)\n"
     ]
    }
   ],
   "source": [
    "#int to complex\n",
    "var = 35\n",
    "b = complex(var)\n",
    "print(b)"
   ]
  },
  {
   "cell_type": "code",
   "execution_count": 77,
   "id": "c0dcde45-7745-484e-9bea-4346ea8c3e74",
   "metadata": {},
   "outputs": [
    {
     "name": "stdout",
     "output_type": "stream",
     "text": [
      "(5665+0j)\n"
     ]
    }
   ],
   "source": [
    "x = 5665\n",
    "a = complex(x)\n",
    "print(a)"
   ]
  },
  {
   "cell_type": "code",
   "execution_count": 79,
   "id": "23dda3e8-7508-4751-aed9-f787dd2db62e",
   "metadata": {},
   "outputs": [
    {
     "name": "stdout",
     "output_type": "stream",
     "text": [
      "(2567+0j)\n"
     ]
    }
   ],
   "source": [
    "y = 2567\n",
    "z = complex(y)\n",
    "print(z)"
   ]
  },
  {
   "cell_type": "code",
   "execution_count": 81,
   "id": "20b71874-f9bc-47c3-a398-30a65bf7a9ad",
   "metadata": {},
   "outputs": [
    {
     "name": "stdout",
     "output_type": "stream",
     "text": [
      "(595+0j)\n"
     ]
    }
   ],
   "source": [
    "var = 595\n",
    "var_1 = complex(var)\n",
    "print(var_1)"
   ]
  },
  {
   "cell_type": "code",
   "execution_count": 83,
   "id": "3e6690bf-39e9-47fb-877e-054c40468f7d",
   "metadata": {},
   "outputs": [
    {
     "name": "stdout",
     "output_type": "stream",
     "text": [
      "(1089+0j)\n"
     ]
    }
   ],
   "source": [
    "var_1 = 1089\n",
    "var_2 = complex(var_1)\n",
    "print(var_2)"
   ]
  },
  {
   "cell_type": "code",
   "execution_count": 85,
   "id": "60340a0c-61e5-4014-923a-f036f8f755df",
   "metadata": {},
   "outputs": [
    {
     "name": "stdout",
     "output_type": "stream",
     "text": [
      "(4623+0j)\n"
     ]
    }
   ],
   "source": [
    "_var3 = 4623\n",
    "y = complex(_var3)\n",
    "print(y)"
   ]
  },
  {
   "cell_type": "code",
   "execution_count": 87,
   "id": "93642384-b037-4833-8f97-81c9ab489099",
   "metadata": {},
   "outputs": [
    {
     "name": "stdout",
     "output_type": "stream",
     "text": [
      "(9890+0j)\n"
     ]
    }
   ],
   "source": [
    "var_4 = 9890\n",
    "a = complex(var_4)\n",
    "print(a)"
   ]
  },
  {
   "cell_type": "code",
   "execution_count": 89,
   "id": "09caed88-34d6-4f05-9a55-83f92b29432a",
   "metadata": {},
   "outputs": [
    {
     "name": "stdout",
     "output_type": "stream",
     "text": [
      "(1487+0j)\n"
     ]
    }
   ],
   "source": [
    "_var_5 = 1487\n",
    "x = complex(_var_5)\n",
    "print(x)"
   ]
  },
  {
   "cell_type": "code",
   "execution_count": 91,
   "id": "fba4cdaf-e214-445b-ac03-301ed7b4c2ef",
   "metadata": {},
   "outputs": [
    {
     "name": "stdout",
     "output_type": "stream",
     "text": [
      "(798+0j)\n"
     ]
    }
   ],
   "source": [
    "var_6_ = 798\n",
    "var_a = complex(var_6_)\n",
    "print(var_a)"
   ]
  },
  {
   "cell_type": "code",
   "execution_count": 93,
   "id": "f92a1049-db52-4f98-8cc2-7d2484d31fe9",
   "metadata": {},
   "outputs": [
    {
     "name": "stdout",
     "output_type": "stream",
     "text": [
      "(8390+0j)\n"
     ]
    }
   ],
   "source": [
    "_var7 = 8390\n",
    "varb = complex(_var7)\n",
    "print(varb)"
   ]
  },
  {
   "cell_type": "code",
   "execution_count": 95,
   "id": "8734be8c-7cf7-42cf-bf28-5ea4472ccd38",
   "metadata": {},
   "outputs": [
    {
     "name": "stdout",
     "output_type": "stream",
     "text": [
      "(38.6+0j)\n"
     ]
    }
   ],
   "source": [
    "#float to complex\n",
    "var_2 = 38.6\n",
    "c= complex(var_2)\n",
    "print(c)"
   ]
  },
  {
   "cell_type": "code",
   "execution_count": 97,
   "id": "3dce98b0-27d9-4139-b898-e47d556a2f02",
   "metadata": {},
   "outputs": [
    {
     "name": "stdout",
     "output_type": "stream",
     "text": [
      "(25.7+0j)\n"
     ]
    }
   ],
   "source": [
    "var_1 = 25.7\n",
    "var_2 = complex(var_1)\n",
    "print(var_2)"
   ]
  },
  {
   "cell_type": "code",
   "execution_count": 99,
   "id": "9d5f2307-ff25-4744-b3cb-48e57a562293",
   "metadata": {},
   "outputs": [
    {
     "name": "stdout",
     "output_type": "stream",
     "text": [
      "(234.4+0j)\n"
     ]
    }
   ],
   "source": [
    "x = 234.4\n",
    "y = complex(x)\n",
    "print(y)"
   ]
  },
  {
   "cell_type": "code",
   "execution_count": 101,
   "id": "c7535296-ad73-4083-a88c-a719097bef1f",
   "metadata": {},
   "outputs": [
    {
     "name": "stdout",
     "output_type": "stream",
     "text": [
      "(35.46+0j)\n"
     ]
    }
   ],
   "source": [
    "y = 35.46\n",
    "z= complex(y)\n",
    "print(z)"
   ]
  },
  {
   "cell_type": "code",
   "execution_count": 103,
   "id": "c413b61f-91be-4a83-b0f7-52b095866a8b",
   "metadata": {},
   "outputs": [
    {
     "name": "stdout",
     "output_type": "stream",
     "text": [
      "(20.07+0j)\n"
     ]
    }
   ],
   "source": [
    "z= 20.07\n",
    "x= complex(z)\n",
    "print(x)"
   ]
  },
  {
   "cell_type": "code",
   "execution_count": 105,
   "id": "70c4f613-e017-4673-a7b8-b4ba1260697e",
   "metadata": {},
   "outputs": [
    {
     "name": "stdout",
     "output_type": "stream",
     "text": [
      "(59.334+0j)\n"
     ]
    }
   ],
   "source": [
    "var = 59.334\n",
    "var_1 = complex(var)\n",
    "print(var_1)"
   ]
  },
  {
   "cell_type": "code",
   "execution_count": 107,
   "id": "2722f3f7-24a8-4c16-8c38-b1458bd02ed8",
   "metadata": {},
   "outputs": [
    {
     "name": "stdout",
     "output_type": "stream",
     "text": [
      "(11.36+0j)\n"
     ]
    }
   ],
   "source": [
    "var_1 = 11.36\n",
    "var_2 = complex(var_1)\n",
    "print(var_2)"
   ]
  },
  {
   "cell_type": "code",
   "execution_count": 109,
   "id": "21a3e7c5-024a-4f7c-a625-035aeab4e4c9",
   "metadata": {},
   "outputs": [
    {
     "name": "stdout",
     "output_type": "stream",
     "text": [
      "(14.6+0j)\n"
     ]
    }
   ],
   "source": [
    "_var_5 = 14.6\n",
    "x =  complex(_var_5)\n",
    "print(x)"
   ]
  },
  {
   "cell_type": "code",
   "execution_count": 111,
   "id": "4f498aff-37c9-4c43-b860-f95ec190ad86",
   "metadata": {},
   "outputs": [
    {
     "name": "stdout",
     "output_type": "stream",
     "text": [
      "(78.48+0j)\n"
     ]
    }
   ],
   "source": [
    "_var7 = 78.48\n",
    "varb = complex(_var7)\n",
    "print(varb)"
   ]
  },
  {
   "cell_type": "code",
   "execution_count": 35,
   "id": "c8025acb-77cb-4a43-8dac-848e62c7396b",
   "metadata": {},
   "outputs": [
    {
     "name": "stdout",
     "output_type": "stream",
     "text": [
      "(53.9+0j)\n"
     ]
    }
   ],
   "source": [
    "_var3 = 53.9\n",
    "x= complex(_var3)\n",
    "print(x)"
   ]
  },
  {
   "cell_type": "code",
   "execution_count": 113,
   "id": "fd08dda8-5286-4e0b-81bd-3c9c27ffb49d",
   "metadata": {},
   "outputs": [
    {
     "name": "stdout",
     "output_type": "stream",
     "text": [
      "True\n",
      "False\n",
      "True\n"
     ]
    }
   ],
   "source": [
    "#booleans\n",
    "print(15>9)\n",
    "print(13==9)\n",
    "print(1<5)"
   ]
  },
  {
   "cell_type": "code",
   "execution_count": 119,
   "id": "e0ba8e35-5ee7-4e46-add1-133434abc049",
   "metadata": {},
   "outputs": [
    {
     "name": "stdout",
     "output_type": "stream",
     "text": [
      "True\n",
      "True\n",
      "False\n",
      "True\n",
      "False\n",
      "False\n",
      "False\n",
      "False\n",
      "True\n",
      "True\n"
     ]
    }
   ],
   "source": [
    "print(13!=10)\n",
    "print(100>56)\n",
    "print(14<3)\n",
    "print (9==9)\n",
    "print(8>=10)\n",
    "print(4!=4)\n",
    "print(589>598)\n",
    "print(23==22)\n",
    "print(12>2)\n",
    "print( 267!=25)"
   ]
  },
  {
   "cell_type": "code",
   "execution_count": 123,
   "id": "6a5be469-b511-4a83-8035-4244a77f8f74",
   "metadata": {},
   "outputs": [
    {
     "name": "stdout",
     "output_type": "stream",
     "text": [
      "True\n",
      "False\n",
      "True\n",
      "True\n",
      "True\n",
      "True\n",
      "True\n",
      "True\n",
      "True\n",
      "False\n",
      "True\n",
      "True\n"
     ]
    }
   ],
   "source": [
    "#evaluate values & variables\n",
    "print(bool(3.65))\n",
    "print(bool(0))\n",
    "print(bool(45))\n",
    "print(bool(0.67))\n",
    "print(bool(345.7))\n",
    "print(bool(259))\n",
    "print(bool(0.564))\n",
    "print(bool(21))\n",
    "print(bool(2.56))\n",
    "print(bool(0.00))\n",
    "print(bool(54.09))\n",
    "print(bool(965.0))"
   ]
  },
  {
   "cell_type": "code",
   "execution_count": null,
   "id": "bdc69874-e468-4ef5-a63d-8da4a2dda6a5",
   "metadata": {},
   "outputs": [],
   "source": []
  }
 ],
 "metadata": {
  "kernelspec": {
   "display_name": "Python 3 (ipykernel)",
   "language": "python",
   "name": "python3"
  },
  "language_info": {
   "codemirror_mode": {
    "name": "ipython",
    "version": 3
   },
   "file_extension": ".py",
   "mimetype": "text/x-python",
   "name": "python",
   "nbconvert_exporter": "python",
   "pygments_lexer": "ipython3",
   "version": "3.12.4"
  }
 },
 "nbformat": 4,
 "nbformat_minor": 5
}
