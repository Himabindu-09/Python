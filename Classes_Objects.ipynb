{
 "cells": [
  {
   "cell_type": "code",
   "execution_count": 9,
   "id": "d7664aa4-cecb-4feb-add3-abf4f98f5eec",
   "metadata": {},
   "outputs": [
    {
     "name": "stdout",
     "output_type": "stream",
     "text": [
      "5\n"
     ]
    }
   ],
   "source": [
    "#Create a class:\n",
    "\n",
    "#Syntax: Class Class_Name : body of class\n",
    "\n",
    "class MyClass:\n",
    "    x=5\n",
    "#create Object:\n",
    " \n",
    "obj1 = MyClass()\n",
    "print(obj1.x)"
   ]
  },
  {
   "cell_type": "code",
   "execution_count": 17,
   "id": "773b840a-8623-4268-826d-6b802dd518d5",
   "metadata": {},
   "outputs": [
    {
     "name": "stdout",
     "output_type": "stream",
     "text": [
      "Buddy is 3years old.\n",
      "Max is 5years old.\n",
      "Woof!\n",
      "Woof!\n"
     ]
    }
   ],
   "source": [
    "#example \n",
    "\n",
    "class Dog:\n",
    "    def __init__(self, name, age):\n",
    "        self.name = name\n",
    "        self.age = age\n",
    "    def bark(self):\n",
    "        print(\"Woof!\")\n",
    "\n",
    "#creating objects of the Dog Class\n",
    "dog1 = Dog(\"Buddy\", 3)\n",
    "dog2 = Dog(\"Max\", 5)\n",
    "\n",
    "#Accepting objects attribute and calling methods\n",
    "print(f\"{dog1.name} is {dog1.age}years old.\")\n",
    "print(f\"{dog2.name} is {dog2.age}years old.\")\n",
    "dog1.bark()\n",
    "dog2.bark()"
   ]
  },
  {
   "cell_type": "code",
   "execution_count": 31,
   "id": "4507bbc4-af8f-49b0-bc80-978d0cf5a6c2",
   "metadata": {},
   "outputs": [
    {
     "name": "stdout",
     "output_type": "stream",
     "text": [
      "Hello World!\n"
     ]
    }
   ],
   "source": [
    "#Self Parameter:\n",
    "\n",
    "class self():\n",
    "    def __init__(self):\n",
    "        print(\"Hello World!\")\n",
    "obj = self()"
   ]
  },
  {
   "cell_type": "code",
   "execution_count": 35,
   "id": "fe85c57d-52ad-4bdf-a8e8-ff2412d421bc",
   "metadata": {},
   "outputs": [
    {
     "name": "stdout",
     "output_type": "stream",
     "text": [
      "Hello! my name is Himabindu\n"
     ]
    }
   ],
   "source": [
    "class Person:\n",
    "  def __init__(self, name, age):\n",
    "    self.name = name\n",
    "    self.age = age\n",
    "\n",
    "  def myfunc(abc):\n",
    "    print(\"Hello! my name is \" + abc.name)\n",
    "\n",
    "p1 = Person(\"Himabindu\", 25)\n",
    "p1.myfunc()"
   ]
  },
  {
   "cell_type": "code",
   "execution_count": 41,
   "id": "6c630cfe-ff04-4255-8f89-7e84e735541d",
   "metadata": {},
   "outputs": [
    {
     "name": "stdout",
     "output_type": "stream",
     "text": [
      "<__main__.Dog object at 0x0000023C8A843EC0>\n"
     ]
    }
   ],
   "source": [
    "#init function:\n",
    "\n",
    "class Dog:\n",
    "    def __init__(self, name, age, location):\n",
    "        self.name = name\n",
    "        self.age = age\n",
    "        self.location = location\n",
    "\n",
    "#creating a dog object\n",
    "my_dog = Dog(name = \"Buddy\", age = 3, location = \"Hyd\")\n",
    "print(my_dog)"
   ]
  },
  {
   "cell_type": "code",
   "execution_count": 45,
   "id": "55b819c0-b82a-4a8e-a45a-67a9ccf38df4",
   "metadata": {},
   "outputs": [
    {
     "name": "stdout",
     "output_type": "stream",
     "text": [
      "Hima\n",
      "25\n"
     ]
    }
   ],
   "source": [
    "class Person:\n",
    "  def __init__(self, name, age):\n",
    "    self.name = name\n",
    "    self.age = age\n",
    "\n",
    "p1 = Person(\"Hima\", 25)\n",
    "\n",
    "print(p1.name)\n",
    "print(p1.age)"
   ]
  },
  {
   "cell_type": "code",
   "execution_count": 51,
   "id": "b1b990d9-94c6-48d0-932c-b043374c51d8",
   "metadata": {},
   "outputs": [
    {
     "name": "stdout",
     "output_type": "stream",
     "text": [
      "wooah!\n",
      "Buddy, 3 years old\n",
      "Buddy, 3 years old\n"
     ]
    }
   ],
   "source": [
    "#str method:\n",
    "\n",
    "class Dog:\n",
    "    def __init__(self, name, age):\n",
    "        self.name = name\n",
    "        self.age = age\n",
    "    def bark(self):\n",
    "        print(\"wooah!\")\n",
    "    def __str__(self):\n",
    "        return f\"{self.name}, {self.age} years old\"\n",
    "#creating a Dog Object\n",
    "my_dog = Dog(name = \"Buddy\", age = 3)\n",
    "my_dog.bark()\n",
    "#using str() or print() on the object\n",
    "print(str(my_dog))\n",
    "print(my_dog)"
   ]
  },
  {
   "cell_type": "code",
   "execution_count": 57,
   "id": "c89ba0e2-a8c3-4a2a-8394-133bfa1e8d0b",
   "metadata": {},
   "outputs": [
    {
     "name": "stdout",
     "output_type": "stream",
     "text": [
      "bindu,25\n"
     ]
    }
   ],
   "source": [
    "class Person:\n",
    "  def __init__(self, name, age):\n",
    "    self.name = name\n",
    "    self.age = age\n",
    "\n",
    "  def __str__(self):\n",
    "    return f\"{self.name},{self.age}\"\n",
    "\n",
    "p1 = Person(name= \"bindu\", age = 25)\n",
    "\n",
    "print(p1)\n"
   ]
  },
  {
   "cell_type": "code",
   "execution_count": null,
   "id": "d4c55ea3-0450-460b-8986-b0940a8a5466",
   "metadata": {},
   "outputs": [],
   "source": []
  }
 ],
 "metadata": {
  "kernelspec": {
   "display_name": "Python 3 (ipykernel)",
   "language": "python",
   "name": "python3"
  },
  "language_info": {
   "codemirror_mode": {
    "name": "ipython",
    "version": 3
   },
   "file_extension": ".py",
   "mimetype": "text/x-python",
   "name": "python",
   "nbconvert_exporter": "python",
   "pygments_lexer": "ipython3",
   "version": "3.12.4"
  }
 },
 "nbformat": 4,
 "nbformat_minor": 5
}
