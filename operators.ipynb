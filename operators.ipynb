{
 "cells": [
  {
   "cell_type": "code",
   "execution_count": 1,
   "id": "5c75119c-7186-4c2a-98b3-11a19222a1e1",
   "metadata": {},
   "outputs": [
    {
     "name": "stdout",
     "output_type": "stream",
     "text": [
      "13\n"
     ]
    }
   ],
   "source": [
    "#Python Airthmetic Operators\n",
    "a= 6\n",
    "b= 7\n",
    "#addition\n",
    "c = a+b\n",
    "print(c)"
   ]
  },
  {
   "cell_type": "code",
   "execution_count": 3,
   "id": "e18f5b3b-83bb-494d-8981-e90003ef7924",
   "metadata": {},
   "outputs": [
    {
     "name": "stdout",
     "output_type": "stream",
     "text": [
      "-1\n"
     ]
    }
   ],
   "source": [
    "#substraction\n",
    "c = a-b\n",
    "print(c)"
   ]
  },
  {
   "cell_type": "code",
   "execution_count": 5,
   "id": "c188f0cc-8720-46f2-bd03-46314225ba75",
   "metadata": {},
   "outputs": [
    {
     "name": "stdout",
     "output_type": "stream",
     "text": [
      "42\n"
     ]
    }
   ],
   "source": [
    "#multiplication\n",
    "f= a*b\n",
    "print(f)\n"
   ]
  },
  {
   "cell_type": "code",
   "execution_count": 5,
   "id": "eb9452a3-2181-4c27-ab17-6de69d971b9e",
   "metadata": {},
   "outputs": [
    {
     "name": "stdout",
     "output_type": "stream",
     "text": [
      "2.5\n"
     ]
    }
   ],
   "source": [
    "a=5\n",
    "b=2\n",
    "#division\n",
    "g = a/b\n",
    "print(g)"
   ]
  },
  {
   "cell_type": "code",
   "execution_count": 7,
   "id": "a67289c6-4eae-49dc-8e9d-cf059ae85b73",
   "metadata": {},
   "outputs": [
    {
     "name": "stdout",
     "output_type": "stream",
     "text": [
      "1\n"
     ]
    }
   ],
   "source": [
    "#modulus\n",
    "h = a%b\n",
    "print(h)"
   ]
  },
  {
   "cell_type": "code",
   "execution_count": 13,
   "id": "bada274f-563d-4e1e-a8d2-602bf8d69bf8",
   "metadata": {},
   "outputs": [
    {
     "name": "stdout",
     "output_type": "stream",
     "text": [
      "25\n"
     ]
    }
   ],
   "source": [
    "#exponentiation\n",
    "k = a**b\n",
    "print(k)"
   ]
  },
  {
   "cell_type": "code",
   "execution_count": 15,
   "id": "0e905fac-9752-4fa6-a9c7-647c85e6d89b",
   "metadata": {},
   "outputs": [
    {
     "name": "stdout",
     "output_type": "stream",
     "text": [
      "2\n"
     ]
    }
   ],
   "source": [
    "#floor division\n",
    "j = a//b\n",
    "print(j)"
   ]
  },
  {
   "cell_type": "code",
   "execution_count": 19,
   "id": "97754cc2-c94e-423f-9222-60f67cd85939",
   "metadata": {},
   "outputs": [
    {
     "name": "stdout",
     "output_type": "stream",
     "text": [
      "60\n",
      "-10\n",
      "875\n",
      "0.7142857142857143\n",
      "25\n",
      "8470329472543003390683225006796419620513916015625\n",
      "0\n"
     ]
    }
   ],
   "source": [
    "#practice\n",
    "\n",
    "a = 25\n",
    "b = 35\n",
    "\n",
    "c = a+b\n",
    "print(c)\n",
    "d = a-b\n",
    "print(d)\n",
    "e = a*b\n",
    "print(e)\n",
    "f = a/b\n",
    "print(f)\n",
    "g= a%b\n",
    "print(g)\n",
    "h = a**b\n",
    "print(h)\n",
    "i = a//b\n",
    "print(i)"
   ]
  },
  {
   "cell_type": "code",
   "execution_count": 41,
   "id": "cda172f5-6440-41ca-9776-b71a3b84dce5",
   "metadata": {},
   "outputs": [
    {
     "name": "stdout",
     "output_type": "stream",
     "text": [
      "15\n",
      "10\n",
      "50\n",
      "10.0\n",
      "45\n",
      "8446723104767055758205216778747351372643377994297322619576817714914795942604541778564453125\n",
      "153576783723037377421913032340860934048061418078133138537760322089359926229173486882990056\n"
     ]
    }
   ],
   "source": [
    "#Assignment operator\n",
    "#assign 10 to a\n",
    "a =10\n",
    "#assign 5 to b\n",
    "b= 5\n",
    "#assign the sum of a and b to a\n",
    "a+=b #a = a+b\n",
    "print(a)\n",
    "a-=b #a= a-b\n",
    "print(a)\n",
    "a*=b\n",
    "print(a)\n",
    "a/=b\n",
    "print(a)\n",
    "\n",
    "c= 45\n",
    "d= 55\n",
    "\n",
    "c%=d\n",
    "print(c)\n",
    "c**=d\n",
    "print(c)\n",
    "c//= d\n",
    "print(c)\n"
   ]
  },
  {
   "cell_type": "code",
   "execution_count": 55,
   "id": "eefc0f4c-cbaf-4945-8ec4-c3e39b39ba1f",
   "metadata": {},
   "outputs": [
    {
     "name": "stdout",
     "output_type": "stream",
     "text": [
      "150\n",
      "60\n",
      "5400\n",
      "60.0\n",
      "60.0\n",
      "1.0804695562359871e+160\n",
      "1.2005217291510967e+158\n"
     ]
    }
   ],
   "source": [
    "#practice\n",
    "\n",
    "a = 60\n",
    "b = 90\n",
    "a+=b\n",
    "print(a)\n",
    "a-=b\n",
    "print(a)\n",
    "a*= b\n",
    "print(a)\n",
    "a/=b\n",
    "print(a)\n",
    "a%=b\n",
    "print(a)\n",
    "a**=b\n",
    "print(a)\n",
    "a//=b\n",
    "print(a)\n"
   ]
  },
  {
   "cell_type": "code",
   "execution_count": 57,
   "id": "75321449-d0de-4c6d-83ac-a3bbe5b94350",
   "metadata": {},
   "outputs": [
    {
     "name": "stdout",
     "output_type": "stream",
     "text": [
      "a==b False\n",
      "a!=b True\n",
      "a>b= False\n",
      "a<b= True\n",
      "a>=b= False\n",
      "a<=b= True\n"
     ]
    }
   ],
   "source": [
    "#comparison operators\n",
    "\n",
    "a= 15\n",
    "b= 28\n",
    "#equal to operator\n",
    "print('a==b',a==b)\n",
    "#not equal to operator\n",
    "print('a!=b', a!=b)\n",
    "#greaterthan operator\n",
    "print('a>b=', a>b)\n",
    "#lessthan operator\n",
    "print('a<b=', a<b)\n",
    "#greaterthan or equal to operator\n",
    "print('a>=b=', a>=b)\n",
    "#lessthan or equal to operator\n",
    "print('a<=b=', a<=b)\n",
    "\n"
   ]
  },
  {
   "cell_type": "code",
   "execution_count": 59,
   "id": "5d518c04-5556-49af-a11f-7b8142ab94a9",
   "metadata": {},
   "outputs": [
    {
     "name": "stdout",
     "output_type": "stream",
     "text": [
      "a==b False\n",
      "a!=b True\n",
      "a>b= True\n",
      "a<b= False\n",
      "a>=b= True\n",
      "a<=b= False\n"
     ]
    }
   ],
   "source": [
    "#practice\n",
    "a= 34\n",
    "b= 16\n",
    "\n",
    "print('a==b',a==b)\n",
    "print('a!=b', a!=b)\n",
    "print('a>b=', a>b)\n",
    "print('a<b=', a<b)\n",
    "print('a>=b=', a>=b)\n",
    "print('a<=b=', a<=b)"
   ]
  },
  {
   "cell_type": "code",
   "execution_count": 61,
   "id": "af733dde-c3af-4884-b20c-7703af5a6316",
   "metadata": {},
   "outputs": [
    {
     "name": "stdout",
     "output_type": "stream",
     "text": [
      "False\n",
      "True\n",
      "False\n",
      "True\n"
     ]
    }
   ],
   "source": [
    "#logical operator\n",
    "\n",
    "#logical and operator\n",
    "print(5>30 and 5<6)\n",
    "#logical or operator\n",
    "print(5>1 or 5<4)\n",
    "#not operation\n",
    "x= 5\n",
    "print(not(x>3 and x<10))\n",
    "print(not(5>9 or 5<4))"
   ]
  },
  {
   "cell_type": "code",
   "execution_count": 69,
   "id": "22a3c2cd-4f94-41df-84f2-e82f40c40e63",
   "metadata": {},
   "outputs": [
    {
     "name": "stdout",
     "output_type": "stream",
     "text": [
      "False\n",
      "True\n",
      "True\n"
     ]
    }
   ],
   "source": [
    "#practice\n",
    "\n",
    "#and\n",
    "print(35<23 and 35>87)\n",
    "#or\n",
    "print(56<67 or 3>7)\n",
    "#not\n",
    "print(not(6<3 or 5>6))"
   ]
  },
  {
   "cell_type": "code",
   "execution_count": 71,
   "id": "e7c940f2-8f88-4211-ba97-5143c7cee752",
   "metadata": {},
   "outputs": [
    {
     "name": "stdout",
     "output_type": "stream",
     "text": [
      "True\n",
      "True\n",
      "True\n",
      "False\n"
     ]
    }
   ],
   "source": [
    "#identity operator\n",
    "\n",
    "x1=5\n",
    "y1 = 5\n",
    "x2 = \"Hello\"\n",
    "y2 = \"Hello World\"\n",
    "print(x1 is y1)\n",
    "print(x2 is not y2)\n",
    "print(y2 is not x2)\n",
    "print(y1 is x2)\n"
   ]
  },
  {
   "cell_type": "code",
   "execution_count": 73,
   "id": "364fc96c-c51a-40bd-ba79-43bd5b553c31",
   "metadata": {},
   "outputs": [
    {
     "name": "stdout",
     "output_type": "stream",
     "text": [
      "True\n"
     ]
    }
   ],
   "source": [
    "h = \"bharath\"\n",
    "j= \"gitam\"\n",
    "o = \"bharat\"\n",
    "print(h is not o)"
   ]
  },
  {
   "cell_type": "code",
   "execution_count": 77,
   "id": "a8f11894-3a8a-48f8-96bd-2e1b287555cd",
   "metadata": {},
   "outputs": [
    {
     "name": "stdout",
     "output_type": "stream",
     "text": [
      "False\n",
      "True\n"
     ]
    }
   ],
   "source": [
    "#practice\n",
    "\n",
    "g = \"happy\"\n",
    "f = \"birthday\"\n",
    "h = \"happy birthday\"\n",
    "print(h is f)\n",
    "print(g is not f)"
   ]
  },
  {
   "cell_type": "code",
   "execution_count": 85,
   "id": "0586e59d-5e50-4470-9735-32e03e970ebf",
   "metadata": {},
   "outputs": [
    {
     "name": "stdout",
     "output_type": "stream",
     "text": [
      "True\n",
      "True\n",
      "True\n",
      "False\n"
     ]
    }
   ],
   "source": [
    "#Membership Operator\n",
    "\n",
    "x = 'Hello World'\n",
    "y = [1,2,3,4,5,6]\n",
    "#check if 'H' is present in x string\n",
    "print('e' in x)\n",
    "#check if 'hello' is present in x string\n",
    "print('hello' not in x)\n",
    "\n",
    "#check if '1' key is present in y\n",
    "print(1 in y)\n",
    "#check if 'a' key is present in y\n",
    "print('a' in y)"
   ]
  },
  {
   "cell_type": "code",
   "execution_count": 89,
   "id": "65caf944-e4d5-4543-a6fb-4c452e2c2597",
   "metadata": {},
   "outputs": [
    {
     "name": "stdout",
     "output_type": "stream",
     "text": [
      "True\n",
      "True\n"
     ]
    }
   ],
   "source": [
    "#practice\n",
    "\n",
    "my_list = [10,20,30,40,50]\n",
    "\n",
    "print(45  not in  my_list)\n",
    "print(30 in my_list)  "
   ]
  },
  {
   "cell_type": "code",
   "execution_count": 105,
   "id": "ffe594ff-cc1e-430b-be3a-b11c3f225c85",
   "metadata": {},
   "outputs": [
    {
     "name": "stdout",
     "output_type": "stream",
     "text": [
      "4\n",
      "111\n",
      "13\n",
      "-12\n",
      "8576\n",
      "3\n"
     ]
    }
   ],
   "source": [
    "#Bitwise Operators\n",
    "\n",
    "#bitwise AND(&)\n",
    "print(4 & 6)\n",
    "#bitwise OR(|)\n",
    "print( 77 | 35) \n",
    "#bitwise XOR(^)\n",
    "print(10^7)\n",
    "#bitwise NOT(~)\n",
    "print(~11)\n",
    "#bitwise Left Shift(<<)\n",
    "print(67<<7)\n",
    "#bitwise Right Shift(<<)\n",
    "print(56>>4)"
   ]
  },
  {
   "cell_type": "code",
   "execution_count": 109,
   "id": "6668e577-820d-4cbd-8c60-0f2399f0aee8",
   "metadata": {},
   "outputs": [
    {
     "name": "stdout",
     "output_type": "stream",
     "text": [
      "7.0\n",
      "1.641025641025641\n"
     ]
    }
   ],
   "source": [
    "#Operator Precedence\n",
    "\n",
    "print((4+7) * (7/11))\n",
    "print(4*(7+89)/(78*3))\n",
    "         "
   ]
  }
 ],
 "metadata": {
  "kernelspec": {
   "display_name": "Python 3 (ipykernel)",
   "language": "python",
   "name": "python3"
  },
  "language_info": {
   "codemirror_mode": {
    "name": "ipython",
    "version": 3
   },
   "file_extension": ".py",
   "mimetype": "text/x-python",
   "name": "python",
   "nbconvert_exporter": "python",
   "pygments_lexer": "ipython3",
   "version": "3.12.4"
  }
 },
 "nbformat": 4,
 "nbformat_minor": 5
}
