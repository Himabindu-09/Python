{
 "cells": [
  {
   "cell_type": "code",
   "execution_count": 1,
   "id": "49de2e27-ea87-466e-a21d-3970a83f6325",
   "metadata": {},
   "outputs": [],
   "source": [
    "import numpy as np"
   ]
  },
  {
   "cell_type": "code",
   "execution_count": 5,
   "id": "3f42db1c-1211-4293-a420-9709737416d3",
   "metadata": {},
   "outputs": [],
   "source": [
    "#Arthmetic operations on 1-D arrays:"
   ]
  },
  {
   "cell_type": "code",
   "execution_count": 33,
   "id": "872e4aee-3f7a-45c0-b00a-48773dcc7cf1",
   "metadata": {},
   "outputs": [
    {
     "name": "stdout",
     "output_type": "stream",
     "text": [
      "[124 104  72 164  36]\n",
      "[124 104  72 164  36]\n"
     ]
    }
   ],
   "source": [
    "#addition:\n",
    "\n",
    "arr1 = np.array([41,68,49,65,22])\n",
    "arr2 = np.array([83,36,23,99,14])\n",
    "print(arr1+arr2)\n",
    "print(np.add(arr1,arr2))"
   ]
  },
  {
   "cell_type": "code",
   "execution_count": 31,
   "id": "ff90264e-eb94-4a09-8bbd-4c572288cce9",
   "metadata": {},
   "outputs": [
    {
     "name": "stdout",
     "output_type": "stream",
     "text": [
      "[-542  101   17   24  -19]\n",
      "[-542  101   17   24  -19]\n"
     ]
    }
   ],
   "source": [
    "#substraction:\n",
    "arr1 = np.array([31,887,44,53,72])\n",
    "arr2 = np.array([573,786,27,29,91])\n",
    "print(arr1-arr2)\n",
    "print(np.subtract(arr1,arr2))"
   ]
  },
  {
   "cell_type": "code",
   "execution_count": 19,
   "id": "18d12ab5-eb5c-4707-86d9-8b31e54db57e",
   "metadata": {},
   "outputs": [
    {
     "name": "stdout",
     "output_type": "stream",
     "text": [
      "[ 3 48  8 45  2]\n",
      "[ 3 48  8 45  2]\n"
     ]
    }
   ],
   "source": [
    "#multiplication:\n",
    "\n",
    "arr1 = np.array([1,8,4,5,2])\n",
    "arr2 = np.array([3,6,2,9,1])\n",
    "print(arr1*arr2)\n",
    "print(np.multiply(arr1,arr2))"
   ]
  },
  {
   "cell_type": "code",
   "execution_count": 29,
   "id": "f7a84891-f55c-4f05-bf85-05bc47e3b477",
   "metadata": {},
   "outputs": [
    {
     "name": "stdout",
     "output_type": "stream",
     "text": [
      "[1.59375    0.87878788 2.7826087  0.82608696 0.1474359 ]\n",
      "[ 8.5         9.66666667 10.66666667  9.5         3.83333333]\n",
      "[0.1875     0.09090909 0.26086957 0.08695652 0.03846154]\n",
      "[1.59375    0.87878788 2.7826087  0.82608696 0.1474359 ]\n"
     ]
    }
   ],
   "source": [
    "#division:\n",
    "arr1 = np.array([51,58,64,57,23])\n",
    "arr2 = np.array([32,66,23,69,156])\n",
    "n= 6\n",
    "print(arr1/arr2)\n",
    "print(arr1/n)\n",
    "print(n/arr2)\n",
    "print(np.divide(arr1,arr2))"
   ]
  },
  {
   "cell_type": "code",
   "execution_count": 36,
   "id": "00991e97-8614-4a4a-9d82-c9f588431590",
   "metadata": {},
   "outputs": [
    {
     "name": "stdout",
     "output_type": "stream",
     "text": [
      "[6.70820393 9.21954446 8.         6.70820393 7.87400787]\n",
      "[5.74456265 5.83095189 5.29150262 9.59166305 3.87298335]\n"
     ]
    }
   ],
   "source": [
    "# square root:\n",
    "\n",
    "arr1 = np.array([45,85,64,45,62])\n",
    "arr2 = np.array([33,34,28,92,15])\n",
    "print(np.sqrt(arr1))\n",
    "print(np.sqrt(arr2))"
   ]
  },
  {
   "cell_type": "code",
   "execution_count": 42,
   "id": "f1a95644-05c4-453c-9f1c-35f20efb3a59",
   "metadata": {},
   "outputs": [
    {
     "name": "stdout",
     "output_type": "stream",
     "text": [
      "[1 2 1 0 3]\n",
      "[15 25 11 22 18]\n",
      "[0 0 0 0 0]\n",
      "[1 2 1 0 3]\n"
     ]
    }
   ],
   "source": [
    "#floor division:\n",
    "arr1 = np.array([45,89,45,89,90])\n",
    "arr1 = np.array([45,76,34,67,56])\n",
    "n =3\n",
    "print(arr1//arr2)\n",
    "print(arr1//n)\n",
    "print(n//arr2)\n",
    "print(np.floor_divide(arr1,arr2))"
   ]
  },
  {
   "cell_type": "code",
   "execution_count": 44,
   "id": "2d26f4e5-b0f4-4c45-bc15-fa20a7a89c23",
   "metadata": {},
   "outputs": [
    {
     "name": "stdout",
     "output_type": "stream",
     "text": [
      "[8 9 4 7 6]\n",
      "[2 0 1 1 0]\n",
      "[3 3 3 3 3]\n",
      "[8 9 4 7 6]\n"
     ]
    }
   ],
   "source": [
    "#modulus:\n",
    "\n",
    "arr1 = np.array([4,9,5,8,9])\n",
    "arr1 = np.array([8,9,4,7,6])\n",
    "n =3\n",
    "print(arr1%arr2)\n",
    "print(arr1%n)\n",
    "print(n%arr2)\n",
    "print(np.mod(arr1,arr2))"
   ]
  },
  {
   "cell_type": "code",
   "execution_count": 48,
   "id": "fcf78a1b-c355-4af8-beac-18fac385738a",
   "metadata": {},
   "outputs": [
    {
     "name": "stdout",
     "output_type": "stream",
     "text": [
      "[ 1024 59049  3125 32768 59049]\n"
     ]
    }
   ],
   "source": [
    "#Exponential:\n",
    "\n",
    "arr1 = np.array([4,9,5,8,9])\n",
    "print(arr1**5)"
   ]
  },
  {
   "cell_type": "code",
   "execution_count": null,
   "id": "1b75228a-69b9-4d12-ae0e-4f1be08d2a3c",
   "metadata": {},
   "outputs": [],
   "source": [
    "#Arthmetic operations on 2-D arrays:"
   ]
  },
  {
   "cell_type": "code",
   "execution_count": 50,
   "id": "45782100-d825-4365-9821-03b44303b2f4",
   "metadata": {},
   "outputs": [
    {
     "name": "stdout",
     "output_type": "stream",
     "text": [
      "[[124 104  72 164  36]\n",
      " [109 145  68 157  46]]\n",
      "[[124 104  72 164  36]\n",
      " [109 145  68 157  46]]\n"
     ]
    }
   ],
   "source": [
    "#addition\n",
    "arr1 = np.array([[41,68,49,65,22],[64,78,45,90,23]])\n",
    "arr2 = np.array([[83,36,23,99,14],[45,67,23,67,23]])\n",
    "print(arr1+arr2)\n",
    "print(np.add(arr1,arr2))"
   ]
  },
  {
   "cell_type": "code",
   "execution_count": 52,
   "id": "dee05761-c3d0-4fe1-af45-1b2ac16590cf",
   "metadata": {},
   "outputs": [
    {
     "name": "stdout",
     "output_type": "stream",
     "text": [
      "[[-542  101   17   24  -19]\n",
      " [  11  -56  -55   11   66]]\n",
      "[[-542  101   17   24  -19]\n",
      " [  11  -56  -55   11   66]]\n"
     ]
    }
   ],
   "source": [
    "#subtaction:\n",
    "\n",
    "arr1 = np.array([[31,887,44,53,72],[67,34,23,67,89]])\n",
    "arr2 = np.array([[573,786,27,29,91],[56,90,78,56,23]])\n",
    "print(arr1-arr2)\n",
    "print(np.subtract(arr1,arr2))"
   ]
  },
  {
   "cell_type": "code",
   "execution_count": 54,
   "id": "8981f424-68aa-4282-bb95-7b1a59fcfc6a",
   "metadata": {},
   "outputs": [
    {
     "name": "stdout",
     "output_type": "stream",
     "text": [
      "[[ 3 48  8 45  2]\n",
      " [18 63  0 18  8]]\n",
      "[[ 3 48  8 45  2]\n",
      " [18 63  0 18  8]]\n"
     ]
    }
   ],
   "source": [
    "#multiplication:\n",
    "\n",
    "arr1 = np.array([[1,8,4,5,2],[3,7,5,6,8]])\n",
    "arr2 = np.array([[3,6,2,9,1],[6,9,0,3,1]])\n",
    "print(arr1*arr2)\n",
    "print(np.multiply(arr1,arr2))"
   ]
  },
  {
   "cell_type": "code",
   "execution_count": 56,
   "id": "66a4d30a-a4ff-4734-80af-a6b30c5724a6",
   "metadata": {},
   "outputs": [
    {
     "name": "stdout",
     "output_type": "stream",
     "text": [
      "[[ 1.59375     0.87878788  2.7826087   0.82608696  0.1474359 ]\n",
      " [ 0.79069767 13.4         0.29487179  0.12244898  1.25      ]]\n",
      "[[ 8.5         9.66666667 10.66666667  9.5         3.83333333]\n",
      " [ 5.66666667 11.16666667  3.83333333  2.          2.5       ]]\n",
      "[[0.1875     0.09090909 0.26086957 0.08695652 0.03846154]\n",
      " [0.13953488 1.2        0.07692308 0.06122449 0.5       ]]\n",
      "[[ 1.59375     0.87878788  2.7826087   0.82608696  0.1474359 ]\n",
      " [ 0.79069767 13.4         0.29487179  0.12244898  1.25      ]]\n"
     ]
    }
   ],
   "source": [
    "#division:\n",
    "arr1 = np.array([[51,58,64,57,23],[34,67,23,12,15]])\n",
    "arr2 = np.array([[32,66,23,69,156],[43,5,78,98,12]])\n",
    "n= 6\n",
    "print(arr1/arr2)\n",
    "print(arr1/n)\n",
    "print(n/arr2)\n",
    "print(np.divide(arr1,arr2))"
   ]
  },
  {
   "cell_type": "code",
   "execution_count": 58,
   "id": "8a23d0e6-862e-4742-a3ea-43767af8b9b9",
   "metadata": {},
   "outputs": [
    {
     "name": "stdout",
     "output_type": "stream",
     "text": [
      "[[6.70820393 9.21954446 8.         6.70820393 7.87400787]\n",
      " [8.18535277 9.32737905 5.83095189 3.46410162 8.18535277]]\n",
      "[[5.74456265 5.83095189 5.29150262 9.59166305 3.87298335]\n",
      " [8.83176087 9.89949494 7.48331477 5.83095189 4.24264069]]\n"
     ]
    }
   ],
   "source": [
    "# square root:\n",
    "\n",
    "arr1 = np.array([[45,85,64,45,62],[67,87,34,12,67]])\n",
    "arr2 = np.array([[33,34,28,92,15],[78,98,56,34,18]])\n",
    "print(np.sqrt(arr1))\n",
    "print(np.sqrt(arr2))"
   ]
  },
  {
   "cell_type": "code",
   "execution_count": 60,
   "id": "c22907f0-4fe1-41c3-b3e0-9c1fe27c3724",
   "metadata": {},
   "outputs": [
    {
     "name": "stdout",
     "output_type": "stream",
     "text": [
      "[[1 2 1 0 3]\n",
      " [0 0 1 1 3]]\n",
      "[[15 25 11 22 18]\n",
      " [14 30 25 11 23]]\n",
      "[[0 0 0 0 0]\n",
      " [0 0 0 0 0]]\n",
      "[[1 2 1 0 3]\n",
      " [0 0 1 1 3]]\n"
     ]
    }
   ],
   "source": [
    "#floor division:\n",
    "arr1 = np.array([[45,89,45,89,90],[98,76,57,83,45]])\n",
    "arr1 = np.array([[45,76,34,67,56],[42,92,75,34,71]])\n",
    "n =3\n",
    "print(arr1//arr2)\n",
    "print(arr1//n)\n",
    "print(n//arr2)\n",
    "print(np.floor_divide(arr1,arr2))"
   ]
  },
  {
   "cell_type": "code",
   "execution_count": 62,
   "id": "e5314f5c-0117-4a4b-ac52-1ddade09c39b",
   "metadata": {},
   "outputs": [
    {
     "name": "stdout",
     "output_type": "stream",
     "text": [
      "[[8 9 4 7 6]\n",
      " [7 4 2 7 3]]\n",
      "[[2 0 1 1 0]\n",
      " [1 1 2 1 0]]\n",
      "[[3 3 3 3 3]\n",
      " [3 3 3 3 3]]\n",
      "[[8 9 4 7 6]\n",
      " [7 4 2 7 3]]\n"
     ]
    }
   ],
   "source": [
    "#modulus:\n",
    "\n",
    "arr1 = np.array([[4,9,5,8,9],[6,8,2,1,7]])\n",
    "arr1 = np.array([[8,9,4,7,6],[7,4,2,7,3]])\n",
    "n =3\n",
    "print(arr1%arr2)\n",
    "print(arr1%n)\n",
    "print(n%arr2)\n",
    "print(np.mod(arr1,arr2))"
   ]
  },
  {
   "cell_type": "code",
   "execution_count": 64,
   "id": "3d86b8e0-4c0b-4e76-b9fc-102ef3f3c168",
   "metadata": {},
   "outputs": [
    {
     "name": "stdout",
     "output_type": "stream",
     "text": [
      "[[ 1024 59049  3125 32768 59049]\n",
      " [ 3125 32768   243    32 16807]]\n"
     ]
    }
   ],
   "source": [
    "#Exponential:\n",
    "\n",
    "arr1 = np.array([[4,9,5,8,9],[5,8,3,2,7]])\n",
    "print(arr1**5)"
   ]
  },
  {
   "cell_type": "code",
   "execution_count": null,
   "id": "d13fe352-44c9-4391-a4a9-94c42f42b3f2",
   "metadata": {},
   "outputs": [],
   "source": [
    "#Arthmetic operations on 3-D arrays:"
   ]
  },
  {
   "cell_type": "code",
   "execution_count": 66,
   "id": "8b2fa111-6702-404c-9f61-24f8942b464c",
   "metadata": {},
   "outputs": [
    {
     "name": "stdout",
     "output_type": "stream",
     "text": [
      "[[[124 104  72 164  36]\n",
      "  [109 145  68 157  46]]\n",
      "\n",
      " [[123 157 141  46  86]\n",
      "  [123 123  57  69  38]]\n",
      "\n",
      " [[135 134  90  99  95]\n",
      "  [145 139  68 144 121]]]\n",
      "[[[124 104  72 164  36]\n",
      "  [109 145  68 157  46]]\n",
      "\n",
      " [[123 157 141  46  86]\n",
      "  [123 123  57  69  38]]\n",
      "\n",
      " [[135 134  90  99  95]\n",
      "  [145 139  68 144 121]]]\n"
     ]
    }
   ],
   "source": [
    "#addition\n",
    "arr1 = np.array([[[41,68,49,65,22],[64,78,45,90,23]],\n",
    "                 [[45,62,78,12,41],[56,89,34,56,23]],\n",
    "                 [[46,78,56,23,12],[89,67,34,54,65]]]\n",
    "                )\n",
    "arr2 = np.array([[[83,36,23,99,14],[45,67,23,67,23]],\n",
    "                 [[78,95,63,34,45],[67,34,23,13,15]],\n",
    "                 [[89,56,34,76,83],[56,72,34,90,56]]])\n",
    "print(arr1+arr2)\n",
    "print(np.add(arr1,arr2))"
   ]
  },
  {
   "cell_type": "code",
   "execution_count": 68,
   "id": "b158f216-43a4-496a-8661-1e641cd0baaf",
   "metadata": {},
   "outputs": [
    {
     "name": "stdout",
     "output_type": "stream",
     "text": [
      "[[[ 94 722 736 486 858]\n",
      "  [709 606 853 829 742]]\n",
      "\n",
      " [[387 139 285 189  89]\n",
      "  [567 200 871 773 882]]\n",
      "\n",
      " [[587 732 202 309 162]\n",
      "  [867 915 533 255 289]]]\n",
      "[[[ 94 722 736 486 858]\n",
      "  [709 606 853 829 742]]\n",
      "\n",
      " [[387 139 285 189  89]\n",
      "  [567 200 871 773 882]]\n",
      "\n",
      " [[587 732 202 309 162]\n",
      "  [867 915 533 255 289]]]\n"
     ]
    }
   ],
   "source": [
    "#subtaction:\n",
    "\n",
    "arr1 = np.array([[[177,758,759,585,872],[754,673,876,896,765]],\n",
    "                 [[465,234,348,223,134],[634,234,894,786,897]],\n",
    "                 [[676,788,236,385,245],[923,987,567,345,345]]]\n",
    "                )\n",
    "arr2 = np.array([[[83,36,23,99,14],[45,67,23,67,23]],\n",
    "                 [[78,95,63,34,45],[67,34,23,13,15]],\n",
    "                 [[89,56,34,76,83],[56,72,34,90,56]]])\n",
    "print(arr1-arr2)\n",
    "print(np.subtract(arr1,arr2))"
   ]
  },
  {
   "cell_type": "code",
   "execution_count": 70,
   "id": "f1319052-9c78-4f2d-bb59-733ba3656b17",
   "metadata": {},
   "outputs": [
    {
     "name": "stdout",
     "output_type": "stream",
     "text": [
      "[[[17523 10612]\n",
      "  [40320 51255]]\n",
      "\n",
      " [[15810 10530]\n",
      "  [52662 13455]]\n",
      "\n",
      " [[51376 65404]\n",
      "  [19320 19320]]]\n",
      "[[[17523 10612]\n",
      "  [40320 51255]]\n",
      "\n",
      " [[15810 10530]\n",
      "  [52662 13455]]\n",
      "\n",
      " [[51376 65404]\n",
      "  [19320 19320]]]\n"
     ]
    }
   ],
   "source": [
    "#multiplication:\n",
    "\n",
    "arr1 = np.array([[[177,758],[896,765]],\n",
    "                 [[465,234],[786,897]],\n",
    "                 [[676,788],[345,345]]]\n",
    "                )\n",
    "arr2 = np.array([[[99,14],[45,67]],\n",
    "                 [[34,45],[67,15]],\n",
    "                 [[76,83],[56,56]]])\n",
    "print(arr1*arr2)\n",
    "print(np.multiply(arr1,arr2))"
   ]
  },
  {
   "cell_type": "code",
   "execution_count": 74,
   "id": "2a56c53b-5540-4d33-a417-6e340dc82c53",
   "metadata": {},
   "outputs": [
    {
     "name": "stdout",
     "output_type": "stream",
     "text": [
      "[[[ 0.96807152  2.25892857  2.5       ]\n",
      "  [ 1.18914729  1.38485317  3.2832618 ]]\n",
      "\n",
      " [[ 0.52961276  0.38882682  0.3511811 ]\n",
      "  [ 3.34831461  2.42592593  3.41064639]]\n",
      "\n",
      " [[ 0.85678074  1.51282051  1.12244898]\n",
      "  [ 1.73920863  1.55405405 10.14705882]]]\n",
      "[[[151.6 151.8 117. ]\n",
      "  [153.4 179.2 153. ]]\n",
      "\n",
      " [[ 93.   69.6  44.6]\n",
      "  [178.8 157.2 179.4]]\n",
      "\n",
      " [[135.2  47.2  77. ]\n",
      "  [193.4  69.   69. ]]]\n",
      "[[[0.0063857  0.01488095 0.02136752]\n",
      "  [0.00775194 0.00772798 0.02145923]]\n",
      "\n",
      " [[0.00569476 0.00558659 0.00787402]\n",
      "  [0.01872659 0.0154321  0.01901141]]\n",
      "\n",
      " [[0.00633714 0.03205128 0.01457726]\n",
      "  [0.00899281 0.02252252 0.14705882]]]\n",
      "[[[ 0.96807152  2.25892857  2.5       ]\n",
      "  [ 1.18914729  1.38485317  3.2832618 ]]\n",
      "\n",
      " [[ 0.52961276  0.38882682  0.3511811 ]\n",
      "  [ 3.34831461  2.42592593  3.41064639]]\n",
      "\n",
      " [[ 0.85678074  1.51282051  1.12244898]\n",
      "  [ 1.73920863  1.55405405 10.14705882]]]\n"
     ]
    }
   ],
   "source": [
    "#division:\n",
    "arr1 = np.array([[[758,759,585],[767,896,765]],\n",
    "                 [[465,348,223],[894,786,897]],\n",
    "                 [[676,236,385],[967,345,345]]]\n",
    "                )\n",
    "arr2 = np.array([[[783,336,234],[645,647,233]],\n",
    "                 [[878,895,635],[267,324,263]],\n",
    "                 [[789,156,343],[556,222,34]]])\n",
    "n= 5\n",
    "print(arr1/arr2)\n",
    "print(arr1/n)\n",
    "print(n/arr2)\n",
    "print(np.divide(arr1,arr2))"
   ]
  },
  {
   "cell_type": "code",
   "execution_count": 76,
   "id": "34f6a5f5-46fe-43e1-a959-32a7438b668d",
   "metadata": {},
   "outputs": [
    {
     "name": "stdout",
     "output_type": "stream",
     "text": [
      "[[[8.83176087 8.88819442 7.61577311]\n",
      "  [8.71779789 9.2736185  8.66025404]]\n",
      "\n",
      " [[6.78232998 5.74456265 4.69041576]\n",
      "  [9.43398113 8.71779789 9.32737905]]\n",
      "\n",
      " [[8.18535277 5.09901951 6.164414  ]\n",
      "  [9.79795897 5.91607978 5.91607978]]]\n",
      "[[[8.54400375 6.         4.89897949]\n",
      "  [8.         6.8556546  4.89897949]]\n",
      "\n",
      " [[9.38083152 9.74679434 8.06225775]\n",
      "  [5.09901951 4.89897949 7.93725393]]\n",
      "\n",
      " [[8.88819442 4.         6.55743852]\n",
      "  [7.41619849 4.69041576 5.83095189]]]\n"
     ]
    }
   ],
   "source": [
    "# square root:\n",
    "\n",
    "arr1 = np.array([[[78,79,58],[76,86,75]],\n",
    "                 [[46,33,22],[89,76,87]],\n",
    "                 [[67,26,38],[96,35,35]]]\n",
    "                )\n",
    "arr2 = np.array([[[73,36,24],[64,47,24]],\n",
    "                 [[88,95,65],[26,24,63]],\n",
    "                 [[79,16,43],[55,22,34]]])\n",
    "print(np.sqrt(arr1))\n",
    "print(np.sqrt(arr2))"
   ]
  },
  {
   "cell_type": "code",
   "execution_count": 80,
   "id": "b44421ef-01d5-4d67-98d4-de28172432d1",
   "metadata": {},
   "outputs": [
    {
     "name": "stdout",
     "output_type": "stream",
     "text": [
      "[[[ 1  1 29]\n",
      "  [ 1  1  1]]\n",
      "\n",
      " [[ 0  0  3]\n",
      "  [ 1  1  2]]\n",
      "\n",
      " [[ 0  2  9]\n",
      "  [ 1  2  0]]]\n",
      "[[[ 4  3 29]\n",
      "  [ 3  3  2]]\n",
      "\n",
      " [[ 2  1 11]\n",
      "  [ 4  3  3]]\n",
      "\n",
      " [[ 3  1 19]\n",
      "  [ 4  2  1]]]\n",
      "[[[0 0 1]\n",
      "  [0 0 0]]\n",
      "\n",
      " [[0 0 0]\n",
      "  [0 0 0]]\n",
      "\n",
      " [[0 2 0]\n",
      "  [0 1 0]]]\n",
      "[[[ 1  1 29]\n",
      "  [ 1  1  1]]\n",
      "\n",
      " [[ 0  0  3]\n",
      "  [ 1  1  2]]\n",
      "\n",
      " [[ 0  2  9]\n",
      "  [ 1  2  0]]]\n"
     ]
    }
   ],
   "source": [
    "#floor division:\n",
    "arr1 = np.array([[[8,7,58],[6,6,5]],\n",
    "                 [[4,3,22],[8,6,7]],\n",
    "                 [[6,2,38],[9,5,3]]]\n",
    "                )\n",
    "arr2 = np.array([[[7,6,2],[4,4,4]],\n",
    "                 [[8,5,6],[6,4,3]],\n",
    "                 [[7,1,4],[5,2,4]]])\n",
    "n =2\n",
    "print(arr1//arr2)\n",
    "print(arr1//n)\n",
    "print(n//arr2)\n",
    "print(np.floor_divide(arr1,arr2))"
   ]
  },
  {
   "cell_type": "code",
   "execution_count": 82,
   "id": "caa02278-84f5-4924-a38c-cdef2faef9ad",
   "metadata": {},
   "outputs": [
    {
     "name": "stdout",
     "output_type": "stream",
     "text": [
      "[[[ 4  7 10]\n",
      "  [12 39  3]]\n",
      "\n",
      " [[44 13 22]\n",
      "  [43  8 14]]\n",
      "\n",
      " [[61  6 38]\n",
      "  [41 35  1]]]\n",
      "[[[0 1 1]\n",
      "  [1 2 0]]\n",
      "\n",
      " [[2 1 1]\n",
      "  [2 2 0]]\n",
      "\n",
      " [[1 2 2]\n",
      "  [0 2 2]]]\n",
      "[[[3 3 3]\n",
      "  [3 3 3]]\n",
      "\n",
      " [[3 3 3]\n",
      "  [3 3 3]]\n",
      "\n",
      " [[3 3 3]\n",
      "  [3 3 3]]]\n",
      "[[[ 4  7 10]\n",
      "  [12 39  3]]\n",
      "\n",
      " [[44 13 22]\n",
      "  [43  8 14]]\n",
      "\n",
      " [[61  6 38]\n",
      "  [41 35  1]]]\n"
     ]
    }
   ],
   "source": [
    "#modulus:\n",
    "\n",
    "arr1 = np.array([[[75,79,58],[76,86,75]],\n",
    "                 [[44,13,22],[89,56,87]],\n",
    "                 [[61,86,38],[96,35,35]]]\n",
    "                )\n",
    "arr2 = np.array([[[71,36,24],[64,47,24]],\n",
    "                 [[78,95,65],[46,24,73]],\n",
    "                 [[89,16,43],[55,42,34]]])\n",
    "n =3\n",
    "print(arr1%arr2)\n",
    "print(arr1%n)\n",
    "print(n%arr2)\n",
    "print(np.mod(arr1,arr2))"
   ]
  },
  {
   "cell_type": "code",
   "execution_count": 86,
   "id": "ea3c41b2-3a55-4180-8496-4d18ae4db84f",
   "metadata": {},
   "outputs": [
    {
     "name": "stdout",
     "output_type": "stream",
     "text": [
      "[[[  981506241  -588691696]\n",
      "  [  268435456 -1109083055]]\n",
      "\n",
      " [[ -491389631 -1296747760]\n",
      "  [ -580191728 -1144418815]]\n",
      "\n",
      " [[-1626332928  -975605504]\n",
      "  [ 1282048737  1282048737]]]\n"
     ]
    }
   ],
   "source": [
    "#Exponential:\n",
    "\n",
    "arr1 = np.array([[[7,8],[8,5]],\n",
    "                 [[5,2],[6,7]],\n",
    "                 [[6,8],[5,345]]])\n",
    "print(arr1**4)"
   ]
  },
  {
   "cell_type": "code",
   "execution_count": null,
   "id": "d22e0a2c-d877-4e7e-a076-2d83f79118f4",
   "metadata": {},
   "outputs": [],
   "source": []
  }
 ],
 "metadata": {
  "kernelspec": {
   "display_name": "Python 3 (ipykernel)",
   "language": "python",
   "name": "python3"
  },
  "language_info": {
   "codemirror_mode": {
    "name": "ipython",
    "version": 3
   },
   "file_extension": ".py",
   "mimetype": "text/x-python",
   "name": "python",
   "nbconvert_exporter": "python",
   "pygments_lexer": "ipython3",
   "version": "3.12.4"
  }
 },
 "nbformat": 4,
 "nbformat_minor": 5
}
