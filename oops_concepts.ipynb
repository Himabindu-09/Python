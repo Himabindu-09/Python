{
 "cells": [
  {
   "cell_type": "code",
   "execution_count": 7,
   "id": "128e9547-cb1a-49ac-82ac-0752d0f4afa4",
   "metadata": {},
   "outputs": [
    {
     "name": "stdout",
     "output_type": "stream",
     "text": [
      "I can eat\n",
      "I can sleep\n",
      "I can bark! woah!!\n",
      "I can sleep\n",
      "I can eat\n",
      "I can Mayoo! Mayoo!!\n"
     ]
    }
   ],
   "source": [
    "#1. Inheritance:\n",
    "\n",
    "#base class\n",
    "class Animal:\n",
    "    def eat(self):\n",
    "        print(\"I can eat\")\n",
    "    def sleep(self):\n",
    "        print(\"I can sleep\")\n",
    "#derived class\n",
    "class Dog(Animal):\n",
    "    def bark(self):\n",
    "        print(\"I can bark! woah!!\")\n",
    "class Cat(Animal):\n",
    "    def mayoo(self):\n",
    "        print(\"I can Mayoo! Mayoo!!\")\n",
    "#create object of the dog class\n",
    "\n",
    "dog1 = Dog()\n",
    "#calling members of the derived class\n",
    "dog1.eat()\n",
    "dog1.sleep()\n",
    "dog1.bark()\n",
    "\n",
    "#create object of the cat class\n",
    "cat1 = Cat()\n",
    "#calling members of the derived class\n",
    "cat1.sleep()\n",
    "cat1.eat()\n",
    "cat1.mayoo()\n"
   ]
  },
  {
   "cell_type": "code",
   "execution_count": 19,
   "id": "20165b12-19e6-4c1e-995d-cc0e503b5b2b",
   "metadata": {},
   "outputs": [
    {
     "name": "stdout",
     "output_type": "stream",
     "text": [
      "HelloPython\n"
     ]
    }
   ],
   "source": [
    "#eg:Multi level inheritance\n",
    "\n",
    "class Parent:\n",
    "    str1 = \"Hello\"\n",
    "class Child(Parent):\n",
    "    str2 = \"Python\"\n",
    "class GrandChild(Child):\n",
    "    def get_str(self):\n",
    "        print(self.str1 + self.str2)\n",
    "person = GrandChild()\n",
    "person.get_str()"
   ]
  },
  {
   "cell_type": "code",
   "execution_count": 7,
   "id": "aa7419ec-e3c0-4bc6-9a9f-6ca9b05910c6",
   "metadata": {},
   "outputs": [
    {
     "name": "stdout",
     "output_type": "stream",
     "text": [
      "3\n",
      "4\n"
     ]
    }
   ],
   "source": [
    "#2. Encapsulation:\n",
    "\n",
    "class Demo:\n",
    "    def __init__(self, a, b):\n",
    "        self.__a = a#\n",
    "        self._b = b\n",
    "        print(self.__a)\n",
    "class Demo1(Demo):\n",
    "    def output(self):\n",
    "        print(self._b)\n",
    "d = Demo1(3,4)\n",
    "d.output()"
   ]
  },
  {
   "cell_type": "code",
   "execution_count": 29,
   "id": "3ab14541-576a-435c-9de8-de5af93473cb",
   "metadata": {},
   "outputs": [
    {
     "name": "stdout",
     "output_type": "stream",
     "text": [
      "4\n",
      "Animal is walking\n"
     ]
    }
   ],
   "source": [
    "#eg:\n",
    "class Animal:\n",
    "    _legs = 4\n",
    "    \n",
    "    def _walk(self):\n",
    "        print(\"Animal is walking\")\n",
    "\n",
    "class Dog(Animal):\n",
    "    def bark(self):\n",
    "        print(\"Woof!\")\n",
    "\n",
    "d = Dog()\n",
    "print(d._legs)\n",
    "d._walk()"
   ]
  },
  {
   "cell_type": "code",
   "execution_count": 3,
   "id": "e257c3f3-08b7-496c-9f7b-ea1031064c95",
   "metadata": {},
   "outputs": [
    {
     "name": "stdout",
     "output_type": "stream",
     "text": [
      "Rendering Square....\n",
      "Rendering circle....\n"
     ]
    }
   ],
   "source": [
    "#3. Polymorphism\n",
    "\n",
    "class polygon:\n",
    "    #method to render a shape\n",
    "    def render(self):\n",
    "        print(\"Rendering Polygon.....\")\n",
    "class square(polygon):\n",
    "    #renders square\n",
    "    def render(self):\n",
    "        print(\"Rendering Square....\")\n",
    "class circle(polygon):\n",
    "    #renders circle\n",
    "    def render(self):\n",
    "        print(\"Rendering circle....\")\n",
    "#creating an object of square\n",
    "s1 = square()\n",
    "s1.render()\n",
    "#creating an object of circle\n",
    "c1 = circle()\n",
    "c1.render()"
   ]
  },
  {
   "cell_type": "code",
   "execution_count": 9,
   "id": "212587da-4cd5-46e0-b90e-c79712808621",
   "metadata": {},
   "outputs": [
    {
     "name": "stdout",
     "output_type": "stream",
     "text": [
      "8\n",
      "None\n",
      "ab\n",
      "None\n",
      "8.3\n",
      "None\n"
     ]
    }
   ],
   "source": [
    "#eg:\n",
    "\n",
    "class sum1():\n",
    "    def add(self, a, b):\n",
    "        print(a+b)\n",
    "\n",
    "obj = sum1()\n",
    "print(obj.add(3,5))\n",
    "print(obj.add('a', 'b'))\n",
    "print(obj.add(3.5, 4.8))"
   ]
  },
  {
   "cell_type": "code",
   "execution_count": 21,
   "id": "3016027a-603a-4dae-804e-6d9389a34954",
   "metadata": {},
   "outputs": [
    {
     "name": "stdout",
     "output_type": "stream",
     "text": [
      "There are many types of birds.\n",
      "Most of the birds can fly but some cannot.\n",
      "There are many types of birds.\n",
      "Sparrows can fly.\n",
      "There are many types of birds.\n",
      "Ostriches cannot fly.\n"
     ]
    }
   ],
   "source": [
    "#eg:\n",
    "\n",
    "class Bird:\n",
    "  def intro(self):\n",
    "    print(\"There are many types of birds.\")\n",
    "    \n",
    "  def flight(self):\n",
    "    print(\"Most of the birds can fly but some cannot.\")\n",
    "  \n",
    "class sparrow(Bird):\n",
    "  def flight(self):\n",
    "    print(\"Sparrows can fly.\")\n",
    "    \n",
    "class ostrich(Bird):\n",
    "  def flight(self):\n",
    "    print(\"Ostriches cannot fly.\")\n",
    "    \n",
    "obj_bird = Bird()\n",
    "obj_spr = sparrow()\n",
    "obj_ost = ostrich()\n",
    "\n",
    "obj_bird.intro()\n",
    "obj_bird.flight()\n",
    "\n",
    "obj_spr.intro()\n",
    "obj_spr.flight()\n",
    "\n",
    "obj_ost.intro()\n",
    "obj_ost.flight()"
   ]
  },
  {
   "cell_type": "code",
   "execution_count": 15,
   "id": "672d295a-eba8-4b12-9fde-5ba3a31e42cf",
   "metadata": {},
   "outputs": [],
   "source": [
    "#4. Abstaction:\n",
    "\n",
    "class car:\n",
    "    def start_engine(self):\n",
    "        pass #abstraction method\n",
    "    def drive(self):\n",
    "        pass\n",
    "    def stop_engine(self):\n",
    "        pass"
   ]
  },
  {
   "cell_type": "code",
   "execution_count": 43,
   "id": "4ad65d56-0289-495f-9840-7986aff3ffe8",
   "metadata": {},
   "outputs": [
    {
     "name": "stdout",
     "output_type": "stream",
     "text": [
      "Himabindu\n",
      "Arasavilli, Srikakulam 532001 01-777-523-342\n",
      "Indian cuisine Doing Artwork B+\n"
     ]
    }
   ],
   "source": [
    "#eg:\n",
    "\n",
    "class Person:\n",
    "    def __init__(self):\n",
    "        self.name = \"Himabindu\"\n",
    "\n",
    "    def bio(self):\n",
    "        self.addr = \"Arasavilli, Srikakulam\"\n",
    "        self.pin = \"532001\"\n",
    "        self.contact = \"01-777-523-342\"\n",
    "        print(self.addr, self.pin, self.contact)\n",
    "\n",
    "    def interest(self):\n",
    "        self.favFood = \"Indian cuisine\"\n",
    "        self.hobbies = \"Doing Artwork\"\n",
    "        self.bloodGroup = \"B+\"\n",
    "        print(self.favFood, self.hobbies, self.bloodGroup)\n",
    "\n",
    "obj = Person()\n",
    "print(obj.name)\n",
    "obj.bio()\n",
    "obj.interest()"
   ]
  },
  {
   "cell_type": "code",
   "execution_count": null,
   "id": "72a56480-cacf-4fac-b84e-cfbcc88b1487",
   "metadata": {},
   "outputs": [],
   "source": []
  }
 ],
 "metadata": {
  "kernelspec": {
   "display_name": "Python 3 (ipykernel)",
   "language": "python",
   "name": "python3"
  },
  "language_info": {
   "codemirror_mode": {
    "name": "ipython",
    "version": 3
   },
   "file_extension": ".py",
   "mimetype": "text/x-python",
   "name": "python",
   "nbconvert_exporter": "python",
   "pygments_lexer": "ipython3",
   "version": "3.12.4"
  }
 },
 "nbformat": 4,
 "nbformat_minor": 5
}
