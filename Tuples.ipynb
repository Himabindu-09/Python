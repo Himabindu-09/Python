{
 "cells": [
  {
   "cell_type": "code",
   "execution_count": 1,
   "id": "8bfcc0e2-ae2c-48e9-b263-b24baa1ee692",
   "metadata": {},
   "outputs": [
    {
     "name": "stdout",
     "output_type": "stream",
     "text": [
      "<class 'tuple'>\n"
     ]
    }
   ],
   "source": [
    "#Python Tuple\n",
    "#empty tuple:\n",
    "\n",
    "empty_tuple = ()\n",
    "#tuple with elements :\n",
    "fruits =(\"apple\", \"banana\", \"cherry\")\n",
    "print(type(fruits))"
   ]
  },
  {
   "cell_type": "code",
   "execution_count": 3,
   "id": "dbc66563-7ecd-454a-ab38-db29e6967a36",
   "metadata": {},
   "outputs": [
    {
     "name": "stdout",
     "output_type": "stream",
     "text": [
      "(1, 'apple', 3.4, True)\n"
     ]
    }
   ],
   "source": [
    "#mixed data types :\n",
    "mixed_tuple = (1, \"apple\", 3.4, True)\n",
    "print(mixed_tuple)"
   ]
  },
  {
   "cell_type": "code",
   "execution_count": 9,
   "id": "232604cd-b059-4375-ac04-8c003183640b",
   "metadata": {},
   "outputs": [
    {
     "name": "stdout",
     "output_type": "stream",
     "text": [
      "<class 'tuple'>\n"
     ]
    }
   ],
   "source": [
    "#single element tuple\n",
    "single_element= tuple(\"42\", )\n",
    "print(type(single_element))"
   ]
  },
  {
   "cell_type": "code",
   "execution_count": 11,
   "id": "06fcaad0-c3d3-472a-8f77-d7cf954fcb89",
   "metadata": {},
   "outputs": [
    {
     "name": "stdout",
     "output_type": "stream",
     "text": [
      "<class 'tuple'>\n"
     ]
    }
   ],
   "source": [
    "cars = (\"audi\", \"benz\", \"ferrari\")\n",
    "print(type(cars))"
   ]
  },
  {
   "cell_type": "code",
   "execution_count": 15,
   "id": "9fd6dda3-0a9c-4ac5-bc31-19ab5cdc9a61",
   "metadata": {},
   "outputs": [
    {
     "name": "stdout",
     "output_type": "stream",
     "text": [
      "orange\n",
      "('apple', 'banana', 'orange')\n"
     ]
    }
   ],
   "source": [
    "#accessing of tuples\n",
    "fruits =(\"apple\", \"banana\", \"orange\")\n",
    "print(fruits[2])\n",
    "print(fruits[0:7])"
   ]
  },
  {
   "cell_type": "code",
   "execution_count": 27,
   "id": "ba9b5cfc-1b80-4e29-973f-9273f9c3adeb",
   "metadata": {},
   "outputs": [
    {
     "name": "stdout",
     "output_type": "stream",
     "text": [
      "('beetroot', 'brinjal')\n"
     ]
    }
   ],
   "source": [
    "vegetables = (\"carrot\", \"beetroot\", \"brinjal\")\n",
    "print(vegetables[1:3])"
   ]
  },
  {
   "cell_type": "code",
   "execution_count": 29,
   "id": "9dd5a8b5-e0a5-4487-8046-d241de85c356",
   "metadata": {},
   "outputs": [
    {
     "ename": "TypeError",
     "evalue": "'tuple' object does not support item assignment",
     "output_type": "error",
     "traceback": [
      "\u001b[1;31m---------------------------------------------------------------------------\u001b[0m",
      "\u001b[1;31mTypeError\u001b[0m                                 Traceback (most recent call last)",
      "Cell \u001b[1;32mIn[29], line 3\u001b[0m\n\u001b[0;32m      1\u001b[0m \u001b[38;5;66;03m#immutability\u001b[39;00m\n\u001b[0;32m      2\u001b[0m fruits \u001b[38;5;241m=\u001b[39m (\u001b[38;5;124m\"\u001b[39m\u001b[38;5;124mapple\u001b[39m\u001b[38;5;124m\"\u001b[39m, \u001b[38;5;124m\"\u001b[39m\u001b[38;5;124mbanana\u001b[39m\u001b[38;5;124m\"\u001b[39m, \u001b[38;5;124m\"\u001b[39m\u001b[38;5;124morange\u001b[39m\u001b[38;5;124m\"\u001b[39m)\n\u001b[1;32m----> 3\u001b[0m fruits[\u001b[38;5;241m2\u001b[39m] \u001b[38;5;241m=\u001b[39m \u001b[38;5;124m\"\u001b[39m\u001b[38;5;124mpear\u001b[39m\u001b[38;5;124m\"\u001b[39m\n\u001b[0;32m      4\u001b[0m \u001b[38;5;28mprint\u001b[39m(fruits)\n",
      "\u001b[1;31mTypeError\u001b[0m: 'tuple' object does not support item assignment"
     ]
    }
   ],
   "source": [
    "#immutability\n",
    "fruits = (\"apple\", \"banana\", \"orange\")\n",
    "fruits[2] = \"pear\"\n",
    "print(fruits)"
   ]
  },
  {
   "cell_type": "code",
   "execution_count": 31,
   "id": "2f57d629-8ef1-45eb-acd0-16e6522cc169",
   "metadata": {},
   "outputs": [
    {
     "name": "stdout",
     "output_type": "stream",
     "text": [
      "(1, 2, 3, 'a', 'b', 'c')\n"
     ]
    }
   ],
   "source": [
    "#tuple Operations\n",
    "#concatenation\n",
    "tuple1 = (1,2,3)\n",
    "tuple2 = ('a', 'b','c')\n",
    "result = tuple1 + tuple2\n",
    "print(result)"
   ]
  },
  {
   "cell_type": "code",
   "execution_count": 33,
   "id": "d0f69968-cafa-40b4-ba3c-dcf4191e2667",
   "metadata": {},
   "outputs": [
    {
     "name": "stdout",
     "output_type": "stream",
     "text": [
      "('audi', 'benz', 'hyundai', 'tata')\n"
     ]
    }
   ],
   "source": [
    "var1 = (\"audi\", \"benz\")\n",
    "var2 = (\"hyundai\", \"tata\")\n",
    "res = var1+var2\n",
    "print(res)"
   ]
  },
  {
   "cell_type": "code",
   "execution_count": 37,
   "id": "70fe3d09-5e4d-4a95-b28a-54dc6945d5b6",
   "metadata": {},
   "outputs": [
    {
     "name": "stdout",
     "output_type": "stream",
     "text": [
      "(1, 2, 3, 1, 2, 3, 1, 2, 3, 1, 2, 3)\n"
     ]
    }
   ],
   "source": [
    "#Repetation\n",
    "\n",
    "tuple = (1,2,3)\n",
    "result = tuple1*4\n",
    "print(result)"
   ]
  },
  {
   "cell_type": "code",
   "execution_count": 39,
   "id": "f8654ece-35ae-48c6-85b5-f50dbc71d0d5",
   "metadata": {},
   "outputs": [
    {
     "name": "stdout",
     "output_type": "stream",
     "text": [
      "(1, 2, 3, 1, 2, 3, 1, 2, 3, 1, 2, 3)\n"
     ]
    }
   ],
   "source": [
    "tuple2 = ('a', 'b','c')\n",
    "result = tuple1*4\n",
    "print(result)"
   ]
  },
  {
   "cell_type": "code",
   "execution_count": 41,
   "id": "9d482d8e-516c-4aaa-b810-1319422156a6",
   "metadata": {},
   "outputs": [
    {
     "name": "stdout",
     "output_type": "stream",
     "text": [
      "3\n"
     ]
    }
   ],
   "source": [
    "#tuple methods\n",
    "#1. count():\n",
    "\n",
    "num  = (1,2,2,3,4,2,4,2,9,4,8,2,9,7,6,7,2)\n",
    "count_of_2 = num.count(4)\n",
    "print(count_of_2)"
   ]
  },
  {
   "cell_type": "code",
   "execution_count": 47,
   "id": "bc12c796-5d0e-4b12-acc4-736a2ef35838",
   "metadata": {},
   "outputs": [
    {
     "name": "stdout",
     "output_type": "stream",
     "text": [
      "2\n"
     ]
    }
   ],
   "source": [
    "vehicles_type  = ('jeep', 'car', 'bus', 'bus', 'car', 'bus', 'jeep', 'scooty', 'scooty')\n",
    "count_of_vehicles = vehicles_type.count('car')\n",
    "print(count_of_vehicles)"
   ]
  },
  {
   "cell_type": "code",
   "execution_count": 49,
   "id": "307be4d8-b75f-4690-a351-2b28cc6076c2",
   "metadata": {},
   "outputs": [
    {
     "name": "stdout",
     "output_type": "stream",
     "text": [
      "6\n"
     ]
    }
   ],
   "source": [
    "#2. index():\n",
    "numbers = (1,2,5,3,4,5,7)\n",
    "index_of_3 = numbers.index(7)\n",
    "print(index_of_3)"
   ]
  },
  {
   "cell_type": "code",
   "execution_count": 51,
   "id": "2e91d343-b6f6-484a-9677-198acac19e18",
   "metadata": {},
   "outputs": [
    {
     "name": "stdout",
     "output_type": "stream",
     "text": [
      "3\n"
     ]
    }
   ],
   "source": [
    "cars= (\"audi\", \"benz\", \"hyundai\", \"tata\")\n",
    "index_cars = cars.index(\"tata\")\n",
    "print(index_cars)"
   ]
  },
  {
   "cell_type": "code",
   "execution_count": 53,
   "id": "d3c2234e-145a-460f-bbd5-b9df7a4de4fa",
   "metadata": {},
   "outputs": [
    {
     "name": "stdout",
     "output_type": "stream",
     "text": [
      "4\n"
     ]
    }
   ],
   "source": [
    "#3. len() :\n",
    "\n",
    "cars = ('BMW', \"Tesla\", \"Ford\", \"Toyato\")\n",
    "print(len(cars))"
   ]
  },
  {
   "cell_type": "code",
   "execution_count": 67,
   "id": "67f4b4c0-e013-45d3-9e8e-ef51d13134e9",
   "metadata": {},
   "outputs": [
    {
     "name": "stdout",
     "output_type": "stream",
     "text": [
      "2\n"
     ]
    }
   ],
   "source": [
    "#4. min():\n",
    "numbers = (2,5,3,4,5,7)\n",
    "min_numbers = min(numbers)\n",
    "print(min_numbers)"
   ]
  },
  {
   "cell_type": "code",
   "execution_count": 69,
   "id": "61bc6b22-03b5-475a-9ae0-6e3acb2f7748",
   "metadata": {},
   "outputs": [
    {
     "name": "stdout",
     "output_type": "stream",
     "text": [
      "7\n"
     ]
    }
   ],
   "source": [
    "#5. max():\n",
    "numbers = (2,5,3,4,5,7)\n",
    "max_numbers = max(numbers)\n",
    "print(max_numbers)"
   ]
  },
  {
   "cell_type": "code",
   "execution_count": 71,
   "id": "421a886f-cb39-4b79-b99e-0e5a5db2c160",
   "metadata": {},
   "outputs": [
    {
     "name": "stdout",
     "output_type": "stream",
     "text": [
      "26\n"
     ]
    }
   ],
   "source": [
    "#6. sum():\n",
    "numbers = (2,5,3,4,5,7)\n",
    "sum_numbers = sum(numbers)\n",
    "print(sum_numbers)"
   ]
  }
 ],
 "metadata": {
  "kernelspec": {
   "display_name": "Python 3 (ipykernel)",
   "language": "python",
   "name": "python3"
  },
  "language_info": {
   "codemirror_mode": {
    "name": "ipython",
    "version": 3
   },
   "file_extension": ".py",
   "mimetype": "text/x-python",
   "name": "python",
   "nbconvert_exporter": "python",
   "pygments_lexer": "ipython3",
   "version": "3.12.4"
  }
 },
 "nbformat": 4,
 "nbformat_minor": 5
}
