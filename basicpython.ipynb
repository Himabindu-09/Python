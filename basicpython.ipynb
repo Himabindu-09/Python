{
 "cells": [
  {
   "cell_type": "code",
   "execution_count": 1,
   "id": "c813827a-748b-4ec1-b49b-9b70d3629e0e",
   "metadata": {},
   "outputs": [
    {
     "name": "stdout",
     "output_type": "stream",
     "text": [
      "11\n"
     ]
    }
   ],
   "source": [
    "a=5\n",
    "b=6\n",
    "c=a+b\n",
    "print(c)"
   ]
  },
  {
   "cell_type": "code",
   "execution_count": 6,
   "id": "f4218dd4-ae94-4d39-808d-e0fc484c896e",
   "metadata": {},
   "outputs": [
    {
     "name": "stdout",
     "output_type": "stream",
     "text": [
      "python version: 3.12.4 | packaged by Anaconda, Inc. | (main, Jun 18 2024, 15:03:56) [MSC v.1929 64 bit (AMD64)]\n"
     ]
    }
   ],
   "source": [
    "import sys\n",
    "print(\"python version:\", sys.version)"
   ]
  },
  {
   "cell_type": "code",
   "execution_count": 8,
   "id": "a07f1bdf-abd9-4220-a0ec-e456119d05f2",
   "metadata": {},
   "outputs": [
    {
     "name": "stdout",
     "output_type": "stream",
     "text": [
      "ten is greater than two\n"
     ]
    }
   ],
   "source": [
    "if 10 > 2:\n",
    "    print(\"ten is greater than two\") "
   ]
  },
  {
   "cell_type": "code",
   "execution_count": null,
   "id": "142ddd41-a5df-4815-bf4c-8d1359f0dd7e",
   "metadata": {},
   "outputs": [],
   "source": [
    "#sbhhghnjhhkljljgrgrtryht"
   ]
  },
  {
   "cell_type": "code",
   "execution_count": null,
   "id": "4078a7b0-71a2-4bba-94c2-21dbaa4f8e6d",
   "metadata": {},
   "outputs": [],
   "source": [
    "#This is a comment"
   ]
  },
  {
   "cell_type": "code",
   "execution_count": null,
   "id": "62b16e2e-e97b-4337-b6d1-d18f24727bce",
   "metadata": {},
   "outputs": [],
   "source": [
    "#this is a multiline comment\n",
    "#we can use mutliples comments in a code"
   ]
  },
  {
   "cell_type": "code",
   "execution_count": 1,
   "id": "d3ef6ee0-7942-4ece-9539-28585f120cf6",
   "metadata": {},
   "outputs": [
    {
     "name": "stdout",
     "output_type": "stream",
     "text": [
      "['False', 'None', 'True', 'and', 'as', 'assert', 'async', 'await', 'break', 'class', 'continue', 'def', 'del', 'elif', 'else', 'except', 'finally', 'for', 'from', 'global', 'if', 'import', 'in', 'is', 'lambda', 'nonlocal', 'not', 'or', 'pass', 'raise', 'return', 'try', 'while', 'with', 'yield']\n"
     ]
    },
    {
     "data": {
      "text/plain": [
       "35"
      ]
     },
     "execution_count": 1,
     "metadata": {},
     "output_type": "execute_result"
    }
   ],
   "source": [
    "import keyword\n",
    "python_keywords = keyword.kwlist\n",
    "print(python_keywords)\n",
    "len(python_keywords)"
   ]
  },
  {
   "cell_type": "code",
   "execution_count": 3,
   "id": "846f9416-bd96-45bf-ad74-69311faaa54b",
   "metadata": {},
   "outputs": [
    {
     "name": "stdout",
     "output_type": "stream",
     "text": [
      "10\n"
     ]
    }
   ],
   "source": [
    "#python variables\n",
    "a=10\n",
    "print(a)"
   ]
  },
  {
   "cell_type": "code",
   "execution_count": 11,
   "id": "355bf380-11e0-4324-b7c4-b19bfc0140ef",
   "metadata": {},
   "outputs": [
    {
     "name": "stdout",
     "output_type": "stream",
     "text": [
      "1678 python bindu 25000 pineapple 30 09-11-1998 35000 Hima 0029T1 srikakulam 532001\n"
     ]
    }
   ],
   "source": [
    "#valid variables\n",
    "var = 1678\n",
    "var_3 = 'python'\n",
    "name = \"bindu\"\n",
    "salary = 25000\n",
    "fruit_name = \"pineapple\"\n",
    "age = 30\n",
    "dob = '09-11-1998'\n",
    "salary1 = 35000\n",
    "_Name = \"Hima\"\n",
    "_employee_id = \"0029T1\"\n",
    "city_ = \"srikakulam\"\n",
    "_pincode_ = 532001\n",
    "print(var, var_3, name, salary, fruit_name, age, dob, salary_1, _Name, _employee_id, city_, _pincode_)"
   ]
  },
  {
   "cell_type": "code",
   "execution_count": 51,
   "id": "5211e13f-e3a4-49f6-a788-a13192079407",
   "metadata": {},
   "outputs": [
    {
     "ename": "SyntaxError",
     "evalue": "invalid decimal literal (35994476.py, line 2)",
     "output_type": "error",
     "traceback": [
      "\u001b[1;36m  Cell \u001b[1;32mIn[51], line 2\u001b[1;36m\u001b[0m\n\u001b[1;33m    1name = 'priya'\u001b[0m\n\u001b[1;37m    ^\u001b[0m\n\u001b[1;31mSyntaxError\u001b[0m\u001b[1;31m:\u001b[0m invalid decimal literal\n"
     ]
    }
   ],
   "source": [
    "#invalid variables\n",
    "1name = 'priya'\n",
    "$salary = 300000\n",
    "False = 0\n",
    "class = \"sql\"\n",
    "my-age = 24\n",
    "employee id = '0026T2'\n",
    "$__pin = 532401\n",
    "print- = \"HI\"\n",
    "_salary_& = 500000\n",
    "city' = \"srikakulam\"\n",
    "print(1name, $salary, False, class, my-age, employee id, __pin, print-, _salary1, city' )\n"
   ]
  },
  {
   "cell_type": "code",
   "execution_count": 21,
   "id": "812cb499-9e5c-4d3d-a640-fb9786cd0407",
   "metadata": {},
   "outputs": [
    {
     "name": "stdout",
     "output_type": "stream",
     "text": [
      "cherry apple banana\n"
     ]
    }
   ],
   "source": [
    "#multiple variables type1\n",
    "x,y,z = \"cherry\", \"apple\", \"banana\"\n",
    "print(x,y,z)"
   ]
  },
  {
   "cell_type": "code",
   "execution_count": 23,
   "id": "02ddf5a0-d523-4fe7-b3f6-b91a79940728",
   "metadata": {},
   "outputs": [
    {
     "name": "stdout",
     "output_type": "stream",
     "text": [
      "24 186 56\n"
     ]
    }
   ],
   "source": [
    "age, height, weight = 24, 186, 56\n",
    "print(age, height, weight)"
   ]
  },
  {
   "cell_type": "code",
   "execution_count": 27,
   "id": "8a3b85f4-e166-4af3-8af9-ffa256fddefe",
   "metadata": {},
   "outputs": [
    {
     "name": "stdout",
     "output_type": "stream",
     "text": [
      "1 2 3\n"
     ]
    }
   ],
   "source": [
    "a,b,c=1,2,3\n",
    "print(a,b,c)"
   ]
  },
  {
   "cell_type": "code",
   "execution_count": 31,
   "id": "6ad48017-9eac-46ef-944a-6b5e7ad63eba",
   "metadata": {},
   "outputs": [
    {
     "name": "stdout",
     "output_type": "stream",
     "text": [
      "25 35 45\n"
     ]
    }
   ],
   "source": [
    "num1, num2, num3 = 25, 35, 45\n",
    "print(num1, num2, num3)"
   ]
  },
  {
   "cell_type": "code",
   "execution_count": 33,
   "id": "a61e750e-4db8-4e5a-9540-df4433b843cc",
   "metadata": {},
   "outputs": [
    {
     "name": "stdout",
     "output_type": "stream",
     "text": [
      "Basketball football badminton\n"
     ]
    }
   ],
   "source": [
    "Sport_1, Sport_2, Sport_3 = \"Basketball\", \"football\", \"badminton\"\n",
    "print(Sport_1, Sport_2, Sport_3)"
   ]
  },
  {
   "cell_type": "code",
   "execution_count": 35,
   "id": "de44ea90-c792-481f-b174-9dfd14724e0d",
   "metadata": {},
   "outputs": [
    {
     "name": "stdout",
     "output_type": "stream",
     "text": [
      "15899 16700 45900\n"
     ]
    }
   ],
   "source": [
    "_sal1, _sal2, _sal3 = 15899, 16700, 45900\n",
    "print(_sal1, _sal2, _sal3)"
   ]
  },
  {
   "cell_type": "code",
   "execution_count": 47,
   "id": "c2fecfc3-1478-46bc-881a-1cc3dd1cecdd",
   "metadata": {},
   "outputs": [
    {
     "name": "stdout",
     "output_type": "stream",
     "text": [
      "hyundai tata renault\n"
     ]
    }
   ],
   "source": [
    "car_brand1, car_brand2, car_brand3 = \"hyundai\", \"tata\", \"renault\"\n",
    "print(car_brand1, car_brand2, car_brand3)"
   ]
  },
  {
   "cell_type": "code",
   "execution_count": 53,
   "id": "f9348e83-abab-4a9d-a429-357359e048d8",
   "metadata": {},
   "outputs": [
    {
     "name": "stdout",
     "output_type": "stream",
     "text": [
      "badam kaju walnut\n"
     ]
    }
   ],
   "source": [
    "_dry_fruit_1, _dry_fruit_2, _dry_fruit_3 = 'badam', 'kaju', 'walnut'\n",
    "print(_dry_fruit_1, _dry_fruit_2, _dry_fruit_3)"
   ]
  },
  {
   "cell_type": "code",
   "execution_count": 55,
   "id": "fc2823ab-236f-4465-b52d-a6c8b4bf26f4",
   "metadata": {},
   "outputs": [
    {
     "name": "stdout",
     "output_type": "stream",
     "text": [
      "68 45 54\n"
     ]
    }
   ],
   "source": [
    "_maths_, _physics_, _chemistry_ = 68, 45, 54\n",
    "print(_maths_, _physics_, _chemistry_)"
   ]
  },
  {
   "cell_type": "code",
   "execution_count": 57,
   "id": "559046bf-78dd-49e9-8a7a-cfab1cffaf2e",
   "metadata": {},
   "outputs": [
    {
     "name": "stdout",
     "output_type": "stream",
     "text": [
      "carrot bottle-gourd brinjal\n"
     ]
    }
   ],
   "source": [
    "_veggie_1, _veggie_2, _veggie_3 = \"carrot\", \"bottle-gourd\", \"brinjal\"\n",
    "print(_veggie_1, _veggie_2, _veggie_3)"
   ]
  },
  {
   "cell_type": "code",
   "execution_count": 59,
   "id": "d995ac0c-9a46-4bcb-9f92-2fdc02e82799",
   "metadata": {},
   "outputs": [
    {
     "name": "stdout",
     "output_type": "stream",
     "text": [
      "100 100 100\n"
     ]
    }
   ],
   "source": [
    "#multiple variables type1\n",
    "x=y=z= 100\n",
    "print(x,y,z)"
   ]
  },
  {
   "cell_type": "code",
   "execution_count": 63,
   "id": "a9a79cad-52c7-4ef9-a954-531f00112acf",
   "metadata": {},
   "outputs": [
    {
     "name": "stdout",
     "output_type": "stream",
     "text": [
      "apple apple apple\n"
     ]
    }
   ],
   "source": [
    "fruit1=fruit2=fruit3= \"apple\"\n",
    "print(fruit1, fruit2, fruit3)"
   ]
  },
  {
   "cell_type": "code",
   "execution_count": 123,
   "id": "a5658b4d-6825-4bb5-97bc-20e016197e2e",
   "metadata": {},
   "outputs": [
    {
     "name": "stdout",
     "output_type": "stream",
     "text": [
      "veggies veggies veggies\n"
     ]
    }
   ],
   "source": [
    "carrot= beetroot=brinjal = 'veggies'\n",
    "print(carrot, beetroot, brinjal)\n"
   ]
  },
  {
   "cell_type": "code",
   "execution_count": 117,
   "id": "5ffa7e86-6c9c-4f56-8d08-31233dfbf2d8",
   "metadata": {},
   "outputs": [
    {
     "name": "stdout",
     "output_type": "stream",
     "text": [
      "50000 50000 50000\n"
     ]
    }
   ],
   "source": [
    "_sal1=_sal2=_sal3=50000\n",
    "print(_sal1, _sal2,_sal3)"
   ]
  },
  {
   "cell_type": "code",
   "execution_count": 119,
   "id": "af823e52-2e48-4b5e-bbfc-1788901e9d7b",
   "metadata": {},
   "outputs": [
    {
     "name": "stdout",
     "output_type": "stream",
     "text": [
      "50 50 50\n"
     ]
    }
   ],
   "source": [
    "_num_1=_num_2=_num_3= 50\n",
    "print(_num_1, _num_2,_num_3)"
   ]
  },
  {
   "cell_type": "code",
   "execution_count": 121,
   "id": "5cd703ea-1234-4175-94ac-f0dad187531a",
   "metadata": {},
   "outputs": [
    {
     "name": "stdout",
     "output_type": "stream",
     "text": [
      "Automobiles Automobiles Automobiles\n"
     ]
    }
   ],
   "source": [
    "_bike_= _car_= _lorry_= \"Automobiles\"\n",
    "print(_bike_, _car_, _lorry_)"
   ]
  },
  {
   "cell_type": "code",
   "execution_count": 125,
   "id": "36a71a5d-526d-4c56-bd65-8b88d3fa3bc5",
   "metadata": {},
   "outputs": [
    {
     "name": "stdout",
     "output_type": "stream",
     "text": [
      "country country country\n"
     ]
    }
   ],
   "source": [
    "china = japan = India = 'country'\n",
    "print(china, japan, India)"
   ]
  },
  {
   "cell_type": "code",
   "execution_count": 129,
   "id": "6d24031b-8567-4281-8802-62124d30db31",
   "metadata": {},
   "outputs": [
    {
     "name": "stdout",
     "output_type": "stream",
     "text": [
      "flights flights flights\n"
     ]
    }
   ],
   "source": [
    "Indigo = Spicejet = Vistara = \"flights\"\n",
    "print(Indigo, Spicejet, Vistara)"
   ]
  },
  {
   "cell_type": "code",
   "execution_count": 131,
   "id": "eddeda7e-fc3e-4296-a9a1-a0f245f03fbf",
   "metadata": {},
   "outputs": [
    {
     "name": "stdout",
     "output_type": "stream",
     "text": [
      "sales department sales department sales department\n"
     ]
    }
   ],
   "source": [
    "person_1=person_2=person_3 = \"sales department\"\n",
    "print(person_1, person_2, person_3)"
   ]
  },
  {
   "cell_type": "code",
   "execution_count": 135,
   "id": "ad55e324-6bcc-4651-828d-3cadb1b0aadf",
   "metadata": {},
   "outputs": [
    {
     "name": "stdout",
     "output_type": "stream",
     "text": [
      "first place first place first place\n"
     ]
    }
   ],
   "source": [
    "baseball=badminton=chess=\"first place\"\n",
    "print(baseball,badminton,chess)"
   ]
  },
  {
   "cell_type": "code",
   "execution_count": 137,
   "id": "7250314a-650a-412f-b1b9-a70ebbd1ede1",
   "metadata": {},
   "outputs": [
    {
     "name": "stdout",
     "output_type": "stream",
     "text": [
      "cars cars cars\n"
     ]
    }
   ],
   "source": [
    "_range_rover=_rolls_royace=_ferrari= \"cars\"\n",
    "print(_range_rover, _rolls_royace, _ferrari)\n"
   ]
  },
  {
   "cell_type": "code",
   "execution_count": null,
   "id": "d3742a0b-9c36-4c1c-9f8e-b9e1ddf81ee8",
   "metadata": {},
   "outputs": [],
   "source": []
  }
 ],
 "metadata": {
  "kernelspec": {
   "display_name": "Python 3 (ipykernel)",
   "language": "python",
   "name": "python3"
  },
  "language_info": {
   "codemirror_mode": {
    "name": "ipython",
    "version": 3
   },
   "file_extension": ".py",
   "mimetype": "text/x-python",
   "name": "python",
   "nbconvert_exporter": "python",
   "pygments_lexer": "ipython3",
   "version": "3.12.4"
  }
 },
 "nbformat": 4,
 "nbformat_minor": 5
}
