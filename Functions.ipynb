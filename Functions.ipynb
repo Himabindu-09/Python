{
 "cells": [
  {
   "cell_type": "code",
   "execution_count": null,
   "id": "82d3a9c1-f9b6-4f53-bbf6-bd3a571d853f",
   "metadata": {},
   "outputs": [],
   "source": [
    "#Python Functions:\n",
    "\n",
    "#standard library functions\n",
    "#user defined functions\n",
    "\n",
    "def function_name(arguments):\n",
    "    #function body\n",
    "    return\n",
    "\n",
    "def - keyword used to declare a function\n",
    "function_name - any name given to the function\n",
    "arguments - any value passed to function\n",
    "return(optional) - returns value from a function.\n",
    "\n",
    "#simple function \n",
    "def greet():\n",
    "    print('Hello World!)"
   ]
  },
  {
   "cell_type": "code",
   "execution_count": 11,
   "id": "e7ad7bf2-7830-485f-965a-6fac50d75e2f",
   "metadata": {},
   "outputs": [
    {
     "name": "stdout",
     "output_type": "stream",
     "text": [
      "Hello,sai!\n"
     ]
    }
   ],
   "source": [
    "#calling a function \n",
    "\n",
    "def greet(name):\n",
    "    print(f\"Hello,{name}!\")\n",
    "#calling the function\n",
    "greet(\"sai\")"
   ]
  },
  {
   "cell_type": "code",
   "execution_count": 27,
   "id": "9d541d84-bab3-4e87-98bd-99bea9cc9cea",
   "metadata": {},
   "outputs": [
    {
     "name": "stdout",
     "output_type": "stream",
     "text": [
      "your name is reddy and your age is 23 and your from Hyd.\n"
     ]
    }
   ],
   "source": [
    "def vote(name, age, location):\n",
    "    print(f'your name is {name} and your age is {age} and your from {location}.')\n",
    "vote(\"reddy\", 23, \"Hyd\");"
   ]
  },
  {
   "cell_type": "code",
   "execution_count": 35,
   "id": "b97c89dc-11df-4489-a066-753adbf35426",
   "metadata": {},
   "outputs": [
    {
     "name": "stdout",
     "output_type": "stream",
     "text": [
      "sum: 128\n",
      "sum: 49\n",
      "sum: 27\n"
     ]
    }
   ],
   "source": [
    "#python function arguments:\n",
    "\n",
    "#function with two arguments\n",
    "def add_numbers(num1, num2):\n",
    "    sum = num1+num2\n",
    "    print(\"sum:\", sum)\n",
    "add_numbers(44,84)\n",
    "add_numbers(45,4)\n",
    "add_numbers(34,-7)"
   ]
  },
  {
   "cell_type": "code",
   "execution_count": 39,
   "id": "2d1fa773-ea2a-4641-910b-1e207bb65889",
   "metadata": {},
   "outputs": [
    {
     "name": "stdin",
     "output_type": "stream",
     "text": [
      "Enter a number: 78\n"
     ]
    },
    {
     "name": "stdout",
     "output_type": "stream",
     "text": [
      "78 is even\n"
     ]
    }
   ],
   "source": [
    "#python program to check even or odd number using functions\n",
    "\n",
    "num = int(input(\"Enter a number:\"))\n",
    "def find_EvenOdd(num):\n",
    "    if(num%2 ==0):\n",
    "        print(num, \"is even\")\n",
    "    else:\n",
    "        print(num, \"is odd\")\n",
    "find_EvenOdd(num)"
   ]
  },
  {
   "cell_type": "code",
   "execution_count": 61,
   "id": "5243feb2-1724-45ac-9121-3929381d4569",
   "metadata": {},
   "outputs": [
    {
     "name": "stdout",
     "output_type": "stream",
     "text": [
      "81\n",
      "Square: <function find_square at 0x000001B53B752020>\n"
     ]
    }
   ],
   "source": [
    "#The Return Statement\n",
    "'''def add_number():\n",
    "    .......\n",
    "    return sum'''\n",
    "\n",
    "def find_square(num):\n",
    "    result = num*num\n",
    "    print(result)\n",
    "\n",
    "find_square(9)\n",
    "print('Square:', find_square)"
   ]
  },
  {
   "cell_type": "code",
   "execution_count": 65,
   "id": "bc73d96f-43d4-4fdf-90b4-ba164b266f79",
   "metadata": {},
   "outputs": [
    {
     "name": "stdout",
     "output_type": "stream",
     "text": [
      "square root of 4 is 2.0\n",
      "2 to the power 3 is 8\n"
     ]
    }
   ],
   "source": [
    "#python library functions:\n",
    "\n",
    "#print()- prints the string inside the quotation marks.\n",
    "#sqrt()- returns the square root of a number\n",
    "#pow()- returns the power of a number\n",
    "\n",
    "import math\n",
    "square_root = math.sqrt(4)\n",
    "print(\"square root of 4 is\", square_root)\n",
    "power = pow(2,3)\n",
    "print(\"2 to the power 3 is\", power)"
   ]
  },
  {
   "cell_type": "code",
   "execution_count": 71,
   "id": "e1e2ead7-fcd1-454b-b130-9c4f36626a61",
   "metadata": {},
   "outputs": [
    {
     "name": "stdout",
     "output_type": "stream",
     "text": [
      "155\n"
     ]
    }
   ],
   "source": [
    "#lambda function:\n",
    "\n",
    "#syntax: lambda arguments : expressions\n",
    "\n",
    "x = lambda a: a+100\n",
    "a =55\n",
    "print(x(a))"
   ]
  },
  {
   "cell_type": "code",
   "execution_count": 73,
   "id": "dff09056-1871-43b7-8474-22e1f81d3cf3",
   "metadata": {},
   "outputs": [
    {
     "name": "stdout",
     "output_type": "stream",
     "text": [
      "22\n"
     ]
    }
   ],
   "source": [
    "j = lambda a,b,c : a+b*c\n",
    "print(j(4,6,3))"
   ]
  },
  {
   "cell_type": "code",
   "execution_count": 75,
   "id": "fbfe63c8-68cf-4797-b6f5-f02a679f4c38",
   "metadata": {},
   "outputs": [
    {
     "name": "stdout",
     "output_type": "stream",
     "text": [
      "126\n"
     ]
    }
   ],
   "source": [
    "add = lambda x,y : x+y\n",
    "result = add(37,89)\n",
    "print(result)"
   ]
  },
  {
   "cell_type": "code",
   "execution_count": 85,
   "id": "6b28e9ff-582d-4ec0-96a9-4519ea477e96",
   "metadata": {},
   "outputs": [
    {
     "name": "stdout",
     "output_type": "stream",
     "text": [
      "55\n"
     ]
    }
   ],
   "source": [
    "def myfunc(n):\n",
    "    return lambda a: a*n\n",
    "mult = myfunc(5)\n",
    "print(mult(11))"
   ]
  },
  {
   "cell_type": "code",
   "execution_count": 93,
   "id": "fe554220-5f67-4604-bb5c-68e99edf331c",
   "metadata": {},
   "outputs": [
    {
     "name": "stdout",
     "output_type": "stream",
     "text": [
      "I love python\n"
     ]
    }
   ],
   "source": [
    "#Global Variables and Local Variables\n",
    "\n",
    "#Creating local variables in python:\n",
    "\n",
    "def f():\n",
    "    #local variables\n",
    "    s = \"I love python\"\n",
    "    print(s)\n",
    "\n",
    "f()"
   ]
  },
  {
   "cell_type": "code",
   "execution_count": 97,
   "id": "902657b8-3837-4aee-b2b9-517e5711241d",
   "metadata": {},
   "outputs": [
    {
     "name": "stdout",
     "output_type": "stream",
     "text": [
      "python\n",
      "python\n"
     ]
    }
   ],
   "source": [
    "f = \"python\"\n",
    "def g():\n",
    "    print(f)\n",
    "g()\n",
    "print(f)"
   ]
  },
  {
   "cell_type": "code",
   "execution_count": 111,
   "id": "a151fd8e-bdd9-4d91-a660-104576541c9f",
   "metadata": {},
   "outputs": [
    {
     "name": "stdout",
     "output_type": "stream",
     "text": [
      "Inside Function: I love my parents\n"
     ]
    }
   ],
   "source": [
    "def f():\n",
    "    S = \"I love my parents\"\n",
    "    print(\"Inside Function:\", S)\n",
    "f()"
   ]
  },
  {
   "cell_type": "code",
   "execution_count": 113,
   "id": "c3296ce2-1e37-4614-b53f-86992f788990",
   "metadata": {},
   "outputs": [
    {
     "name": "stdout",
     "output_type": "stream",
     "text": [
      "python is a programming languageI Love Python\n"
     ]
    }
   ],
   "source": [
    "#Creating global variables in python:\n",
    "\n",
    "S = \"I Love Python\"\n",
    "def f():\n",
    "    print(\"python is a programming language\" + S)\n",
    "f()"
   ]
  },
  {
   "cell_type": "code",
   "execution_count": null,
   "id": "4e896aa0-5772-4179-8ec1-5baf4f650727",
   "metadata": {},
   "outputs": [],
   "source": []
  }
 ],
 "metadata": {
  "kernelspec": {
   "display_name": "Python 3 (ipykernel)",
   "language": "python",
   "name": "python3"
  },
  "language_info": {
   "codemirror_mode": {
    "name": "ipython",
    "version": 3
   },
   "file_extension": ".py",
   "mimetype": "text/x-python",
   "name": "python",
   "nbconvert_exporter": "python",
   "pygments_lexer": "ipython3",
   "version": "3.12.4"
  }
 },
 "nbformat": 4,
 "nbformat_minor": 5
}
