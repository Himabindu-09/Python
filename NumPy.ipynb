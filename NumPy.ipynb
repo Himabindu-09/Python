{
 "cells": [
  {
   "cell_type": "code",
   "execution_count": 1,
   "id": "b520f922-2d13-4218-b638-b60051a73a88",
   "metadata": {},
   "outputs": [
    {
     "name": "stdout",
     "output_type": "stream",
     "text": [
      "Requirement already satisfied: numpy in c:\\users\\dell\\anaconda3\\lib\\site-packages (1.26.4)\n"
     ]
    }
   ],
   "source": [
    "#NumPy\n",
    "\n",
    "!pip install numpy"
   ]
  },
  {
   "cell_type": "code",
   "execution_count": 37,
   "id": "8e5b97ac-f249-4a15-a969-98f59c4b7c85",
   "metadata": {},
   "outputs": [
    {
     "name": "stdout",
     "output_type": "stream",
     "text": [
      "[1 2 3 4 5]\n",
      "[[ 1.5  2.7  5.3]\n",
      " [46.  35.   6. ]]\n",
      "[[[1.5 7.2 3. ]\n",
      "  [5.4 5.  6. ]]\n",
      "\n",
      " [[7.  9.2 1. ]\n",
      "  [4.  5.  6.8]]]\n"
     ]
    }
   ],
   "source": [
    "#importing numpy\n",
    "import numpy as np\n",
    "\n",
    "#creating numpy\n",
    "a = np.array([1,2,3,4, 5])\n",
    "b = np.array([(1.5, 2.7, 5.3), (46,35,6)])\n",
    "c = np.array([[(1.5, 7.2,3),(5.4,5,6)],[(7.,9.2,1),(4,5,6.8)]])\n",
    "print(a)\n",
    "print(b)\n",
    "print(c)"
   ]
  },
  {
   "cell_type": "code",
   "execution_count": 39,
   "id": "6b848eca-f1ce-449a-bf26-25e7d454567e",
   "metadata": {},
   "outputs": [
    {
     "data": {
      "text/plain": [
       "array([[0., 0., 0., 0., 0., 0., 0., 0.],\n",
       "       [0., 0., 0., 0., 0., 0., 0., 0.],\n",
       "       [0., 0., 0., 0., 0., 0., 0., 0.],\n",
       "       [0., 0., 0., 0., 0., 0., 0., 0.]])"
      ]
     },
     "execution_count": 39,
     "metadata": {},
     "output_type": "execute_result"
    }
   ],
   "source": [
    "#initial place holders\n",
    "\n",
    "#creating an array of zeros\n",
    "\n",
    "np.zeros((4,8)) #creating 2D array #3 rows and 4 columns"
   ]
  },
  {
   "cell_type": "code",
   "execution_count": 43,
   "id": "aa1f1160-61a7-4012-802d-d69290a3eb7a",
   "metadata": {},
   "outputs": [
    {
     "data": {
      "text/plain": [
       "array([[[1., 1., 1., 1.],\n",
       "        [1., 1., 1., 1.],\n",
       "        [1., 1., 1., 1.],\n",
       "        [1., 1., 1., 1.]],\n",
       "\n",
       "       [[1., 1., 1., 1.],\n",
       "        [1., 1., 1., 1.],\n",
       "        [1., 1., 1., 1.],\n",
       "        [1., 1., 1., 1.]]])"
      ]
     },
     "execution_count": 43,
     "metadata": {},
     "output_type": "execute_result"
    }
   ],
   "source": [
    "#creating an array of ones\n",
    "\n",
    "np.ones((2,4,4)) #shape, rows, cols"
   ]
  },
  {
   "cell_type": "code",
   "execution_count": 45,
   "id": "025364e8-96eb-4910-be49-977d45ef5a00",
   "metadata": {},
   "outputs": [
    {
     "name": "stdout",
     "output_type": "stream",
     "text": [
      "[ 5  9 13 17 21]\n"
     ]
    }
   ],
   "source": [
    "#creating an array of evenly spaced values(step value)\n",
    "d = np.arange(5,25,4) #steps n-1(3-1 = 2)\n",
    "print(d)"
   ]
  },
  {
   "cell_type": "code",
   "execution_count": 47,
   "id": "44d7ae84-45dd-4eff-bda7-c77cb667f525",
   "metadata": {},
   "outputs": [
    {
     "data": {
      "text/plain": [
       "array([ 0., 16., 32., 48., 64., 80., 96.])"
      ]
     },
     "execution_count": 47,
     "metadata": {},
     "output_type": "execute_result"
    }
   ],
   "source": [
    "#creating an array of evenly spaced values(number of samples)\n",
    "np.linspace(0,96,7)"
   ]
  },
  {
   "cell_type": "code",
   "execution_count": 49,
   "id": "e829f7de-5eaf-4ee5-a6fa-5555431df45c",
   "metadata": {},
   "outputs": [
    {
     "name": "stdout",
     "output_type": "stream",
     "text": [
      "[5 5 5 5 5 5 5 5 5]\n",
      "1\n"
     ]
    }
   ],
   "source": [
    "#create a constant array\n",
    "#create a 1D array\n",
    "\n",
    "e= np.full((9),5) #columns\n",
    "print(e)\n",
    "print(e.ndim)"
   ]
  },
  {
   "cell_type": "code",
   "execution_count": 51,
   "id": "0f7ba638-0c5a-416e-be98-a743834cfd3d",
   "metadata": {},
   "outputs": [
    {
     "name": "stdout",
     "output_type": "stream",
     "text": [
      "[[63 63 63]\n",
      " [63 63 63]]\n",
      "2\n"
     ]
    }
   ],
   "source": [
    "#create a 2D array\n",
    "\n",
    "e= np.full((2,3),63) #columns\n",
    "print(e)\n",
    "print(e.ndim)"
   ]
  },
  {
   "cell_type": "code",
   "execution_count": 55,
   "id": "a8f39438-2d74-4043-a869-fb8cbc8cc168",
   "metadata": {},
   "outputs": [
    {
     "name": "stdout",
     "output_type": "stream",
     "text": [
      "[[[6 6 6 6]\n",
      "  [6 6 6 6]\n",
      "  [6 6 6 6]]\n",
      "\n",
      " [[6 6 6 6]\n",
      "  [6 6 6 6]\n",
      "  [6 6 6 6]]\n",
      "\n",
      " [[6 6 6 6]\n",
      "  [6 6 6 6]\n",
      "  [6 6 6 6]]]\n",
      "No of Dimensions: 3\n"
     ]
    }
   ],
   "source": [
    "#create a 3D array\n",
    "\n",
    "e= np.full((3,3,4),6) #columns\n",
    "print(e)\n",
    "print(\"No of Dimensions:\",e.ndim)"
   ]
  },
  {
   "cell_type": "code",
   "execution_count": 31,
   "id": "ae961d96-9fa6-4355-b349-1ea33d615e5d",
   "metadata": {},
   "outputs": [
    {
     "name": "stdout",
     "output_type": "stream",
     "text": [
      "[[1. 0. 0. 0.]\n",
      " [0. 1. 0. 0.]\n",
      " [0. 0. 1. 0.]\n",
      " [0. 0. 0. 1.]]\n"
     ]
    }
   ],
   "source": [
    "#creating a 2*2 identity matrix\n",
    "\n",
    "f = np.eye(4)\n",
    "print(f)"
   ]
  },
  {
   "cell_type": "code",
   "execution_count": 33,
   "id": "207f229f-7d38-437d-a404-3ab4e034dcf2",
   "metadata": {},
   "outputs": [
    {
     "data": {
      "text/plain": [
       "array([[0.599327  , 0.65277708, 0.96759145],\n",
       "       [0.39591454, 0.42499582, 0.44086044]])"
      ]
     },
     "execution_count": 33,
     "metadata": {},
     "output_type": "execute_result"
    }
   ],
   "source": [
    "#creating an array with random values\n",
    "np.random.random((2,3))"
   ]
  },
  {
   "cell_type": "code",
   "execution_count": 63,
   "id": "189f3d09-6908-438a-87a1-75eddb2dc28d",
   "metadata": {},
   "outputs": [
    {
     "data": {
      "text/plain": [
       "6"
      ]
     },
     "execution_count": 63,
     "metadata": {},
     "output_type": "execute_result"
    }
   ],
   "source": [
    "np.random.randint(5,10)"
   ]
  },
  {
   "cell_type": "code",
   "execution_count": 67,
   "id": "8453e9cf-403b-4b87-91bc-ef4715c9e1bd",
   "metadata": {},
   "outputs": [
    {
     "name": "stdout",
     "output_type": "stream",
     "text": [
      "(4, 3)\n"
     ]
    }
   ],
   "source": [
    "#to find the shape of an array.\n",
    "arr = np.array([[1,5,6],[5,3,6],[93,7,3],[0,2,5]])\n",
    "print(arr.shape)"
   ]
  },
  {
   "cell_type": "code",
   "execution_count": 69,
   "id": "0183d4ed-9473-415e-b80d-bd5279ee55d5",
   "metadata": {},
   "outputs": [
    {
     "name": "stdout",
     "output_type": "stream",
     "text": [
      "12\n"
     ]
    }
   ],
   "source": [
    "#To find no of elements in array\n",
    "arr = np.array([[1,2,2,6],[6,2,7,2],[4,7,2,8]])\n",
    "print(arr.size)"
   ]
  },
  {
   "cell_type": "code",
   "execution_count": null,
   "id": "f54ef449-d57a-4a75-ae8f-f06a0f875d2c",
   "metadata": {},
   "outputs": [],
   "source": [
    "#to find the length of array\n",
    "arr = np.array([[5,7,3,7],[6,7,2,8],[7["
   ]
  }
 ],
 "metadata": {
  "kernelspec": {
   "display_name": "Python 3 (ipykernel)",
   "language": "python",
   "name": "python3"
  },
  "language_info": {
   "codemirror_mode": {
    "name": "ipython",
    "version": 3
   },
   "file_extension": ".py",
   "mimetype": "text/x-python",
   "name": "python",
   "nbconvert_exporter": "python",
   "pygments_lexer": "ipython3",
   "version": "3.12.4"
  }
 },
 "nbformat": 4,
 "nbformat_minor": 5
}
