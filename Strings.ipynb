{
 "cells": [
  {
   "cell_type": "code",
   "execution_count": 1,
   "id": "68c42e1f-8e95-4529-8a37-bbacc841e167",
   "metadata": {},
   "outputs": [
    {
     "name": "stdout",
     "output_type": "stream",
     "text": [
      "This is a \n",
      "multiline string\n"
     ]
    }
   ],
   "source": [
    "#Strings\n",
    "#create a string using double quotes\n",
    "str1 = \"python\"\n",
    "#create a string using single quotes\n",
    "str2 = 'python'\n",
    "#if need any multi -line strings using triple quotes\n",
    "str3 = \"\"\"This is a \n",
    "multiline string\"\"\"\n",
    "print(str3)"
   ]
  },
  {
   "cell_type": "code",
   "execution_count": 5,
   "id": "4b1ca36d-012a-4195-9100-92a92199eb30",
   "metadata": {},
   "outputs": [
    {
     "name": "stdout",
     "output_type": "stream",
     "text": [
      "<class 'str'>\n",
      "<class 'str'>\n",
      "<class 'str'>\n"
     ]
    }
   ],
   "source": [
    "print(type(str1))\n",
    "print(type(str2))\n",
    "print(type(str3))"
   ]
  },
  {
   "cell_type": "code",
   "execution_count": 7,
   "id": "3c54cc1e-3726-4ace-81b9-90b0b935d2f0",
   "metadata": {},
   "outputs": [
    {
     "name": "stdout",
     "output_type": "stream",
     "text": [
      "Helloworld\n"
     ]
    }
   ],
   "source": [
    "#String Operations\n",
    "#1. Concatenation:\n",
    "\n",
    "str1 = \"Hello\"\n",
    "str2 = \"world\"\n",
    "result = str1 + str2\n",
    "print(result)\n"
   ]
  },
  {
   "cell_type": "code",
   "execution_count": 9,
   "id": "2b9755e3-1d99-42e5-b3d1-19f3f15cfad8",
   "metadata": {},
   "outputs": [
    {
     "name": "stdout",
     "output_type": "stream",
     "text": [
      "pythonis a easy language\n"
     ]
    }
   ],
   "source": [
    "#practice\n",
    "str_1 = \"python\"\n",
    "str_2 = \"is a easy language\"\n",
    "result =  str_1 + str_2\n",
    "print(result)"
   ]
  },
  {
   "cell_type": "code",
   "execution_count": 15,
   "id": "455b3200-1605-4e8e-8d5b-5c6bdd7c7678",
   "metadata": {},
   "outputs": [
    {
     "name": "stdout",
     "output_type": "stream",
     "text": [
      "python python python \n"
     ]
    }
   ],
   "source": [
    "#2. Repetation\n",
    "str1 = \"python \"\n",
    "result = str1 * 3\n",
    "print(result)"
   ]
  },
  {
   "cell_type": "code",
   "execution_count": 17,
   "id": "ef409086-668c-4482-9eb3-7abca74a6602",
   "metadata": {},
   "outputs": [
    {
     "name": "stdout",
     "output_type": "stream",
     "text": [
      "My name is HimabinduMy name is HimabinduMy name is HimabinduMy name is HimabinduMy name is HimabinduMy name is HimabinduMy name is HimabinduMy name is HimabinduMy name is Himabindu\n"
     ]
    }
   ],
   "source": [
    " str_1 = \"My name is Himabindu\"\n",
    "result = str_1 * 9\n",
    "print(result)"
   ]
  },
  {
   "cell_type": "code",
   "execution_count": 29,
   "id": "d77d4b9b-6485-4041-88ab-90ff8342614c",
   "metadata": {},
   "outputs": [
    {
     "name": "stdout",
     "output_type": "stream",
     "text": [
      "f\n",
      "s\n"
     ]
    }
   ],
   "source": [
    "#Indexing \n",
    "my_string = \"python is so fun\"\n",
    "print(my_string[13])\n",
    "print(my_string[-8])\n"
   ]
  },
  {
   "cell_type": "code",
   "execution_count": 35,
   "id": "b91b35e4-e75c-4820-b9ee-6fc16978f53e",
   "metadata": {},
   "outputs": [
    {
     "name": "stdout",
     "output_type": "stream",
     "text": [
      "l\n",
      "l\n"
     ]
    }
   ],
   "source": [
    "str = \"Hello world!\"\n",
    "print(str[-9])\n",
    "print(str[3])"
   ]
  },
  {
   "cell_type": "code",
   "execution_count": 37,
   "id": "d3d8b3c0-2304-45cf-8533-228e3167dc17",
   "metadata": {},
   "outputs": [
    {
     "name": "stdout",
     "output_type": "stream",
     "text": [
      "lo, world\n"
     ]
    }
   ],
   "source": [
    "#slicing\n",
    "str = \"Hello, world\"\n",
    "substring = str[3:12]\n",
    "print(substring)"
   ]
  },
  {
   "cell_type": "code",
   "execution_count": 39,
   "id": "53875b6e-3563-43cd-824d-37214cd4b96a",
   "metadata": {},
   "outputs": [
    {
     "name": "stdout",
     "output_type": "stream",
     "text": [
      "llo, world\n"
     ]
    }
   ],
   "source": [
    "str_1 = \"My Name is himabindu\"\n",
    "substr = str[2:]\n",
    "print(substr)"
   ]
  },
  {
   "cell_type": "code",
   "execution_count": 41,
   "id": "3263fd50-cecf-4f94-b415-085ad985070f",
   "metadata": {},
   "outputs": [
    {
     "name": "stdout",
     "output_type": "stream",
     "text": [
      "My name is sai reddy and i am 29 years old.\n"
     ]
    }
   ],
   "source": [
    "#python - Format - Strings\n",
    "#1 Old style Formatting(%operator):\n",
    "name = \"sai reddy\"\n",
    "age = 29\n",
    "formatted_string = \"My name is %s and i am %d years old.\" %(name,age)\n",
    "print(formatted_string)"
   ]
  },
  {
   "cell_type": "code",
   "execution_count": 45,
   "id": "2c40b29f-89b0-4395-9550-83ee0e53b293",
   "metadata": {},
   "outputs": [
    {
     "name": "stdout",
     "output_type": "stream",
     "text": [
      "This is python course and the fee is 25000.\n"
     ]
    }
   ],
   "source": [
    "course = \"python\"\n",
    "fee = 25000\n",
    "format_str = \"This is %s course and the fee is %d.\" %(course, fee)\n",
    "print(format_str)"
   ]
  },
  {
   "cell_type": "code",
   "execution_count": 47,
   "id": "121e3510-86c2-41d9-b038-88e3935f269d",
   "metadata": {},
   "outputs": [
    {
     "name": "stdout",
     "output_type": "stream",
     "text": [
      "My name is sai and i a 35 years old.\n"
     ]
    }
   ],
   "source": [
    "#2 Format Method : \n",
    "name = \"sai\"\n",
    "age = 35\n",
    "formatted_string = \"My name is {} and i a {} years old.\". format(name, age)\n",
    "print(formatted_string)"
   ]
  },
  {
   "cell_type": "code",
   "execution_count": 51,
   "id": "bf4506fb-6dba-4006-b43a-ac5b4cb57de4",
   "metadata": {},
   "outputs": [
    {
     "name": "stdout",
     "output_type": "stream",
     "text": [
      "This is carrot and cost is 50.\n"
     ]
    }
   ],
   "source": [
    "vegetable = \"carrot\"\n",
    "cost = 50\n",
    "format_str = \"This is {} and cost is {}.\".format(vegetable, cost)\n",
    "print(format_str)"
   ]
  },
  {
   "cell_type": "code",
   "execution_count": 53,
   "id": "1e29d590-6c7a-4c6e-8059-fae6907a9214",
   "metadata": {},
   "outputs": [
    {
     "name": "stdout",
     "output_type": "stream",
     "text": [
      "my name is sai and I am 25 years old.\n"
     ]
    }
   ],
   "source": [
    "#3 String Interpolation(f-strings-python 3.6 and later)\n",
    "name = \"sai\"\n",
    "age = 25\n",
    "formatted_string = f\"my name is {name} and I am {age} years old.\"\n",
    "print(formatted_string)"
   ]
  },
  {
   "cell_type": "code",
   "execution_count": 55,
   "id": "23d015df-e1a3-41f2-a8a5-9c8428a11f82",
   "metadata": {},
   "outputs": [
    {
     "name": "stdout",
     "output_type": "stream",
     "text": [
      "my name is sai reddy and i am 37 years old. I am from Hyderabad.\n"
     ]
    }
   ],
   "source": [
    "name = \"sai reddy\"\n",
    "age = 37\n",
    "location = \"Hyderabad\"\n",
    "format_str = f\"my name is {name} and i am {age} years old. I am from {location}.\"\n",
    "print(format_str)"
   ]
  },
  {
   "cell_type": "code",
   "execution_count": 59,
   "id": "d7d8c7cb-f051-4c53-a74d-07e977f7de39",
   "metadata": {},
   "outputs": [
    {
     "name": "stdout",
     "output_type": "stream",
     "text": [
      "course is python and fee is 25000.\n"
     ]
    }
   ],
   "source": [
    "course = \"python\"\n",
    "fee = 25000\n",
    "format_str = f\"course is {course} and fee is {fee}.\"\n",
    "print(format_str)"
   ]
  },
  {
   "cell_type": "code",
   "execution_count": 61,
   "id": "33634793-8ae0-411a-ac1b-5d4d5838541b",
   "metadata": {},
   "outputs": [
    {
     "name": "stdout",
     "output_type": "stream",
     "text": [
      "9\n"
     ]
    }
   ],
   "source": [
    "#String Methods\n",
    "#1. len():\n",
    "\n",
    "my_string = \"python is\"\n",
    "length = len(my_string)\n",
    "print(length)"
   ]
  },
  {
   "cell_type": "code",
   "execution_count": 65,
   "id": "1120f4f3-80f5-4656-bebf-4e8227d436f6",
   "metadata": {},
   "outputs": [
    {
     "name": "stdout",
     "output_type": "stream",
     "text": [
      "42\n"
     ]
    }
   ],
   "source": [
    "var_1 = \"My name is himabindu and I am 25 years old\"\n",
    "length = len(var_1)\n",
    "print(length)"
   ]
  },
  {
   "cell_type": "code",
   "execution_count": 67,
   "id": "4872bb1f-e70f-4341-a99f-bbf4111647a0",
   "metadata": {},
   "outputs": [
    {
     "name": "stdout",
     "output_type": "stream",
     "text": [
      "HELLO\n"
     ]
    }
   ],
   "source": [
    "#2. lower()/upper():\n",
    "\n",
    "my_string = \"hello\"\n",
    "print(my_string.upper())"
   ]
  },
  {
   "cell_type": "code",
   "execution_count": 69,
   "id": "53057952-3064-44a3-bc1c-90cda9234945",
   "metadata": {},
   "outputs": [
    {
     "name": "stdout",
     "output_type": "stream",
     "text": [
      "hello world\n"
     ]
    }
   ],
   "source": [
    "my_string = \"HELLO WORLD\"\n",
    "print(my_string.lower())"
   ]
  },
  {
   "cell_type": "code",
   "execution_count": 71,
   "id": "8774dd77-6a01-47ec-aa0c-dcedb695d464",
   "metadata": {},
   "outputs": [
    {
     "name": "stdout",
     "output_type": "stream",
     "text": [
      "python is a good language\n"
     ]
    }
   ],
   "source": [
    "f = \"PYTHON IS A GOOD LANGUAGE\"\n",
    "print(f.lower())"
   ]
  },
  {
   "cell_type": "code",
   "execution_count": 73,
   "id": "7f0923e3-d70c-4ffd-b438-600cc1bbd40a",
   "metadata": {},
   "outputs": [
    {
     "name": "stdout",
     "output_type": "stream",
     "text": [
      "PYTHON IS FUN AND EASY LANGUAGE.\n"
     ]
    }
   ],
   "source": [
    "var1 = \"python is fun and easy language.\"\n",
    "print(var1.upper())"
   ]
  },
  {
   "cell_type": "code",
   "execution_count": 75,
   "id": "f53fa38c-e6ef-4f49-bd17-2f11fb81f9ff",
   "metadata": {},
   "outputs": [
    {
     "name": "stdout",
     "output_type": "stream",
     "text": [
      "i am a b.tech student\n"
     ]
    }
   ],
   "source": [
    "var2 = \"I AM A B.TECH STUDENT\"\n",
    "print(var2.lower())"
   ]
  },
  {
   "cell_type": "code",
   "execution_count": 79,
   "id": "3ae00cd4-881d-47eb-8c99-cdae6acc375e",
   "metadata": {},
   "outputs": [
    {
     "name": "stdout",
     "output_type": "stream",
     "text": [
      "python\n"
     ]
    }
   ],
   "source": [
    "#3. strip():\n",
    "my_str = \"  python  \"\n",
    "stripped_string = my_str.strip()\n",
    "print(stripped_string)"
   ]
  },
  {
   "cell_type": "code",
   "execution_count": 81,
   "id": "bf39c855-509b-48b9-a21d-2fab92827b91",
   "metadata": {},
   "outputs": [
    {
     "name": "stdout",
     "output_type": "stream",
     "text": [
      "hello world\n"
     ]
    }
   ],
   "source": [
    "str1 = \"    hello world    \"\n",
    "strip_str = str1.strip()\n",
    "print(strip_str)"
   ]
  },
  {
   "cell_type": "code",
   "execution_count": 87,
   "id": "b6436620-faaf-4143-84fc-e41100e935ef",
   "metadata": {},
   "outputs": [
    {
     "name": "stdout",
     "output_type": "stream",
     "text": [
      "Hello, python!\n"
     ]
    }
   ],
   "source": [
    "#4. replace():\n",
    "my_str = \"Hello, world!\"\n",
    "new_str = my_str.replace(\"world!\", \"python!\")\n",
    "print(new_str)"
   ]
  },
  {
   "cell_type": "code",
   "execution_count": 91,
   "id": "d9f5fa8b-8998-4037-a777-f4ed06f030d7",
   "metadata": {},
   "outputs": [
    {
     "name": "stdout",
     "output_type": "stream",
     "text": [
      "I am 20 years old!\n"
     ]
    }
   ],
   "source": [
    "str1 = \"I am 20 year old!\"\n",
    "str2 = str1.replace(\"year\", \"years\")\n",
    "print(str2)"
   ]
  },
  {
   "cell_type": "code",
   "execution_count": 93,
   "id": "593c06ce-0f45-4c94-85c8-47910ee4e588",
   "metadata": {},
   "outputs": [
    {
     "name": "stdout",
     "output_type": "stream",
     "text": [
      "['python', 'is', 'fun', 'and', 'python', 'is', 'good', 'to', 'learn']\n"
     ]
    }
   ],
   "source": [
    "#5. split():\n",
    "\n",
    "my_str = \"python is fun and python is good to learn\"\n",
    "str = my_str.split()\n",
    "print(str)"
   ]
  },
  {
   "cell_type": "code",
   "execution_count": 95,
   "id": "9f91e8b1-aa97-4a10-b014-5141cc32b6b8",
   "metadata": {},
   "outputs": [
    {
     "name": "stdout",
     "output_type": "stream",
     "text": [
      "['vegetables', 'are', 'good', 'for', 'health']\n"
     ]
    }
   ],
   "source": [
    "str1 = \"vegetables are good for health\"\n",
    "str2 = str1.split()\n",
    "print(str2)"
   ]
  },
  {
   "cell_type": "code",
   "execution_count": 97,
   "id": "08df7315-5cb7-4ca2-ab3c-0194b76ffe1a",
   "metadata": {},
   "outputs": [
    {
     "name": "stdout",
     "output_type": "stream",
     "text": [
      "python is fun and python is good to learn\n"
     ]
    }
   ],
   "source": [
    "#6. join():\n",
    "\n",
    "words =['python', 'is', 'fun', 'and', 'python', 'is', 'good', 'to', 'learn']\n",
    "joined_str = ' '.join(words)\n",
    "print(joined_str)"
   ]
  },
  {
   "cell_type": "code",
   "execution_count": 99,
   "id": "f94b0139-5c58-4d58-ba7c-e8acd7ac579e",
   "metadata": {},
   "outputs": [
    {
     "name": "stdout",
     "output_type": "stream",
     "text": [
      "my name is himabindu\n"
     ]
    }
   ],
   "source": [
    "str1 = ['my', 'name', 'is', 'himabindu']\n",
    "str2 = ' '.join(str1)\n",
    "print(str2)"
   ]
  },
  {
   "cell_type": "code",
   "execution_count": 101,
   "id": "a3627cbc-a3eb-4b69-8697-2c3cfe33fbe7",
   "metadata": {},
   "outputs": [
    {
     "name": "stdout",
     "output_type": "stream",
     "text": [
      "Eat one apple a day\n"
     ]
    }
   ],
   "source": [
    "#7. capitalize():  Converts the first character of the string to uppercase.\n",
    "str1 = \"eat one apple a day\"\n",
    "str2 = str1.capitalize()\n",
    "print(str2)"
   ]
  },
  {
   "cell_type": "code",
   "execution_count": 103,
   "id": "032d7585-f720-4ca0-8de1-92f8bed8ff64",
   "metadata": {},
   "outputs": [
    {
     "name": "stdout",
     "output_type": "stream",
     "text": [
      "hElLo, wOrLd!\n"
     ]
    }
   ],
   "source": [
    "#8. swapcase(): Swaps cases, converting uppercase to lowercase and vice versa.\n",
    "str = \"HeLlO, WoRlD!\"\n",
    "str2 = str.swapcase()\n",
    "print(str2)"
   ]
  },
  {
   "cell_type": "code",
   "execution_count": 105,
   "id": "5fc53885-b53d-4c86-b9a5-dc8d7fe8f75b",
   "metadata": {},
   "outputs": [
    {
     "name": "stdout",
     "output_type": "stream",
     "text": [
      "Hello, World!\n"
     ]
    }
   ],
   "source": [
    "#9. title(): Capitalizes the first letter of each word\n",
    "str1 = \"hello, world!\"\n",
    "str2 = str1.title() \n",
    "print(str2)"
   ]
  },
  {
   "cell_type": "code",
   "execution_count": 109,
   "id": "37c325d3-a1d7-41e0-8169-915223f80fd6",
   "metadata": {},
   "outputs": [
    {
     "name": "stdout",
     "output_type": "stream",
     "text": [
      "7\n"
     ]
    }
   ],
   "source": [
    "#10. find(): Returns the index of the first occurrence of a substring.\n",
    "\n",
    "str_1 = \"hello, himabindu!\"\n",
    "str2 = str_1.find(\"himabindu\") \n",
    "print(str2)"
   ]
  },
  {
   "cell_type": "code",
   "execution_count": 111,
   "id": "f66bf773-ab99-4350-9547-f6c7077f8517",
   "metadata": {},
   "outputs": [
    {
     "name": "stdout",
     "output_type": "stream",
     "text": [
      "27\n"
     ]
    }
   ],
   "source": [
    "#11. rfind(): Returns the index of the last occurrence of a substring.\n",
    "str1 = \"hello, world!. Python is a popular language.\"\n",
    "str2 = str1.rfind(\"popular\")\n",
    "print(str2)"
   ]
  },
  {
   "cell_type": "code",
   "execution_count": 113,
   "id": "5c1f632a-a579-4e1a-819f-5ac39f1673f5",
   "metadata": {},
   "outputs": [
    {
     "name": "stdout",
     "output_type": "stream",
     "text": [
      "True\n"
     ]
    }
   ],
   "source": [
    "#12. startswith(): Checks if the string starts with a specified prefix.\n",
    "\n",
    "str1 = \"hello, world!\"\n",
    "starts_with_hello = str1.startswith(\"hello\") \n",
    "print(starts_with_hello)"
   ]
  },
  {
   "cell_type": "code",
   "execution_count": 115,
   "id": "2ac6d083-09e5-42c9-90c7-5f0b30887bd8",
   "metadata": {},
   "outputs": [
    {
     "name": "stdout",
     "output_type": "stream",
     "text": [
      "True\n"
     ]
    }
   ],
   "source": [
    "#13. endswith(): Checks if the string ends with a specified suffix.\n",
    "\n",
    "str1 = \"hello, world!\"\n",
    "ends_with_world = str1.endswith(\"world!\")\n",
    "print(ends_with_world)"
   ]
  },
  {
   "cell_type": "code",
   "execution_count": 119,
   "id": "7c6e800e-9c24-4ddd-b819-f521cfc5f123",
   "metadata": {},
   "outputs": [
    {
     "name": "stdout",
     "output_type": "stream",
     "text": [
      "True\n"
     ]
    }
   ],
   "source": [
    "#14. isalpha(): Returns True if all characters are alphabetic.\n",
    "\n",
    "str  = \"hello\"\n",
    "str1 = str.isalpha()\n",
    "print(str1)\n"
   ]
  },
  {
   "cell_type": "code",
   "execution_count": 121,
   "id": "d515dde1-1285-4d0c-98b6-6696236a90d0",
   "metadata": {},
   "outputs": [
    {
     "name": "stdout",
     "output_type": "stream",
     "text": [
      "True\n"
     ]
    }
   ],
   "source": [
    "#15. isdigit(): Returns True if all characters are digits.\n",
    "\n",
    "str = \"123456789\"\n",
    "str1 = str.isdigit()\n",
    "print(str1)"
   ]
  },
  {
   "cell_type": "code",
   "execution_count": 123,
   "id": "370ead67-0eec-4031-9d7c-b2198c51e36d",
   "metadata": {},
   "outputs": [
    {
     "name": "stdout",
     "output_type": "stream",
     "text": [
      "True\n"
     ]
    }
   ],
   "source": [
    "#16. isalnum(): Returns True if all characters are alphanumeric.\n",
    "str = \"Hello123\"\n",
    "str1 = str.isalnum()\n",
    "print(str1)"
   ]
  },
  {
   "cell_type": "code",
   "execution_count": 127,
   "id": "d68b24f2-debb-4a45-8a99-ef37d8d2b469",
   "metadata": {},
   "outputs": [
    {
     "name": "stdout",
     "output_type": "stream",
     "text": [
      "True\n"
     ]
    }
   ],
   "source": [
    "#17. isspace(): Returns True if all characters are whitespace.\n",
    "\n",
    "str1 = \"      \"\n",
    "str2 = str1.isspace()\n",
    "print(str2)"
   ]
  },
  {
   "cell_type": "code",
   "execution_count": 131,
   "id": "34b8611b-d61c-4caf-81d9-37a1893c4182",
   "metadata": {},
   "outputs": [
    {
     "name": "stdout",
     "output_type": "stream",
     "text": [
      "Hello, Python!  \n"
     ]
    }
   ],
   "source": [
    "#18 . lstrip(): Removes leading whitespace.\n",
    "\n",
    "str = \"    Hello, Python!  \"\n",
    "str1 = str.lstrip()\n",
    "print(str1)"
   ]
  },
  {
   "cell_type": "code",
   "execution_count": 133,
   "id": "42255d36-5ac2-475e-ac62-37230582614d",
   "metadata": {},
   "outputs": [
    {
     "name": "stdout",
     "output_type": "stream",
     "text": [
      "    Hello, Python!\n"
     ]
    }
   ],
   "source": [
    "#19. rstrip(): Removes trailing whitespace.\n",
    "str = \"    Hello, Python!  \"\n",
    "str1 = str.rstrip()\n",
    "print(str1)"
   ]
  },
  {
   "cell_type": "code",
   "execution_count": 183,
   "id": "62653aa8-3216-4e5a-b82d-94d3641d3d3f",
   "metadata": {},
   "outputs": [
    {
     "name": "stdout",
     "output_type": "stream",
     "text": [
      "6\n"
     ]
    }
   ],
   "source": [
    "#20. index(): Similar to find(), but raises a ValueError if the substring is not found.\n",
    "var1 = \"hello world\"\n",
    "index = var1.index(\"world\")\n",
    "print(index)"
   ]
  },
  {
   "cell_type": "code",
   "execution_count": 181,
   "id": "b837d9b4-8780-4d97-bbbc-32735d3f4351",
   "metadata": {},
   "outputs": [
    {
     "name": "stdout",
     "output_type": "stream",
     "text": [
      "12\n"
     ]
    }
   ],
   "source": [
    "#21. rindex(): Searches the string for a specified value and returns the last position of where it was found\n",
    "#Similar to rfind(), but raises a ValueError if the substring is not found.\n",
    "\n",
    "var = \"hello world world\"\n",
    "index = var.rindex(\"world\")\n",
    "print(index)"
   ]
  },
  {
   "cell_type": "code",
   "execution_count": 135,
   "id": "9681db7e-72d0-47dc-8c24-d59307dcd7ae",
   "metadata": {},
   "outputs": [
    {
     "name": "stdout",
     "output_type": "stream",
     "text": [
      "('hello', '.', 'world')\n"
     ]
    }
   ],
   "source": [
    "#22. partition():\n",
    "\n",
    "#Splits the string at the first occurrence of a specified separator and returns a tuple containing the part before the separator,\n",
    "#the separator itself, and the part after the separator.\n",
    "\n",
    "s = \"hello.world\"\n",
    "print(s.partition(\".\")) "
   ]
  },
  {
   "cell_type": "code",
   "execution_count": 139,
   "id": "e5d4c039-be6b-414c-8b3d-5ea222f0db24",
   "metadata": {},
   "outputs": [
    {
     "name": "stdout",
     "output_type": "stream",
     "text": [
      "('hello python.world', '.', ' hello')\n"
     ]
    }
   ],
   "source": [
    "#23. rpartition():\n",
    "\n",
    "#Splits the string at the last occurrence of a specified separator and returns a tuple containing the part before the separator, the separator itself, \n",
    "#and the part after the separator.\n",
    "\n",
    "s = \"hello python.world. hello\"\n",
    "print(s.rpartition(\".\"))"
   ]
  },
  {
   "cell_type": "code",
   "execution_count": 141,
   "id": "64ddff1b-a358-40e8-97b8-b4dd6a89a46d",
   "metadata": {},
   "outputs": [
    {
     "name": "stdout",
     "output_type": "stream",
     "text": [
      "h2ll4\n"
     ]
    }
   ],
   "source": [
    "#24. maketrans() and translate()\n",
    "\n",
    "#maketrans() creates a translation table for translate() method to replace characters.\n",
    "\n",
    "intab = \"aeiou\"\n",
    "outtab = \"12345\"\n",
    "translator = str.maketrans(intab, outtab)\n",
    "s = \"hello\"\n",
    "print(s.translate(translator))"
   ]
  },
  {
   "cell_type": "code",
   "execution_count": 145,
   "id": "d272a3f7-337f-4670-bf53-c2091377fb53",
   "metadata": {},
   "outputs": [
    {
     "name": "stdout",
     "output_type": "stream",
     "text": [
      "00042\n",
      "-00042\n"
     ]
    }
   ],
   "source": [
    "#25.  zfill(): this method in Python is used to pad a numeric string with zeros on the left-hand side.\n",
    "#It's particularly useful for formatting numbers as strings with a specified width.\n",
    "\n",
    "s = \"42\"\n",
    "print(s.zfill(5)) \n",
    "s = \"-42\"\n",
    "print(s.zfill(6)) "
   ]
  },
  {
   "cell_type": "code",
   "execution_count": 157,
   "id": "1a859506-6b41-4d9d-ab2a-de0d15779200",
   "metadata": {},
   "outputs": [
    {
     "name": "stdout",
     "output_type": "stream",
     "text": [
      "['hello', 'world']\n"
     ]
    }
   ],
   "source": [
    "#26. splitlines():\tSplits the string at line breaks and returns a list\n",
    "s = \"hello\\nworld\"\n",
    "z = s.splitlines()\n",
    "print(z)"
   ]
  },
  {
   "cell_type": "code",
   "execution_count": 161,
   "id": "40dbb1c1-796d-4d90-b4cb-7cbafa952ac8",
   "metadata": {},
   "outputs": [
    {
     "name": "stdout",
     "output_type": "stream",
     "text": [
      "['apple', 'banana', 'cherry']\n",
      "['one two three', 'four', 'five']\n",
      "['one two//three', 'four', 'five']\n",
      "['one', 'two', 'three']\n",
      "[]\n"
     ]
    }
   ],
   "source": [
    "#27. rsplit():\tSplits the string at the specified separator, and returns a list\n",
    "\n",
    "# Splitting with a specified separator\n",
    "s = \"apple,banana,cherry\"\n",
    "items = s.rsplit(\",\")\n",
    "print(items)\n",
    "\n",
    "# Limiting the number of splits with maxsplit\n",
    "p = \"one two three four five\"\n",
    "parts = p.rsplit(maxsplit=2)\n",
    "print(parts)\n",
    "\n",
    "# Splitting with a custom separator and limiting splits\n",
    "a = \"one two//three//four//five\"\n",
    "parts = a.rsplit(\"//\", 2)\n",
    "print(parts)\n",
    "\n",
    "# Handling whitespace at the end of the string\n",
    "b = \"one two three   \"\n",
    "words = b.rsplit()\n",
    "print(words)\n",
    "\n",
    "# Splitting an empty string returns an empty list\n",
    "c = \"\"\n",
    "print(c.rsplit())"
   ]
  },
  {
   "cell_type": "code",
   "execution_count": 169,
   "id": "c3f1ffc8-6bae-455e-a435-516f64cad8d6",
   "metadata": {},
   "outputs": [
    {
     "name": "stdout",
     "output_type": "stream",
     "text": [
      "     hello\n",
      "---hello\n",
      "00042\n"
     ]
    }
   ],
   "source": [
    "#28. rjust():\tReturns a right justified version of the string\n",
    "s = \"hello\"\n",
    "justified = s.rjust(10)\n",
    "print(justified)\n",
    "\n",
    "var = \"hello\"\n",
    "justified = var.rjust(8, '-')\n",
    "print(justified)\n",
    "\n",
    "num = \"42\"\n",
    "justified_num = num.rjust(5, '0')\n",
    "print(justified_num)"
   ]
  },
  {
   "cell_type": "code",
   "execution_count": 187,
   "id": "eb085c45-a967-49ce-95a3-df4145cb35d6",
   "metadata": {},
   "outputs": [
    {
     "name": "stdout",
     "output_type": "stream",
     "text": [
      "hello     \n",
      "hello-----\n"
     ]
    }
   ],
   "source": [
    "#29. ljust() : Returns a left justified version of the string\n",
    "\n",
    "s = \"hello\"\n",
    "s1 = s.ljust(10)\n",
    "print(s1)\n",
    "\n",
    "s2 = \"hello\"\n",
    "s3 = s2.ljust(10, '-')\n",
    "print(s3)"
   ]
  },
  {
   "cell_type": "code",
   "execution_count": 189,
   "id": "1097c08e-1fd7-46e5-9ebc-35b270f56db7",
   "metadata": {},
   "outputs": [
    {
     "name": "stdout",
     "output_type": "stream",
     "text": [
      "True\n",
      "False\n"
     ]
    }
   ],
   "source": [
    "#30. isprintable() : Returns True if all characters in the string are printable\n",
    "\n",
    "s1 = \"Hello, World!\"\n",
    "print(s1.isprintable()) \n",
    "\n",
    "s2 = \"Hello\\nWorld!\"\n",
    "print(s2.isprintable())"
   ]
  },
  {
   "cell_type": "code",
   "execution_count": 191,
   "id": "b34a63b9-acf0-4dd5-b07b-48c3fbe9143f",
   "metadata": {},
   "outputs": [
    {
     "name": "stdout",
     "output_type": "stream",
     "text": [
      "True\n",
      "False\n",
      "False\n",
      "False\n"
     ]
    }
   ],
   "source": [
    "#31. isnumeric() : Returns True if all characters in the string are numeric\n",
    "\n",
    "s1 = \"12345\"\n",
    "print(s1.isnumeric()) \n",
    "\n",
    "s2 = \"123.456\"\n",
    "print(s2.isnumeric())  \n",
    "\n",
    "s3 = \"1/2\"\n",
    "print(s3.isnumeric()) \n",
    "\n",
    "s4 = \"-123\"\n",
    "print(s4.isnumeric())"
   ]
  },
  {
   "cell_type": "code",
   "execution_count": 193,
   "id": "2c00524d-8349-4aa7-b7c3-94829ed10b40",
   "metadata": {},
   "outputs": [
    {
     "name": "stdout",
     "output_type": "stream",
     "text": [
      "True\n",
      "False\n"
     ]
    }
   ],
   "source": [
    "#32. isidentifier()\t: Returns True if the string is an identifier\n",
    "s1 = \"hello123\"\n",
    "print(s1.isidentifier())\n",
    "\n",
    "s2 = \"123hello\"\n",
    "print(s2.isidentifier())"
   ]
  },
  {
   "cell_type": "code",
   "execution_count": 197,
   "id": "78d642a8-f478-44d4-bc35-2a9c4678bec5",
   "metadata": {},
   "outputs": [
    {
     "name": "stdout",
     "output_type": "stream",
     "text": [
      "False\n"
     ]
    }
   ],
   "source": [
    "#33. isdecimal(): Returns True if all characters in the string are decimals\n",
    "\n",
    "var = \"12.45\"\n",
    "print(var.isdecimal())"
   ]
  },
  {
   "cell_type": "code",
   "execution_count": 199,
   "id": "c94db07f-d15b-42ee-9b74-664eddb315e6",
   "metadata": {},
   "outputs": [
    {
     "name": "stdout",
     "output_type": "stream",
     "text": [
      "True\n",
      "True\n"
     ]
    }
   ],
   "source": [
    "#34. isascii() : Returns True if all characters in the string are ascii characters\n",
    "\n",
    "s = \"\"\n",
    "print(s.isascii())\n",
    "var = \"\\n\\t\\r\"\n",
    "print(var.isascii())\n"
   ]
  },
  {
   "cell_type": "code",
   "execution_count": 201,
   "id": "c50dd2a4-6067-49c1-bd3c-cb964291466d",
   "metadata": {},
   "outputs": [
    {
     "name": "stdout",
     "output_type": "stream",
     "text": [
      "hello   world   !\n"
     ]
    }
   ],
   "source": [
    "#35. expandtabs() : Sets the tab size of the string.\n",
    "\n",
    "str = \"hello\\tworld\\t!\"\n",
    "str1 = str.expandtabs(4)\n",
    "print(str1)\n"
   ]
  },
  {
   "cell_type": "code",
   "execution_count": 205,
   "id": "8b2a76b5-8c9a-4281-927c-d042022b1caf",
   "metadata": {},
   "outputs": [
    {
     "name": "stdout",
     "output_type": "stream",
     "text": [
      "b'Hello, world!'\n",
      "b'Hello, world!'\n"
     ]
    }
   ],
   "source": [
    "#36. encode() : Returns an encoded version of the string\n",
    "\n",
    "s = \"Hello, world!\"\n",
    "\n",
    "# Encode using UTF-8 encoding (default)\n",
    "encoded_utf8 = s.encode()\n",
    "print(encoded_utf8)\n",
    "\n",
    "# Encode using ASCII encoding\n",
    "encoded_ascii = s.encode('ascii')\n",
    "print(encoded_ascii)"
   ]
  },
  {
   "cell_type": "code",
   "execution_count": 207,
   "id": "25ed43d2-e4d2-4160-878f-c559954b96e1",
   "metadata": {},
   "outputs": [
    {
     "name": "stdout",
     "output_type": "stream",
     "text": [
      "  hello   \n"
     ]
    }
   ],
   "source": [
    "#37. center() : Returns a centered string\n",
    "\n",
    "str = \"hello\"\n",
    "str2 = str.center(10)\n",
    "print(str2)"
   ]
  },
  {
   "cell_type": "code",
   "execution_count": 213,
   "id": "6e41b12b-b660-4fa2-810f-145dd03aaab1",
   "metadata": {},
   "outputs": [
    {
     "name": "stdout",
     "output_type": "stream",
     "text": [
      "hello, everybody!\n"
     ]
    }
   ],
   "source": [
    "#38. casefold()\t: Converts string into lower case\n",
    "\n",
    "s1 = \"Hello, Everybody!\"\n",
    "s2 = s1.casefold()\n",
    "print(s2)"
   ]
  },
  {
   "cell_type": "code",
   "execution_count": null,
   "id": "11f90a61-acb6-4a12-8c25-33c133807b21",
   "metadata": {},
   "outputs": [],
   "source": []
  }
 ],
 "metadata": {
  "kernelspec": {
   "display_name": "Python 3 (ipykernel)",
   "language": "python",
   "name": "python3"
  },
  "language_info": {
   "codemirror_mode": {
    "name": "ipython",
    "version": 3
   },
   "file_extension": ".py",
   "mimetype": "text/x-python",
   "name": "python",
   "nbconvert_exporter": "python",
   "pygments_lexer": "ipython3",
   "version": "3.12.4"
  }
 },
 "nbformat": 4,
 "nbformat_minor": 5
}
