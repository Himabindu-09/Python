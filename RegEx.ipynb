{
 "cells": [
  {
   "cell_type": "code",
   "execution_count": null,
   "id": "4ecdd850-5924-4dfe-a263-ed09d562e7c9",
   "metadata": {},
   "outputs": [],
   "source": [
    "Regular Expressions regex or regexp are powerful tools for patterns matching and text manipulation inpython.\n",
    "They provide a concise and flexible way to search, match and manipulate strings based on specific patterns."
   ]
  },
  {
   "cell_type": "code",
   "execution_count": null,
   "id": "7e3bd7b7-36a5-4bf9-aeb0-d0de36ffa592",
   "metadata": {},
   "outputs": [],
   "source": [
    "RegEx Functions\n",
    "The re module offers a set of functions that allows us to search a string for a match:\n",
    "\n",
    "Function\tDescription\n",
    "findall  \tReturns a list containing all matches\n",
    "search\t    Returns a Match object if there is a match anywhere in the string\n",
    "split\t    Returns a list where the string has been split at each match\n",
    "sub\t        Replaces one or many matches with a string"
   ]
  },
  {
   "cell_type": "code",
   "execution_count": 11,
   "id": "b1205727-6dc6-480a-8426-fd21060a74a6",
   "metadata": {},
   "outputs": [
    {
     "name": "stdin",
     "output_type": "stream",
     "text": [
      "enter your char: i\n"
     ]
    },
    {
     "name": "stdout",
     "output_type": "stream",
     "text": [
      "mathched ['i', 'i', 'i']\n"
     ]
    }
   ],
   "source": [
    "#1.The findall() Function\n",
    "#The findall() function returns a list containing all matches.\n",
    "\n",
    "import re\n",
    "user = input(\"enter your char:\")\n",
    "txt = \"The rain in Spain\"\n",
    "x = re.findall(user, txt)\n",
    "if x:\n",
    "    print(\"mathched\", x)\n",
    "else:\n",
    "    print(\"not matched\", x)"
   ]
  },
  {
   "cell_type": "code",
   "execution_count": 9,
   "id": "ec080d5b-0e04-497f-aa82-5a56a82533d9",
   "metadata": {},
   "outputs": [
    {
     "name": "stdout",
     "output_type": "stream",
     "text": [
      "[]\n"
     ]
    }
   ],
   "source": [
    "#not match pattern:\n",
    "\n",
    "import re\n",
    "txt = \"The rain in Spain\"\n",
    "x = re.findall(\"portugal\", txt)\n",
    "print(x)"
   ]
  },
  {
   "cell_type": "code",
   "execution_count": null,
   "id": "d2bcf21e-0c17-4105-b14b-813ed7984bde",
   "metadata": {},
   "outputs": [],
   "source": [
    "#2.The search() Function:\n",
    "The search() function searches the string for a match, and returns a Match object if there is a match.\n",
    "\n",
    "If there is more than one match, only the first occurrence of the match will be returned:\n"
   ]
  },
  {
   "cell_type": "code",
   "execution_count": 13,
   "id": "2e3b9ac6-6f44-485e-b139-520161aaa892",
   "metadata": {},
   "outputs": [
    {
     "name": "stdout",
     "output_type": "stream",
     "text": [
      "The first white-space character is located in position: 7\n"
     ]
    }
   ],
   "source": [
    "import re\n",
    "txt = \"The rain in India and having fun with rain\"\n",
    "x = re.search(\"n\", txt)\n",
    "print(\"The first white-space character is located in position:\", x.start())"
   ]
  },
  {
   "cell_type": "code",
   "execution_count": null,
   "id": "a21c6584-de5b-4ac6-9108-894f72f6dec6",
   "metadata": {},
   "outputs": [],
   "source": [
    "#3. The split() Function\n",
    "The split() function returns a list where the string has been split at each match:"
   ]
  },
  {
   "cell_type": "code",
   "execution_count": 45,
   "id": "688f46f8-6cbf-428a-955e-f94f74c1c36b",
   "metadata": {},
   "outputs": [
    {
     "name": "stdout",
     "output_type": "stream",
     "text": [
      "['The', 'rain', 'in', 'India', 'and', 'having', 'fun', 'with', 'rain']\n"
     ]
    }
   ],
   "source": [
    "#Split at each white-space character:\n",
    "\n",
    "import re\n",
    "txt = \"The rain in India and having fun with rain\"\n",
    "x = re.split(\" \", txt)\n",
    "print(x)"
   ]
  },
  {
   "cell_type": "code",
   "execution_count": 43,
   "id": "226f762c-b417-4f95-9100-074fe3938cc4",
   "metadata": {},
   "outputs": [
    {
     "name": "stdout",
     "output_type": "stream",
     "text": [
      "['The', 'rain', 'in India and having fun with rain']\n"
     ]
    }
   ],
   "source": [
    "#Split the string only at the first occurrence:\n",
    "\n",
    "import re\n",
    "txt = \"The rain in India and having fun with rain\"\n",
    "x = re.split(\" \", txt, 2)\n",
    "print(x)"
   ]
  },
  {
   "cell_type": "code",
   "execution_count": null,
   "id": "67ffd7e5-c4be-4ad9-aa6f-b8bd4fe7be91",
   "metadata": {},
   "outputs": [],
   "source": [
    "#4. The sub() Function\n",
    "The sub() function replaces the matches with the text of your choice:"
   ]
  },
  {
   "cell_type": "code",
   "execution_count": 41,
   "id": "7426bda9-c198-46a2-bd99-1efb9471faa5",
   "metadata": {},
   "outputs": [
    {
     "name": "stdout",
     "output_type": "stream",
     "text": [
      "The9rain9in9Spain\n"
     ]
    }
   ],
   "source": [
    "#Replace every white-space character with the number 9:\n",
    "\n",
    "import re\n",
    "txt = \"The rain in Spain\"\n",
    "x = re.sub(\" \", \"9\", txt)\n",
    "print(x)"
   ]
  },
  {
   "cell_type": "code",
   "execution_count": 39,
   "id": "c7b34e2e-1a7a-45a1-8cbc-0d7eb701cfbe",
   "metadata": {},
   "outputs": [
    {
     "name": "stdout",
     "output_type": "stream",
     "text": [
      "The Hellorain Helloin HelloSpain\n"
     ]
    }
   ],
   "source": [
    "import re\n",
    "txt = \"The rain in Spain\"\n",
    "x = re.sub(\" \", \" Hello\", txt)\n",
    "print(x)"
   ]
  },
  {
   "cell_type": "code",
   "execution_count": 37,
   "id": "7b2471c7-6309-4251-ba63-5385aa76119c",
   "metadata": {},
   "outputs": [
    {
     "name": "stdout",
     "output_type": "stream",
     "text": [
      "The9rain9in India and having fun with rain\n"
     ]
    }
   ],
   "source": [
    "#Replace the first 2 occurrences:\n",
    "\n",
    "import re\n",
    "\n",
    "txt = \"The rain in India and having fun with rain\"\n",
    "x = re.sub(\" \", \"9\", txt, 2)\n",
    "print(x)"
   ]
  },
  {
   "cell_type": "code",
   "execution_count": 47,
   "id": "12807e72-dbbe-4c02-9db2-ecd86d9f0a67",
   "metadata": {},
   "outputs": [
    {
     "name": "stdout",
     "output_type": "stream",
     "text": [
      "Match Found: h\n"
     ]
    }
   ],
   "source": [
    "#Literal Characters: Regular Characters match themselves.\n",
    "\n",
    "import re\n",
    "pattern = re.compile(r'h')\n",
    "match = pattern.search('Say hello to regex!')\n",
    "if match:\n",
    "    print('Match Found:', match.group())\n",
    "else:\n",
    "    print('Not Matched')"
   ]
  },
  {
   "cell_type": "code",
   "execution_count": 51,
   "id": "f1390b54-da86-40e9-92a8-d4bd24797786",
   "metadata": {},
   "outputs": [
    {
     "name": "stdout",
     "output_type": "stream",
     "text": [
      "Match Found: book\n"
     ]
    }
   ],
   "source": [
    "#Dot(.) wildcard: The dot matches any single characters(except for a new line character)\n",
    "\n",
    "import re\n",
    "pattern = re.compile(r'b..k')\n",
    "match = pattern.search('cat, cut, cot, good, book, birk, board')\n",
    "if match:\n",
    "    print('Match Found:', match.group())\n",
    "else:\n",
    "    print('Not Matched')"
   ]
  },
  {
   "cell_type": "code",
   "execution_count": null,
   "id": "fd26ef85-457f-4ce4-9774-4cd44c47b8f3",
   "metadata": {},
   "outputs": [],
   "source": [
    "#character classes: Square brackets [] define a character class, and the regex will match any single character within the brackets.\n",
    "\n",
    "import re\n",
    "pattern = re.compile(r'[xoo]')\n",
    "match = pattern.search(''Hello, ')\n",
    "if match:\n",
    "    print('Match Found:', match.group())\n",
    "else:\n",
    "    print('Not Matched')"
   ]
  }
 ],
 "metadata": {
  "kernelspec": {
   "display_name": "Python 3 (ipykernel)",
   "language": "python",
   "name": "python3"
  },
  "language_info": {
   "codemirror_mode": {
    "name": "ipython",
    "version": 3
   },
   "file_extension": ".py",
   "mimetype": "text/x-python",
   "name": "python",
   "nbconvert_exporter": "python",
   "pygments_lexer": "ipython3",
   "version": "3.12.4"
  }
 },
 "nbformat": 4,
 "nbformat_minor": 5
}
