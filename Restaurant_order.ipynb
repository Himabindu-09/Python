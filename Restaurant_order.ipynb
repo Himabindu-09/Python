{
 "cells": [
  {
   "cell_type": "code",
   "execution_count": 57,
   "id": "cd009419-7505-4bcd-b701-4ee33735f626",
   "metadata": {},
   "outputs": [
    {
     "name": "stdout",
     "output_type": "stream",
     "text": [
      "Welcome to the Swagath Restaurant!\n",
      "\n",
      "MENU\n",
      "Veg: Paneer Tikka Biryani\n",
      " Tomato Rice\n",
      " Cured Rice\n",
      " Mushroomm Biryani\n",
      " Vegetable Biryani\n",
      "Non-Veg: Boneless Chicken Curry\n",
      " Mutton Keema biryani\n",
      " Fish Fry\n",
      " Prwans Biryani\n",
      " Egg Curry\n",
      "\n"
     ]
    },
    {
     "name": "stdin",
     "output_type": "stream",
     "text": [
      "Please enter the dish you want to order:  Fish Fry\n"
     ]
    },
    {
     "name": "stdout",
     "output_type": "stream",
     "text": [
      "Your Order Fish Fry is preparing wait for few minutes\n"
     ]
    }
   ],
   "source": [
    "print(\"Welcome to the Swagath Restaurant!\")\n",
    "print(\"\\nMENU\")\n",
    "menu = {\n",
    "    'veg': ['Paneer Tikka Biryani', 'Tomato Rice', 'Curd Rice', 'Mushroomm Biryani', 'Vegetable Biryani'],\n",
    "    'non_veg': ['Boneless Chicken Curry', 'Mutton Keema biryani', 'Fish Fry', 'Prwans Biryani', 'Egg Curry']\n",
    "}\n",
    "print(\"Veg: Paneer Tikka Biryani\\n Tomato Rice\\n Cured Rice\\n Mushroomm Biryani\\n Vegetable Biryani\")\n",
    "print(\"Non-Veg: Boneless Chicken Curry\\n Mutton Keema biryani\\n Fish Fry\\n Prwans Biryani\\n Egg Curry\\n\")\n",
    "\n",
    "def ordered_item(order):\n",
    "\n",
    "    if order in menu['veg']:\n",
    "        print(\"Your Order\",order,\"is preparing wait for few minutes\")\n",
    "    elif order in menu['non_veg']:\n",
    "        print(\"Your Order\",order,\"is preparing wait for few minutes\")\n",
    "    \n",
    "    else :\n",
    "        print(\"Oops, we are not providing this dish at this moment\")\n",
    "\n",
    "order = input(\"Please enter the dish you want to order: \")\n",
    "ordered_item(order)\n"
   ]
  },
  {
   "cell_type": "code",
   "execution_count": null,
   "id": "63de6989-65ff-424c-ac89-3b0cd59a16e8",
   "metadata": {},
   "outputs": [],
   "source": []
  }
 ],
 "metadata": {
  "kernelspec": {
   "display_name": "Python 3 (ipykernel)",
   "language": "python",
   "name": "python3"
  },
  "language_info": {
   "codemirror_mode": {
    "name": "ipython",
    "version": 3
   },
   "file_extension": ".py",
   "mimetype": "text/x-python",
   "name": "python",
   "nbconvert_exporter": "python",
   "pygments_lexer": "ipython3",
   "version": "3.12.4"
  }
 },
 "nbformat": 4,
 "nbformat_minor": 5
}
