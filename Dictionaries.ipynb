{
 "cells": [
  {
   "cell_type": "code",
   "execution_count": 1,
   "id": "270923d5-fee2-426b-b3a6-93bbac30bd74",
   "metadata": {},
   "outputs": [
    {
     "name": "stdout",
     "output_type": "stream",
     "text": [
      "{'name': 'bindu', 'age': 25, 'grades': [85, 90, 92]}\n"
     ]
    }
   ],
   "source": [
    "#Python Dictionaries\n",
    "#creating Dictionaries\n",
    "#creating empty dictionary\n",
    "empty_dict = {}\n",
    "\n",
    "#syntax : dict1 = {key: value, key : value, key: value, .....}\n",
    "\n",
    "#dictionary with key-value pairs\n",
    "student = {'name': 'Reddy', 'age' : 25, 'grade' : 'A'}\n",
    "\n",
    "#dictionary with mixed data types\n",
    "mixed_dict ={ 'name' : 'bindu', 'age': 25, 'grades': [85,90,92]}\n",
    "print(mixed_dict)"
   ]
  },
  {
   "cell_type": "code",
   "execution_count": 3,
   "id": "24c883c4-de45-4b65-9db5-0d9b32b65ddc",
   "metadata": {},
   "outputs": [
    {
     "name": "stdout",
     "output_type": "stream",
     "text": [
      "{'employee_name': 'Himabindu', 'Employee_id': '0029T1', 'location': 'Hyderabad'}\n"
     ]
    }
   ],
   "source": [
    "dict1 = {'employee_name' : 'Himabindu', 'Employee_id' : '0029T1', 'location': 'Hyderabad'}\n",
    "print(dict1)"
   ]
  },
  {
   "cell_type": "code",
   "execution_count": 5,
   "id": "90813185-db8a-465f-a868-4657a5b7f18a",
   "metadata": {},
   "outputs": [
    {
     "name": "stdout",
     "output_type": "stream",
     "text": [
      "sai\n",
      "65\n",
      "[85, 95, 90]\n"
     ]
    }
   ],
   "source": [
    "#Accessing Values\n",
    "\n",
    "student = {'name' : 'sai', 'age' : 65, 'grade' : 'A'}\n",
    "mixed_dict = { 'name' : 'Bindu', 'age' : 25, 'grades' : [85, 95, 90]}\n",
    "print(student['name'])\n",
    "print(student['age'])\n",
    "print(mixed_dict['grades'])"
   ]
  },
  {
   "cell_type": "code",
   "execution_count": 7,
   "id": "5d5283d0-57c0-4558-82b7-225e4c64d562",
   "metadata": {},
   "outputs": [
    {
     "name": "stdout",
     "output_type": "stream",
     "text": [
      "0029T1\n"
     ]
    }
   ],
   "source": [
    "dict1 = {'employee_name' : 'Himabindu', 'Employee_id' : '0029T1', 'location': 'Hyderabad'}\n",
    "print(dict1['Employee_id'])"
   ]
  },
  {
   "cell_type": "code",
   "execution_count": 19,
   "id": "9d1a1870-8d41-4c82-839a-9ee80921a5c8",
   "metadata": {},
   "outputs": [
    {
     "data": {
      "text/plain": [
       "{'name': 'sai', 'age': 26, 'grade': 'A'}"
      ]
     },
     "execution_count": 19,
     "metadata": {},
     "output_type": "execute_result"
    }
   ],
   "source": [
    "#Modifying and Adding Entries: \n",
    "student = {'name' : 'sai', 'age' : 65, 'grade' : 'A'}\n",
    "#Modifying an entry : \n",
    "student['age'] = 26\n",
    "student"
   ]
  },
  {
   "cell_type": "code",
   "execution_count": 21,
   "id": "83b61359-6f4e-48c3-ac27-021d12ad69f0",
   "metadata": {},
   "outputs": [
    {
     "name": "stdout",
     "output_type": "stream",
     "text": [
      "{'name': 'sai', 'age': 26, 'grade': 'A', 'gender': 'Female', 'Qualification': 'B.Tech'}\n"
     ]
    }
   ],
   "source": [
    "#adding a new entry \n",
    "student['gender'] = 'Female'\n",
    "student['Qualification'] = 'B.Tech'\n",
    "print(student)"
   ]
  },
  {
   "cell_type": "code",
   "execution_count": 23,
   "id": "2765c600-9126-439c-95b1-04077fddfe95",
   "metadata": {},
   "outputs": [
    {
     "data": {
      "text/plain": [
       "{'employee_name': 'Himabindu',\n",
       " 'Employee_id': '0029T1',\n",
       " 'location': 'Hyderabad',\n",
       " 'employee_age': 25,\n",
       " 'salary': 50000}"
      ]
     },
     "execution_count": 23,
     "metadata": {},
     "output_type": "execute_result"
    }
   ],
   "source": [
    "dict1 = {'employee_name' : 'Himabindu', 'Employee_id' : '0029T1', 'location': 'Hyderabad'}\n",
    "dict1['employee_age'] = 25\n",
    "dict1['salary'] = 50000\n",
    "dict1"
   ]
  },
  {
   "cell_type": "code",
   "execution_count": 25,
   "id": "19f9c8cc-4c37-4a28-99df-a391f8a30cdd",
   "metadata": {},
   "outputs": [
    {
     "name": "stdout",
     "output_type": "stream",
     "text": [
      "A\n",
      "Female\n",
      "not found\n"
     ]
    }
   ],
   "source": [
    "#Dictionary Methods\n",
    "\n",
    "#1. get():\n",
    "g = student.get('grade')\n",
    "f = student.get('gender', 'not specified')\n",
    "h = student.get('location', 'not found')\n",
    "print(g)\n",
    "print(f)\n",
    "print(h)"
   ]
  },
  {
   "cell_type": "code",
   "execution_count": 29,
   "id": "4e49058f-2877-4516-9059-490ba36e8bd6",
   "metadata": {},
   "outputs": [
    {
     "name": "stdout",
     "output_type": "stream",
     "text": [
      "50000\n",
      "not available\n",
      "Hyderabad\n"
     ]
    }
   ],
   "source": [
    "employee_details = {'employee_name': 'Himabindu',\n",
    " 'Employee_id': '0029T1',\n",
    " 'location': 'Hyderabad',\n",
    " 'employee_age': 25,\n",
    " 'salary': 50000}\n",
    "a = employee_details.get('salary' , 'not found')\n",
    "b = employee_details.get('employee_skills', 'not available')\n",
    "c = employee_details.get('location')\n",
    "print(a)\n",
    "print(b)\n",
    "print(c)"
   ]
  },
  {
   "cell_type": "code",
   "execution_count": 31,
   "id": "0887d932-a1dc-4d87-af8e-e7f4e0e09864",
   "metadata": {},
   "outputs": [
    {
     "name": "stdout",
     "output_type": "stream",
     "text": [
      "dict_keys(['name', 'age', 'grade', 'gender', 'Qualification'])\n"
     ]
    }
   ],
   "source": [
    "#2. key():\n",
    "\n",
    "keys = student.keys()\n",
    "print(keys)"
   ]
  },
  {
   "cell_type": "code",
   "execution_count": 39,
   "id": "1caf9ceb-9dc9-430d-b2d0-4dabb6c2b220",
   "metadata": {},
   "outputs": [
    {
     "name": "stdout",
     "output_type": "stream",
     "text": [
      "dict_keys(['employee_name', 'Employee_id', 'location', 'employee_age', 'salary'])\n"
     ]
    }
   ],
   "source": [
    "keys_employee = employee_details.keys()\n",
    "print(keys_employee)"
   ]
  },
  {
   "cell_type": "code",
   "execution_count": 41,
   "id": "abc474ed-53e5-4e70-b64b-bbc37c204e17",
   "metadata": {},
   "outputs": [
    {
     "name": "stdout",
     "output_type": "stream",
     "text": [
      "dict_values(['sai', 26, 'A', 'Female', 'B.Tech'])\n"
     ]
    }
   ],
   "source": [
    "#3. values():\n",
    "\n",
    "values = student.values()\n",
    "print(values)"
   ]
  },
  {
   "cell_type": "code",
   "execution_count": 43,
   "id": "bb06429c-545e-4d10-a22d-10fbad5dcf6b",
   "metadata": {},
   "outputs": [
    {
     "name": "stdout",
     "output_type": "stream",
     "text": [
      "dict_values(['Himabindu', '0029T1', 'Hyderabad', 25, 50000])\n"
     ]
    }
   ],
   "source": [
    "Values_employee = employee_details.values()\n",
    "print(Values_employee)"
   ]
  },
  {
   "cell_type": "code",
   "execution_count": 45,
   "id": "b67b350d-56d4-44ab-a6ca-163710a983f6",
   "metadata": {},
   "outputs": [
    {
     "name": "stdout",
     "output_type": "stream",
     "text": [
      "dict_items([('name', 'sai'), ('age', 26), ('grade', 'A'), ('gender', 'Female'), ('Qualification', 'B.Tech')])\n"
     ]
    }
   ],
   "source": [
    "#4. items():\n",
    "\n",
    "items = student.items()\n",
    "print(items)"
   ]
  },
  {
   "cell_type": "code",
   "execution_count": 47,
   "id": "b3cbfe7e-c9df-4284-9823-69206fded3c4",
   "metadata": {},
   "outputs": [
    {
     "name": "stdout",
     "output_type": "stream",
     "text": [
      "dict_items([('employee_name', 'Himabindu'), ('Employee_id', '0029T1'), ('location', 'Hyderabad'), ('employee_age', 25), ('salary', 50000)])\n"
     ]
    }
   ],
   "source": [
    "items_list = employee_details.items()\n",
    "print(items_list)"
   ]
  },
  {
   "cell_type": "code",
   "execution_count": 58,
   "id": "ecb83e62-32f5-411f-b97e-6981cf70ddb2",
   "metadata": {},
   "outputs": [
    {
     "name": "stdout",
     "output_type": "stream",
     "text": [
      "25\n",
      "{'name': 'Bindu', 'grades': [85, 95, 90]}\n"
     ]
    }
   ],
   "source": [
    "#5. pop():\n",
    "\n",
    "mixed_dict = { 'name' : 'Bindu', 'age' : 25, 'grades' : [85, 95, 90]}\n",
    "mixed_dict\n",
    "age  = mixed_dict.pop('age')\n",
    "print(age)\n",
    "print(mixed_dict)"
   ]
  },
  {
   "cell_type": "code",
   "execution_count": 60,
   "id": "91efc3cd-fc3b-4857-a19e-ea0a35d1d067",
   "metadata": {},
   "outputs": [
    {
     "ename": "TypeError",
     "evalue": "pop expected at least 1 argument, got 0",
     "output_type": "error",
     "traceback": [
      "\u001b[1;31m---------------------------------------------------------------------------\u001b[0m",
      "\u001b[1;31mTypeError\u001b[0m                                 Traceback (most recent call last)",
      "Cell \u001b[1;32mIn[60], line 1\u001b[0m\n\u001b[1;32m----> 1\u001b[0m name \u001b[38;5;241m=\u001b[39m mixed_dict\u001b[38;5;241m.\u001b[39mpop()\n",
      "\u001b[1;31mTypeError\u001b[0m: pop expected at least 1 argument, got 0"
     ]
    }
   ],
   "source": [
    "name = mixed_dict.pop()"
   ]
  },
  {
   "cell_type": "code",
   "execution_count": 72,
   "id": "426107eb-6815-4812-a137-4236085e2406",
   "metadata": {},
   "outputs": [
    {
     "name": "stdout",
     "output_type": "stream",
     "text": [
      "{'car_company': 'Hyundai', 'car_model': 'Creta', 'car_price': 1300000}\n",
      "Creta\n",
      "{'car_company': 'Hyundai', 'car_price': 1300000}\n"
     ]
    }
   ],
   "source": [
    "car_details = {'car_company': 'Hyundai',\n",
    " 'car_model': 'Creta',\n",
    " 'car_price': 1300000}\n",
    "print(car_details)\n",
    "carmodel = car_details.pop('car_model')\n",
    "print(carmodel)\n",
    "print(car_details)"
   ]
  },
  {
   "cell_type": "code",
   "execution_count": 76,
   "id": "7e3596b7-7092-4387-975a-4c9b40bcb196",
   "metadata": {},
   "outputs": [
    {
     "name": "stdout",
     "output_type": "stream",
     "text": [
      "('Qualification', 'B.Tech')\n",
      "{'name': 'sai', 'age': 26, 'grade': 'A', 'gender': 'Female'}\n"
     ]
    }
   ],
   "source": [
    "#6. popitem() : \n",
    "student = {'name': 'sai', 'age': 26, 'grade': 'A', 'gender': 'Female', 'Qualification': 'B.Tech'}\n",
    "last_item = student.popitem()\n",
    "print(last_item)\n",
    "print(student)"
   ]
  },
  {
   "cell_type": "code",
   "execution_count": 78,
   "id": "2efe1a84-f9bf-42f1-8d5e-b016c5c9eeed",
   "metadata": {},
   "outputs": [
    {
     "name": "stdout",
     "output_type": "stream",
     "text": [
      "('salary', 50000)\n",
      "{'employee_name': 'Himabindu', 'Employee_id': '0029T1', 'location': 'Hyderabad', 'employee_age': 25}\n"
     ]
    }
   ],
   "source": [
    "employee_details = {'employee_name': 'Himabindu',\n",
    " 'Employee_id': '0029T1',\n",
    " 'location': 'Hyderabad',\n",
    " 'employee_age': 25,\n",
    " 'salary': 50000}\n",
    "lastitem = employee_details.popitem()\n",
    "print(lastitem)\n",
    "print(employee_details)"
   ]
  },
  {
   "cell_type": "code",
   "execution_count": 82,
   "id": "ffc54358-2e0a-475a-8f25-7b6b85a2c2a3",
   "metadata": {},
   "outputs": [
    {
     "name": "stdout",
     "output_type": "stream",
     "text": [
      "{'name': 'Himabindu', 'age': 27, 'grade': 'A+'}\n"
     ]
    }
   ],
   "source": [
    "#7. update() : \n",
    "student = {'name': 'Himabindu', 'age': 26, 'grade': 'A'}\n",
    "student\n",
    "new_data = {'age' : 27, 'grade' : 'A+'}\n",
    "student.update(new_data)\n",
    "print(student)"
   ]
  },
  {
   "cell_type": "code",
   "execution_count": 90,
   "id": "16c2f8cf-c11c-4d52-b0be-5e38ecff907a",
   "metadata": {},
   "outputs": [
    {
     "name": "stdout",
     "output_type": "stream",
     "text": [
      "{'brand': 'Hyundai', 'car_model': 'venue', 'car_type': 'diesel', 'mfg_year': 2024}\n"
     ]
    }
   ],
   "source": [
    "car = {'brand' : 'Hyundai', 'car_model' : 'venue', 'car_type' : 'petrol', 'mfg_year' : 2023}\n",
    "car\n",
    "updated_data = {'mfg_year' : 2024, 'car_type' : 'diesel'}\n",
    "car.update(updated_data)\n",
    "print(car)"
   ]
  },
  {
   "cell_type": "code",
   "execution_count": 92,
   "id": "17e61413-4085-40b3-b597-9379670b68e9",
   "metadata": {},
   "outputs": [
    {
     "data": {
      "text/plain": [
       "4"
      ]
     },
     "execution_count": 92,
     "metadata": {},
     "output_type": "execute_result"
    }
   ],
   "source": [
    "#8. len() :\n",
    "\n",
    "car = {'brand' : 'Hyundai', 'car_model' : 'venue', 'car_type' : 'petrol', 'mfg_year' : 2023}\n",
    "len(car)"
   ]
  },
  {
   "cell_type": "code",
   "execution_count": 100,
   "id": "e9c505cb-de16-48cb-b3ac-a5944c844ae7",
   "metadata": {},
   "outputs": [
    {
     "data": {
      "text/plain": [
       "{}"
      ]
     },
     "execution_count": 100,
     "metadata": {},
     "output_type": "execute_result"
    }
   ],
   "source": [
    "#9. clear(): Removes all items from the dictionary.\n",
    "car = {'brand' : 'Hyundai', 'car_model' : 'venue', 'car_type' : 'petrol', 'mfg_year' : 2023}\n",
    "car.clear()\n",
    "car"
   ]
  },
  {
   "cell_type": "code",
   "execution_count": 104,
   "id": "e7515878-4e2a-46f2-b8c7-07daa40036b8",
   "metadata": {},
   "outputs": [
    {
     "name": "stdout",
     "output_type": "stream",
     "text": [
      "{'employee_name': 'Himabindu', 'Employee_id': '0029T1', 'location': 'Hyderabad', 'employee_age': 25, 'salary': 50000}\n"
     ]
    }
   ],
   "source": [
    "#10. copy(): Returns a shallow copy of the dictionary.\n",
    "\n",
    "employee_details = {'employee_name': 'Himabindu',\n",
    " 'Employee_id': '0029T1',\n",
    " 'location': 'Hyderabad',\n",
    " 'employee_age': 25,\n",
    " 'salary': 50000}\n",
    "copy_employee = employee_details.copy()\n",
    "print(copy_employee)"
   ]
  },
  {
   "cell_type": "code",
   "execution_count": 110,
   "id": "1403454c-d1e8-4ac6-b348-cfbc879855c6",
   "metadata": {},
   "outputs": [
    {
     "data": {
      "text/plain": [
       "{'name': 'bindu', 'age': 25, 'city': 'srikakulam', 'occupation': 'student'}"
      ]
     },
     "execution_count": 110,
     "metadata": {},
     "output_type": "execute_result"
    }
   ],
   "source": [
    "#11. setdefault(key, default): Returns the value for the specified key. If the key doesn't exist,\n",
    "#inserts the key with the specified default value and returns it.\n",
    "dict = {'name': 'bindu', 'age': 25, 'city': 'srikakulam'}\n",
    "occupation = dict.setdefault('occupation', 'student')\n",
    "dict"
   ]
  },
  {
   "cell_type": "code",
   "execution_count": 112,
   "id": "da710000-2687-418d-966e-80894522166d",
   "metadata": {},
   "outputs": [
    {
     "name": "stdout",
     "output_type": "stream",
     "text": [
      "{'a': 0, 'b': 0, 'c': 0}\n"
     ]
    }
   ],
   "source": [
    "#12. fromkeys(iterable, value): Creates a new dictionary with keys from iterable and values set to value.\n",
    "\n",
    "keys = ('a', 'b', 'c')\n",
    "d = dict.fromkeys(keys, 0)\n",
    "print(d)"
   ]
  },
  {
   "cell_type": "code",
   "execution_count": null,
   "id": "f39b39c9-ade1-47c8-9422-7b01ea1f7465",
   "metadata": {},
   "outputs": [],
   "source": []
  }
 ],
 "metadata": {
  "kernelspec": {
   "display_name": "Python 3 (ipykernel)",
   "language": "python",
   "name": "python3"
  },
  "language_info": {
   "codemirror_mode": {
    "name": "ipython",
    "version": 3
   },
   "file_extension": ".py",
   "mimetype": "text/x-python",
   "name": "python",
   "nbconvert_exporter": "python",
   "pygments_lexer": "ipython3",
   "version": "3.12.4"
  }
 },
 "nbformat": 4,
 "nbformat_minor": 5
}
